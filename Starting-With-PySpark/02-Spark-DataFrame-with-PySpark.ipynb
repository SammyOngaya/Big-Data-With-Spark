{
 "cells": [
  {
   "cell_type": "markdown",
   "metadata": {},
   "source": [
    "Load required libraries"
   ]
  },
  {
   "cell_type": "code",
   "execution_count": 1,
   "metadata": {},
   "outputs": [],
   "source": [
    "import findspark\n",
    "findspark.init()\n",
    "from pyspark import SparkContext\n",
    "from pyspark.sql import SparkSession"
   ]
  },
  {
   "cell_type": "markdown",
   "metadata": {},
   "source": [
    "Initialize SparkContext"
   ]
  },
  {
   "cell_type": "code",
   "execution_count": 2,
   "metadata": {},
   "outputs": [],
   "source": [
    "sc=SparkContext.getOrCreate()\n",
    "spark=SparkSession(sc)"
   ]
  },
  {
   "cell_type": "markdown",
   "metadata": {},
   "source": [
    "Load data"
   ]
  },
  {
   "cell_type": "code",
   "execution_count": 3,
   "metadata": {},
   "outputs": [],
   "source": [
    "data=spark.read.csv(\"../data/titanic.csv\", inferSchema=True, header=True)"
   ]
  },
  {
   "cell_type": "markdown",
   "metadata": {},
   "source": [
    "Show data schema"
   ]
  },
  {
   "cell_type": "code",
   "execution_count": 4,
   "metadata": {},
   "outputs": [
    {
     "name": "stdout",
     "output_type": "stream",
     "text": [
      "root\n",
      " |-- pclass: integer (nullable = true)\n",
      " |-- survived: integer (nullable = true)\n",
      " |-- name: string (nullable = true)\n",
      " |-- sex: string (nullable = true)\n",
      " |-- age: double (nullable = true)\n",
      " |-- sibsp: integer (nullable = true)\n",
      " |-- parch: integer (nullable = true)\n",
      " |-- ticket: string (nullable = true)\n",
      " |-- fare: double (nullable = true)\n",
      " |-- cabin: string (nullable = true)\n",
      " |-- embarked: string (nullable = true)\n",
      " |-- boat: string (nullable = true)\n",
      " |-- body: integer (nullable = true)\n",
      " |-- home.dest: string (nullable = true)\n",
      "\n"
     ]
    }
   ],
   "source": [
    "data.printSchema()"
   ]
  },
  {
   "cell_type": "markdown",
   "metadata": {},
   "source": [
    "Show data types "
   ]
  },
  {
   "cell_type": "code",
   "execution_count": 5,
   "metadata": {
    "scrolled": true
   },
   "outputs": [
    {
     "data": {
      "text/plain": [
       "[('pclass', 'int'),\n",
       " ('survived', 'int'),\n",
       " ('name', 'string'),\n",
       " ('sex', 'string'),\n",
       " ('age', 'double'),\n",
       " ('sibsp', 'int'),\n",
       " ('parch', 'int'),\n",
       " ('ticket', 'string'),\n",
       " ('fare', 'double'),\n",
       " ('cabin', 'string'),\n",
       " ('embarked', 'string'),\n",
       " ('boat', 'string'),\n",
       " ('body', 'int'),\n",
       " ('home.dest', 'string')]"
      ]
     },
     "execution_count": 5,
     "metadata": {},
     "output_type": "execute_result"
    }
   ],
   "source": [
    "data.dtypes"
   ]
  },
  {
   "cell_type": "markdown",
   "metadata": {},
   "source": [
    "Show logical and physical structure of the DataFrame"
   ]
  },
  {
   "cell_type": "code",
   "execution_count": 6,
   "metadata": {},
   "outputs": [
    {
     "name": "stdout",
     "output_type": "stream",
     "text": [
      "== Physical Plan ==\n",
      "*(1) FileScan csv [pclass#10,survived#11,name#12,sex#13,age#14,sibsp#15,parch#16,ticket#17,fare#18,cabin#19,embarked#20,boat#21,body#22,home.dest#23] Batched: false, Format: CSV, Location: InMemoryFileIndex[file:/C:/Users/songaya/Documents/Data Science/Notebooks/Big-Data-With-Spark/dat..., PartitionFilters: [], PushedFilters: [], ReadSchema: struct<pclass:int,survived:int,name:string,sex:string,age:double,sibsp:int,parch:int,ticket:strin...\n"
     ]
    }
   ],
   "source": [
    "data.explain()"
   ]
  },
  {
   "cell_type": "markdown",
   "metadata": {},
   "source": [
    "show columns"
   ]
  },
  {
   "cell_type": "code",
   "execution_count": 7,
   "metadata": {
    "scrolled": false
   },
   "outputs": [
    {
     "data": {
      "text/plain": [
       "['pclass',\n",
       " 'survived',\n",
       " 'name',\n",
       " 'sex',\n",
       " 'age',\n",
       " 'sibsp',\n",
       " 'parch',\n",
       " 'ticket',\n",
       " 'fare',\n",
       " 'cabin',\n",
       " 'embarked',\n",
       " 'boat',\n",
       " 'body',\n",
       " 'home.dest']"
      ]
     },
     "execution_count": 7,
     "metadata": {},
     "output_type": "execute_result"
    }
   ],
   "source": [
    "data.columns"
   ]
  },
  {
   "cell_type": "markdown",
   "metadata": {},
   "source": [
    "Show top 5 records with head function"
   ]
  },
  {
   "cell_type": "code",
   "execution_count": 8,
   "metadata": {
    "scrolled": true
   },
   "outputs": [
    {
     "data": {
      "text/plain": [
       "[Row(pclass=1, survived=1, name='Allen, Miss. Elisabeth Walton', sex='female', age=29.0, sibsp=0, parch=0, ticket='24160', fare=211.3375, cabin='B5', embarked='S', boat='2', body=None, home.dest='St Louis, MO'),\n",
       " Row(pclass=1, survived=1, name='Allison, Master. Hudson Trevor', sex='male', age=0.9167, sibsp=1, parch=2, ticket='113781', fare=151.55, cabin='C22 C26', embarked='S', boat='11', body=None, home.dest='Montreal, PQ / Chesterville, ON'),\n",
       " Row(pclass=1, survived=0, name='Allison, Miss. Helen Loraine', sex='female', age=2.0, sibsp=1, parch=2, ticket='113781', fare=151.55, cabin='C22 C26', embarked='S', boat=None, body=None, home.dest='Montreal, PQ / Chesterville, ON'),\n",
       " Row(pclass=1, survived=0, name='Allison, Mr. Hudson Joshua Creighton', sex='male', age=30.0, sibsp=1, parch=2, ticket='113781', fare=151.55, cabin='C22 C26', embarked='S', boat=None, body=135, home.dest='Montreal, PQ / Chesterville, ON'),\n",
       " Row(pclass=1, survived=0, name='Allison, Mrs. Hudson J C (Bessie Waldo Daniels)', sex='female', age=25.0, sibsp=1, parch=2, ticket='113781', fare=151.55, cabin='C22 C26', embarked='S', boat=None, body=None, home.dest='Montreal, PQ / Chesterville, ON')]"
      ]
     },
     "execution_count": 8,
     "metadata": {},
     "output_type": "execute_result"
    }
   ],
   "source": [
    "data.head(5)"
   ]
  },
  {
   "cell_type": "markdown",
   "metadata": {},
   "source": [
    "Show top 5 records with show function"
   ]
  },
  {
   "cell_type": "code",
   "execution_count": 9,
   "metadata": {
    "scrolled": true
   },
   "outputs": [
    {
     "name": "stdout",
     "output_type": "stream",
     "text": [
      "+------+--------+--------------------+------+------+-----+-----+------+--------+-------+--------+----+----+--------------------+\n",
      "|pclass|survived|                name|   sex|   age|sibsp|parch|ticket|    fare|  cabin|embarked|boat|body|           home.dest|\n",
      "+------+--------+--------------------+------+------+-----+-----+------+--------+-------+--------+----+----+--------------------+\n",
      "|     1|       1|Allen, Miss. Elis...|female|  29.0|    0|    0| 24160|211.3375|     B5|       S|   2|null|        St Louis, MO|\n",
      "|     1|       1|Allison, Master. ...|  male|0.9167|    1|    2|113781|  151.55|C22 C26|       S|  11|null|Montreal, PQ / Ch...|\n",
      "|     1|       0|Allison, Miss. He...|female|   2.0|    1|    2|113781|  151.55|C22 C26|       S|null|null|Montreal, PQ / Ch...|\n",
      "|     1|       0|Allison, Mr. Huds...|  male|  30.0|    1|    2|113781|  151.55|C22 C26|       S|null| 135|Montreal, PQ / Ch...|\n",
      "|     1|       0|Allison, Mrs. Hud...|female|  25.0|    1|    2|113781|  151.55|C22 C26|       S|null|null|Montreal, PQ / Ch...|\n",
      "+------+--------+--------------------+------+------+-----+-----+------+--------+-------+--------+----+----+--------------------+\n",
      "only showing top 5 rows\n",
      "\n"
     ]
    }
   ],
   "source": [
    "data.show(5)"
   ]
  },
  {
   "cell_type": "markdown",
   "metadata": {},
   "source": [
    "Show top 5 records with take function"
   ]
  },
  {
   "cell_type": "code",
   "execution_count": 10,
   "metadata": {
    "scrolled": true
   },
   "outputs": [
    {
     "data": {
      "text/plain": [
       "[Row(pclass=1, survived=1, name='Allen, Miss. Elisabeth Walton', sex='female', age=29.0, sibsp=0, parch=0, ticket='24160', fare=211.3375, cabin='B5', embarked='S', boat='2', body=None, home.dest='St Louis, MO'),\n",
       " Row(pclass=1, survived=1, name='Allison, Master. Hudson Trevor', sex='male', age=0.9167, sibsp=1, parch=2, ticket='113781', fare=151.55, cabin='C22 C26', embarked='S', boat='11', body=None, home.dest='Montreal, PQ / Chesterville, ON'),\n",
       " Row(pclass=1, survived=0, name='Allison, Miss. Helen Loraine', sex='female', age=2.0, sibsp=1, parch=2, ticket='113781', fare=151.55, cabin='C22 C26', embarked='S', boat=None, body=None, home.dest='Montreal, PQ / Chesterville, ON'),\n",
       " Row(pclass=1, survived=0, name='Allison, Mr. Hudson Joshua Creighton', sex='male', age=30.0, sibsp=1, parch=2, ticket='113781', fare=151.55, cabin='C22 C26', embarked='S', boat=None, body=135, home.dest='Montreal, PQ / Chesterville, ON'),\n",
       " Row(pclass=1, survived=0, name='Allison, Mrs. Hudson J C (Bessie Waldo Daniels)', sex='female', age=25.0, sibsp=1, parch=2, ticket='113781', fare=151.55, cabin='C22 C26', embarked='S', boat=None, body=None, home.dest='Montreal, PQ / Chesterville, ON')]"
      ]
     },
     "execution_count": 10,
     "metadata": {},
     "output_type": "execute_result"
    }
   ],
   "source": [
    "data.take(5)"
   ]
  },
  {
   "cell_type": "markdown",
   "metadata": {},
   "source": [
    "Show data with three features only"
   ]
  },
  {
   "cell_type": "code",
   "execution_count": 11,
   "metadata": {
    "scrolled": false
   },
   "outputs": [
    {
     "name": "stdout",
     "output_type": "stream",
     "text": [
      "+--------------------+------+--------+\n",
      "|                name|   age|survived|\n",
      "+--------------------+------+--------+\n",
      "|Allen, Miss. Elis...|  29.0|       1|\n",
      "|Allison, Master. ...|0.9167|       1|\n",
      "|Allison, Miss. He...|   2.0|       0|\n",
      "|Allison, Mr. Huds...|  30.0|       0|\n",
      "|Allison, Mrs. Hud...|  25.0|       0|\n",
      "+--------------------+------+--------+\n",
      "only showing top 5 rows\n",
      "\n"
     ]
    }
   ],
   "source": [
    "data.select('name','age','survived').show(5)"
   ]
  },
  {
   "cell_type": "markdown",
   "metadata": {},
   "source": [
    "distinct"
   ]
  },
  {
   "cell_type": "code",
   "execution_count": 12,
   "metadata": {},
   "outputs": [
    {
     "name": "stdout",
     "output_type": "stream",
     "text": [
      "+------+\n",
      "|   sex|\n",
      "+------+\n",
      "|  null|\n",
      "|female|\n",
      "|  male|\n",
      "+------+\n",
      "\n"
     ]
    }
   ],
   "source": [
    "data.select('sex').distinct().show()"
   ]
  },
  {
   "cell_type": "code",
   "execution_count": 13,
   "metadata": {
    "scrolled": false
   },
   "outputs": [
    {
     "data": {
      "text/plain": [
       "3"
      ]
     },
     "execution_count": 13,
     "metadata": {},
     "output_type": "execute_result"
    }
   ],
   "source": [
    "data.select('sex').distinct().count()"
   ]
  },
  {
   "cell_type": "code",
   "execution_count": 14,
   "metadata": {},
   "outputs": [
    {
     "name": "stdout",
     "output_type": "stream",
     "text": [
      "+------+-----+\n",
      "|   sex|count|\n",
      "+------+-----+\n",
      "|  null|    1|\n",
      "|female|  466|\n",
      "|  male|  843|\n",
      "+------+-----+\n",
      "\n"
     ]
    }
   ],
   "source": [
    "data.select('sex').groupby('sex').count().show()"
   ]
  },
  {
   "cell_type": "markdown",
   "metadata": {},
   "source": [
    "Show the number of columns"
   ]
  },
  {
   "cell_type": "code",
   "execution_count": 15,
   "metadata": {},
   "outputs": [
    {
     "data": {
      "text/plain": [
       "14"
      ]
     },
     "execution_count": 15,
     "metadata": {},
     "output_type": "execute_result"
    }
   ],
   "source": [
    "len(data.columns)"
   ]
  },
  {
   "cell_type": "markdown",
   "metadata": {},
   "source": [
    "Describe Dataframe for statistical analysis"
   ]
  },
  {
   "cell_type": "code",
   "execution_count": 16,
   "metadata": {},
   "outputs": [
    {
     "name": "stdout",
     "output_type": "stream",
     "text": [
      "+-------+------------------+-------------------+--------------------+------+------------------+------------------+------------------+------------------+-----------------+-----+--------+------------------+-----------------+-------------------+\n",
      "|summary|            pclass|           survived|                name|   sex|               age|             sibsp|             parch|            ticket|             fare|cabin|embarked|              boat|             body|          home.dest|\n",
      "+-------+------------------+-------------------+--------------------+------+------------------+------------------+------------------+------------------+-----------------+-----+--------+------------------+-----------------+-------------------+\n",
      "|  count|              1309|               1309|                1309|  1309|              1046|              1309|              1309|              1309|             1308|  295|    1307|               486|              121|                745|\n",
      "|   mean| 2.294881588999236| 0.3819709702062643|                null|  null|  29.8811345124283|0.4988540870893812|0.3850267379679144| 249039.1368861024|33.29547928134572| null|    null| 9.404522613065327|160.8099173553719|               null|\n",
      "| stddev|0.8378360189701272|0.48605517086648325|                null|  null|14.413499699923596|1.0416583905961012|0.8655602753495143|442685.31767656445|51.75866823917421| null|    null|4.3574169836049395|97.69692199600308|               null|\n",
      "|    min|                 1|                  0|\"Andersson, Mr. A...|female|            0.1667|                 0|                 0|            110152|              0.0|  A10|       C|                 1|                1|      ?Havana, Cuba|\n",
      "|    max|                 3|                  1|van Melkebeke, Mr...|  male|              80.0|                 8|                 9|         WE/P 5735|         512.3292|    T|       S|                 D|              328|Zurich, Switzerland|\n",
      "+-------+------------------+-------------------+--------------------+------+------------------+------------------+------------------+------------------+-----------------+-----+--------+------------------+-----------------+-------------------+\n",
      "\n"
     ]
    }
   ],
   "source": [
    "data.describe().show()"
   ]
  },
  {
   "cell_type": "markdown",
   "metadata": {},
   "source": [
    "Describe single feature for statistical analysis"
   ]
  },
  {
   "cell_type": "code",
   "execution_count": 17,
   "metadata": {},
   "outputs": [
    {
     "name": "stdout",
     "output_type": "stream",
     "text": [
      "+-------+------+\n",
      "|summary|   sex|\n",
      "+-------+------+\n",
      "|  count|  1309|\n",
      "|   mean|  null|\n",
      "| stddev|  null|\n",
      "|    min|female|\n",
      "|    max|  male|\n",
      "+-------+------+\n",
      "\n"
     ]
    }
   ],
   "source": [
    "data.describe('sex').show()"
   ]
  },
  {
   "cell_type": "markdown",
   "metadata": {},
   "source": [
    "Describe several features for statistical analysis"
   ]
  },
  {
   "cell_type": "code",
   "execution_count": 18,
   "metadata": {},
   "outputs": [
    {
     "name": "stdout",
     "output_type": "stream",
     "text": [
      "+-------+-----------------+-------------------+\n",
      "|summary|             fare|           survived|\n",
      "+-------+-----------------+-------------------+\n",
      "|  count|             1308|               1309|\n",
      "|   mean|33.29547928134572| 0.3819709702062643|\n",
      "| stddev|51.75866823917421|0.48605517086648325|\n",
      "|    min|              0.0|                  0|\n",
      "|    max|         512.3292|                  1|\n",
      "+-------+-----------------+-------------------+\n",
      "\n"
     ]
    }
   ],
   "source": [
    "data.describe('fare','survived').show()"
   ]
  },
  {
   "cell_type": "markdown",
   "metadata": {},
   "source": [
    "Adding a new column"
   ]
  },
  {
   "cell_type": "code",
   "execution_count": 19,
   "metadata": {
    "scrolled": true
   },
   "outputs": [
    {
     "name": "stdout",
     "output_type": "stream",
     "text": [
      "+--------------------+------+--------+--------+\n",
      "|                name|pclass|    fare|new_fare|\n",
      "+--------------------+------+--------+--------+\n",
      "|Allen, Miss. Elis...|     1|211.3375|311.3375|\n",
      "|Allison, Master. ...|     1|  151.55|  251.55|\n",
      "|Allison, Miss. He...|     1|  151.55|  251.55|\n",
      "|Allison, Mr. Huds...|     1|  151.55|  251.55|\n",
      "|Allison, Mrs. Hud...|     1|  151.55|  251.55|\n",
      "+--------------------+------+--------+--------+\n",
      "only showing top 5 rows\n",
      "\n"
     ]
    }
   ],
   "source": [
    "data=data.withColumn('new_fare',data['fare']+100) # adding 100 on the base fare to get new fare\n",
    "data.select('name','pclass','fare','new_fare').show(5)"
   ]
  },
  {
   "cell_type": "markdown",
   "metadata": {},
   "source": [
    "Rename a column"
   ]
  },
  {
   "cell_type": "code",
   "execution_count": 20,
   "metadata": {},
   "outputs": [
    {
     "data": {
      "text/plain": [
       "['Passenger_Class',\n",
       " 'survived',\n",
       " 'name',\n",
       " 'sex',\n",
       " 'age',\n",
       " 'sibsp',\n",
       " 'parch',\n",
       " 'ticket',\n",
       " 'fare',\n",
       " 'cabin',\n",
       " 'embarked',\n",
       " 'boat',\n",
       " 'body',\n",
       " 'home.dest',\n",
       " 'new_fare']"
      ]
     },
     "execution_count": 20,
     "metadata": {},
     "output_type": "execute_result"
    }
   ],
   "source": [
    "data=data.withColumnRenamed('pclass','Passenger_Class') # Rename pclass to Passenger_Class\n",
    "data.columns"
   ]
  },
  {
   "cell_type": "markdown",
   "metadata": {},
   "source": [
    "groupby sum"
   ]
  },
  {
   "cell_type": "code",
   "execution_count": 21,
   "metadata": {},
   "outputs": [
    {
     "name": "stdout",
     "output_type": "stream",
     "text": [
      "+------+--------------------+-------------+------------------+----------+----------+------------------+---------+-----------------+\n",
      "|   sex|sum(Passenger_Class)|sum(survived)|          sum(age)|sum(sibsp)|sum(parch)|         sum(fare)|sum(body)|    sum(new_fare)|\n",
      "+------+--------------------+-------------+------------------+----------+----------+------------------+---------+-----------------+\n",
      "|  null|                null|         null|              null|      null|      null|              null|     null|             null|\n",
      "|female|                1004|          339|        11130.5834|       304|       295|21528.313000000027|     1333|68128.31300000001|\n",
      "|  male|                2000|          161|20125.083300000002|       349|       209|22022.173899999896|    18125|106222.1739000003|\n",
      "+------+--------------------+-------------+------------------+----------+----------+------------------+---------+-----------------+\n",
      "\n"
     ]
    }
   ],
   "source": [
    "data.groupby('sex').sum().show()"
   ]
  },
  {
   "cell_type": "markdown",
   "metadata": {},
   "source": [
    "groupby mean"
   ]
  },
  {
   "cell_type": "code",
   "execution_count": 22,
   "metadata": {},
   "outputs": [
    {
     "name": "stdout",
     "output_type": "stream",
     "text": [
      "+------+--------------------+-------------------+------------------+------------------+------------------+------------------+------------------+------------------+\n",
      "|   sex|avg(Passenger_Class)|      avg(survived)|          avg(age)|        avg(sibsp)|        avg(parch)|         avg(fare)|         avg(body)|     avg(new_fare)|\n",
      "+------+--------------------+-------------------+------------------+------------------+------------------+------------------+------------------+------------------+\n",
      "|  null|                null|               null|              null|              null|              null|              null|              null|              null|\n",
      "|female|  2.1545064377682404| 0.7274678111587983|  28.6870706185567|0.6523605150214592|0.6330472103004292| 46.19809656652367|           166.625|146.19809656652362|\n",
      "|  male|   2.372479240806643|0.19098457888493475|30.585232978723408|0.4139976275207592|0.2479240806642942|26.154600831353797|160.39823008849558|126.15460083135427|\n",
      "+------+--------------------+-------------------+------------------+------------------+------------------+------------------+------------------+------------------+\n",
      "\n"
     ]
    }
   ],
   "source": [
    "data.groupby('sex').mean().show()"
   ]
  },
  {
   "cell_type": "code",
   "execution_count": 23,
   "metadata": {},
   "outputs": [
    {
     "name": "stdout",
     "output_type": "stream",
     "text": [
      "+------+------------------+\n",
      "|   sex|         avg(fare)|\n",
      "+------+------------------+\n",
      "|  null|              null|\n",
      "|female| 46.19809656652367|\n",
      "|  male|26.154600831353797|\n",
      "+------+------------------+\n",
      "\n"
     ]
    }
   ],
   "source": [
    "data.select('sex','fare').groupby('sex').mean().show()"
   ]
  },
  {
   "cell_type": "markdown",
   "metadata": {},
   "source": [
    "pivot"
   ]
  },
  {
   "cell_type": "code",
   "execution_count": 24,
   "metadata": {
    "scrolled": true
   },
   "outputs": [
    {
     "name": "stdout",
     "output_type": "stream",
     "text": [
      "+------+----+----+----+\n",
      "|   sex|null|   0|   1|\n",
      "+------+----+----+----+\n",
      "|  null|null|null|null|\n",
      "|female|null|   0| 339|\n",
      "|  male|null|   0| 161|\n",
      "+------+----+----+----+\n",
      "\n"
     ]
    }
   ],
   "source": [
    "data.select('sex','survived').groupby('sex').pivot('survived').sum().show()"
   ]
  },
  {
   "cell_type": "markdown",
   "metadata": {},
   "source": [
    "Drop columns"
   ]
  },
  {
   "cell_type": "code",
   "execution_count": 25,
   "metadata": {},
   "outputs": [
    {
     "data": {
      "text/plain": [
       "['Passenger_Class',\n",
       " 'survived',\n",
       " 'name',\n",
       " 'sex',\n",
       " 'age',\n",
       " 'sibsp',\n",
       " 'parch',\n",
       " 'ticket',\n",
       " 'fare',\n",
       " 'cabin',\n",
       " 'embarked',\n",
       " 'boat',\n",
       " 'body',\n",
       " 'home.dest',\n",
       " 'new_fare']"
      ]
     },
     "execution_count": 25,
     "metadata": {},
     "output_type": "execute_result"
    }
   ],
   "source": [
    "data.columns"
   ]
  },
  {
   "cell_type": "code",
   "execution_count": 26,
   "metadata": {
    "scrolled": true
   },
   "outputs": [
    {
     "data": {
      "text/plain": [
       "['Passenger_Class',\n",
       " 'survived',\n",
       " 'name',\n",
       " 'sex',\n",
       " 'age',\n",
       " 'sibsp',\n",
       " 'parch',\n",
       " 'ticket',\n",
       " 'fare',\n",
       " 'cabin',\n",
       " 'embarked',\n",
       " 'boat',\n",
       " 'body']"
      ]
     },
     "execution_count": 26,
     "metadata": {},
     "output_type": "execute_result"
    }
   ],
   "source": [
    "# Lets new_fare and home.dest columns\n",
    "data=data.drop('new_fare','home.dest')\n",
    "data.columns"
   ]
  },
  {
   "cell_type": "markdown",
   "metadata": {},
   "source": [
    "Show null values for in fare column"
   ]
  },
  {
   "cell_type": "code",
   "execution_count": 27,
   "metadata": {
    "scrolled": true
   },
   "outputs": [
    {
     "name": "stdout",
     "output_type": "stream",
     "text": [
      "+----+\n",
      "|fare|\n",
      "+----+\n",
      "|null|\n",
      "|null|\n",
      "+----+\n",
      "\n"
     ]
    }
   ],
   "source": [
    "data.select('fare').where('fare is null').show()"
   ]
  },
  {
   "cell_type": "markdown",
   "metadata": {},
   "source": [
    "Drop null values"
   ]
  },
  {
   "cell_type": "code",
   "execution_count": 28,
   "metadata": {
    "scrolled": true
   },
   "outputs": [
    {
     "name": "stdout",
     "output_type": "stream",
     "text": [
      "+----+\n",
      "|fare|\n",
      "+----+\n",
      "+----+\n",
      "\n"
     ]
    }
   ],
   "source": [
    "drop_null_df=data.dropna()\n",
    "drop_null_df.select('fare').where('body is null').show()"
   ]
  },
  {
   "cell_type": "markdown",
   "metadata": {},
   "source": [
    "Replace null with specific value"
   ]
  },
  {
   "cell_type": "code",
   "execution_count": 29,
   "metadata": {
    "scrolled": false
   },
   "outputs": [
    {
     "name": "stdout",
     "output_type": "stream",
     "text": [
      "+--------------------+----+\n",
      "|                name|fare|\n",
      "+--------------------+----+\n",
      "|Andrews, Mr. Thom...| 0.0|\n",
      "|Chisholm, Mr. Rod...| 0.0|\n",
      "|    Fry, Mr. Richard| 0.0|\n",
      "|Harrison, Mr. Wil...| 0.0|\n",
      "|Ismay, Mr. Joseph...| 0.0|\n",
      "|Parr, Mr. William...| 0.0|\n",
      "|Reuchlin, Jonkhee...| 0.0|\n",
      "|Campbell, Mr. Wil...| 0.0|\n",
      "|Cunningham, Mr. A...| 0.0|\n",
      "|\"Frost, Mr. Antho...| 0.0|\n",
      "|Knight, Mr. Robert J| 0.0|\n",
      "|\"Parkes, Mr. Fran...| 0.0|\n",
      "|Watson, Mr. Ennis...| 0.0|\n",
      "| Johnson, Mr. Alfred| 0.0|\n",
      "|Johnson, Mr. Will...| 0.0|\n",
      "| Leonard, Mr. Lionel| 0.0|\n",
      "|  Storey, Mr. Thomas| 0.0|\n",
      "|Tornquist, Mr. Wi...| 0.0|\n",
      "|                null| 0.0|\n",
      "+--------------------+----+\n",
      "\n"
     ]
    }
   ],
   "source": [
    "replace_null_df=data.fillna(0.00) # Replace fare null values with 0.00 \n",
    "replace_null_df.filter(replace_null_df['fare']==0.00).select('name','fare').show()"
   ]
  },
  {
   "cell_type": "markdown",
   "metadata": {},
   "source": [
    "Using \"like\""
   ]
  },
  {
   "cell_type": "code",
   "execution_count": 30,
   "metadata": {},
   "outputs": [
    {
     "name": "stdout",
     "output_type": "stream",
     "text": [
      "+--------------------+---------------+\n",
      "|                name|name LIKE Allen|\n",
      "+--------------------+---------------+\n",
      "|Allen, Miss. Elis...|          false|\n",
      "|Allison, Master. ...|          false|\n",
      "|Allison, Miss. He...|          false|\n",
      "|Allison, Mr. Huds...|          false|\n",
      "|Allison, Mrs. Hud...|          false|\n",
      "+--------------------+---------------+\n",
      "only showing top 5 rows\n",
      "\n"
     ]
    }
   ],
   "source": [
    "data.select(\"name\",data.name.like(\"Allen\")) .show(5)"
   ]
  },
  {
   "cell_type": "markdown",
   "metadata": {},
   "source": [
    "Using \"startswith\""
   ]
  },
  {
   "cell_type": "code",
   "execution_count": 31,
   "metadata": {
    "scrolled": false
   },
   "outputs": [
    {
     "name": "stdout",
     "output_type": "stream",
     "text": [
      "+--------------------+---------------------+\n",
      "|                name|startswith(name, All)|\n",
      "+--------------------+---------------------+\n",
      "|Allen, Miss. Elis...|                 true|\n",
      "|Allison, Master. ...|                 true|\n",
      "|Allison, Miss. He...|                 true|\n",
      "|Allison, Mr. Huds...|                 true|\n",
      "|Allison, Mrs. Hud...|                 true|\n",
      "+--------------------+---------------------+\n",
      "only showing top 5 rows\n",
      "\n"
     ]
    }
   ],
   "source": [
    "data.select(\"name\",data.name.startswith(\"All\")).show(5)"
   ]
  },
  {
   "cell_type": "markdown",
   "metadata": {},
   "source": [
    "Using \"endswith\""
   ]
  },
  {
   "cell_type": "code",
   "execution_count": 32,
   "metadata": {},
   "outputs": [
    {
     "name": "stdout",
     "output_type": "stream",
     "text": [
      "+--------------------+-----------------+\n",
      "|                name|endswith(name, n)|\n",
      "+--------------------+-----------------+\n",
      "|Allen, Miss. Elis...|             true|\n",
      "|Allison, Master. ...|            false|\n",
      "|Allison, Miss. He...|            false|\n",
      "|Allison, Mr. Huds...|             true|\n",
      "|Allison, Mrs. Hud...|            false|\n",
      "+--------------------+-----------------+\n",
      "only showing top 5 rows\n",
      "\n"
     ]
    }
   ],
   "source": [
    "data.select('name',data.name.endswith('n')).show(5)"
   ]
  },
  {
   "cell_type": "markdown",
   "metadata": {},
   "source": [
    "Using \"between\""
   ]
  },
  {
   "cell_type": "code",
   "execution_count": 33,
   "metadata": {
    "scrolled": false
   },
   "outputs": [
    {
     "name": "stdout",
     "output_type": "stream",
     "text": [
      "+------+-----------------------------+\n",
      "|   age|((age >= 40) AND (age <= 50))|\n",
      "+------+-----------------------------+\n",
      "|  29.0|                        false|\n",
      "|0.9167|                        false|\n",
      "|   2.0|                        false|\n",
      "|  30.0|                        false|\n",
      "|  25.0|                        false|\n",
      "|  48.0|                         true|\n",
      "|  63.0|                        false|\n",
      "|  39.0|                        false|\n",
      "|  53.0|                        false|\n",
      "|  71.0|                        false|\n",
      "+------+-----------------------------+\n",
      "only showing top 10 rows\n",
      "\n"
     ]
    }
   ],
   "source": [
    "data.select('age',data.age.between(40,50)).show(10)"
   ]
  },
  {
   "cell_type": "markdown",
   "metadata": {},
   "source": [
    "Using \"contains\""
   ]
  },
  {
   "cell_type": "code",
   "execution_count": 34,
   "metadata": {},
   "outputs": [
    {
     "name": "stdout",
     "output_type": "stream",
     "text": [
      "+--------------------+-------------------+\n",
      "|                name|contains(name, All)|\n",
      "+--------------------+-------------------+\n",
      "|Allen, Miss. Elis...|               true|\n",
      "|Allison, Master. ...|               true|\n",
      "|Allison, Miss. He...|               true|\n",
      "|Allison, Mr. Huds...|               true|\n",
      "|Allison, Mrs. Hud...|               true|\n",
      "+--------------------+-------------------+\n",
      "only showing top 5 rows\n",
      "\n"
     ]
    }
   ],
   "source": [
    "data.select('name',data.name.contains('All')).show(5)"
   ]
  },
  {
   "cell_type": "markdown",
   "metadata": {},
   "source": [
    "Using \"substr\""
   ]
  },
  {
   "cell_type": "code",
   "execution_count": 35,
   "metadata": {
    "scrolled": true
   },
   "outputs": [
    {
     "name": "stdout",
     "output_type": "stream",
     "text": [
      "+--------------------+---------------------+\n",
      "|                name|substring(name, 0, 5)|\n",
      "+--------------------+---------------------+\n",
      "|Allen, Miss. Elis...|                Allen|\n",
      "|Allison, Master. ...|                Allis|\n",
      "|Allison, Miss. He...|                Allis|\n",
      "|Allison, Mr. Huds...|                Allis|\n",
      "|Allison, Mrs. Hud...|                Allis|\n",
      "| Anderson, Mr. Harry|                Ander|\n",
      "|Andrews, Miss. Ko...|                Andre|\n",
      "|Andrews, Mr. Thom...|                Andre|\n",
      "|Appleton, Mrs. Ed...|                Apple|\n",
      "|Artagaveytia, Mr....|                Artag|\n",
      "+--------------------+---------------------+\n",
      "only showing top 10 rows\n",
      "\n"
     ]
    }
   ],
   "source": [
    "data.select('name',data['name'].substr(0,5)).show(10)"
   ]
  },
  {
   "cell_type": "markdown",
   "metadata": {},
   "source": [
    "Using alias"
   ]
  },
  {
   "cell_type": "code",
   "execution_count": 36,
   "metadata": {},
   "outputs": [
    {
     "name": "stdout",
     "output_type": "stream",
     "text": [
      "+--------------------+-------------------------+\n",
      "|                name|First 5 String Characters|\n",
      "+--------------------+-------------------------+\n",
      "|Allen, Miss. Elis...|                    Allen|\n",
      "|Allison, Master. ...|                    Allis|\n",
      "|Allison, Miss. He...|                    Allis|\n",
      "|Allison, Mr. Huds...|                    Allis|\n",
      "|Allison, Mrs. Hud...|                    Allis|\n",
      "| Anderson, Mr. Harry|                    Ander|\n",
      "|Andrews, Miss. Ko...|                    Andre|\n",
      "|Andrews, Mr. Thom...|                    Andre|\n",
      "|Appleton, Mrs. Ed...|                    Apple|\n",
      "|Artagaveytia, Mr....|                    Artag|\n",
      "+--------------------+-------------------------+\n",
      "only showing top 10 rows\n",
      "\n"
     ]
    }
   ],
   "source": [
    "data.select('name',data['name'].substr(0,5).alias('First 5 String Characters')).show(10)"
   ]
  },
  {
   "cell_type": "markdown",
   "metadata": {},
   "source": [
    "Using conditional operators in filter"
   ]
  },
  {
   "cell_type": "code",
   "execution_count": 37,
   "metadata": {
    "scrolled": true
   },
   "outputs": [
    {
     "name": "stdout",
     "output_type": "stream",
     "text": [
      "+--------------------+----+\n",
      "|                name| age|\n",
      "+--------------------+----+\n",
      "| Anderson, Mr. Harry|48.0|\n",
      "|Astor, Col. John ...|47.0|\n",
      "|Baxter, Mrs. Jame...|50.0|\n",
      "|Beckwith, Mrs. Ri...|47.0|\n",
      "|Bidois, Miss. Ros...|42.0|\n",
      "+--------------------+----+\n",
      "only showing top 5 rows\n",
      "\n"
     ]
    }
   ],
   "source": [
    "data.filter((data.age>=40) & (data.age<=50)).select('name','age').show(5)"
   ]
  },
  {
   "cell_type": "markdown",
   "metadata": {},
   "source": [
    "Using \"startswith\" in filter"
   ]
  },
  {
   "cell_type": "code",
   "execution_count": 38,
   "metadata": {
    "scrolled": false
   },
   "outputs": [
    {
     "name": "stdout",
     "output_type": "stream",
     "text": [
      "+--------------------+\n",
      "|                name|\n",
      "+--------------------+\n",
      "|Allen, Miss. Elis...|\n",
      "|Allison, Master. ...|\n",
      "|Allison, Miss. He...|\n",
      "|Allison, Mr. Huds...|\n",
      "|Allison, Mrs. Hud...|\n",
      "|Allen, Mr. Willia...|\n",
      "|Allum, Mr. Owen G...|\n",
      "+--------------------+\n",
      "\n"
     ]
    }
   ],
   "source": [
    "data.filter(data.name.startswith(\"All\")).select('name').show()"
   ]
  },
  {
   "cell_type": "markdown",
   "metadata": {},
   "source": [
    "Using \"contains\" in filter"
   ]
  },
  {
   "cell_type": "code",
   "execution_count": 39,
   "metadata": {
    "scrolled": true
   },
   "outputs": [
    {
     "name": "stdout",
     "output_type": "stream",
     "text": [
      "+--------------------+\n",
      "|                name|\n",
      "+--------------------+\n",
      "|Allison, Master. ...|\n",
      "|Carter, Master. W...|\n",
      "|Dodge, Master. Wa...|\n",
      "|Ryerson, Master. ...|\n",
      "|Spedden, Master. ...|\n",
      "+--------------------+\n",
      "only showing top 5 rows\n",
      "\n"
     ]
    }
   ],
   "source": [
    "data.filter(data['name'].contains('Master')).select('name').show(5)"
   ]
  },
  {
   "cell_type": "code",
   "execution_count": 40,
   "metadata": {},
   "outputs": [],
   "source": [
    "# sc.stop()"
   ]
  }
 ],
 "metadata": {
  "kernelspec": {
   "display_name": "Python 3",
   "language": "python",
   "name": "python3"
  },
  "language_info": {
   "codemirror_mode": {
    "name": "ipython",
    "version": 3
   },
   "file_extension": ".py",
   "mimetype": "text/x-python",
   "name": "python",
   "nbconvert_exporter": "python",
   "pygments_lexer": "ipython3",
   "version": "3.6.5"
  }
 },
 "nbformat": 4,
 "nbformat_minor": 2
}
