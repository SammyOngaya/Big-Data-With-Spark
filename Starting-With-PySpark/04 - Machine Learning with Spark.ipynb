{
 "cells": [
  {
   "cell_type": "markdown",
   "metadata": {},
   "source": [
    "### Import Libraries"
   ]
  },
  {
   "cell_type": "markdown",
   "metadata": {},
   "source": [
    "Use Jupyter Notebook as Spark IDE"
   ]
  },
  {
   "cell_type": "code",
   "execution_count": 1,
   "metadata": {},
   "outputs": [],
   "source": [
    "import findspark\n",
    "findspark.init()"
   ]
  },
  {
   "cell_type": "markdown",
   "metadata": {},
   "source": [
    "Import required libraries"
   ]
  },
  {
   "cell_type": "code",
   "execution_count": 2,
   "metadata": {},
   "outputs": [],
   "source": [
    "from pyspark import SparkContext\n",
    "from pyspark.sql import SparkSession"
   ]
  },
  {
   "cell_type": "code",
   "execution_count": 3,
   "metadata": {},
   "outputs": [],
   "source": [
    "sc=SparkContext.getOrCreate()\n",
    "ss=SparkSession(sc)"
   ]
  },
  {
   "cell_type": "markdown",
   "metadata": {},
   "source": [
    "### Load Data"
   ]
  },
  {
   "cell_type": "markdown",
   "metadata": {},
   "source": [
    "Load data"
   ]
  },
  {
   "cell_type": "code",
   "execution_count": 4,
   "metadata": {},
   "outputs": [],
   "source": [
    "data=ss.read.csv(\"../data/titanic.csv\",inferSchema=True, header=True)"
   ]
  },
  {
   "cell_type": "code",
   "execution_count": 5,
   "metadata": {},
   "outputs": [],
   "source": [
    "# data.cache() "
   ]
  },
  {
   "cell_type": "markdown",
   "metadata": {},
   "source": [
    "Get data structure"
   ]
  },
  {
   "cell_type": "code",
   "execution_count": 6,
   "metadata": {},
   "outputs": [
    {
     "name": "stdout",
     "output_type": "stream",
     "text": [
      "root\n",
      " |-- pclass: integer (nullable = true)\n",
      " |-- survived: integer (nullable = true)\n",
      " |-- name: string (nullable = true)\n",
      " |-- sex: string (nullable = true)\n",
      " |-- age: double (nullable = true)\n",
      " |-- sibsp: integer (nullable = true)\n",
      " |-- parch: integer (nullable = true)\n",
      " |-- ticket: string (nullable = true)\n",
      " |-- fare: double (nullable = true)\n",
      " |-- cabin: string (nullable = true)\n",
      " |-- embarked: string (nullable = true)\n",
      " |-- boat: string (nullable = true)\n",
      " |-- body: integer (nullable = true)\n",
      " |-- home.dest: string (nullable = true)\n",
      "\n"
     ]
    }
   ],
   "source": [
    "data.printSchema()"
   ]
  },
  {
   "cell_type": "markdown",
   "metadata": {},
   "source": [
    "Get first 5 records"
   ]
  },
  {
   "cell_type": "code",
   "execution_count": 7,
   "metadata": {},
   "outputs": [
    {
     "name": "stdout",
     "output_type": "stream",
     "text": [
      "+------+--------+--------------------+------+------+-----+-----+------+--------+-------+--------+----+----+--------------------+\n",
      "|pclass|survived|                name|   sex|   age|sibsp|parch|ticket|    fare|  cabin|embarked|boat|body|           home.dest|\n",
      "+------+--------+--------------------+------+------+-----+-----+------+--------+-------+--------+----+----+--------------------+\n",
      "|     1|       1|Allen, Miss. Elis...|female|  29.0|    0|    0| 24160|211.3375|     B5|       S|   2|null|        St Louis, MO|\n",
      "|     1|       1|Allison, Master. ...|  male|0.9167|    1|    2|113781|  151.55|C22 C26|       S|  11|null|Montreal, PQ / Ch...|\n",
      "|     1|       0|Allison, Miss. He...|female|   2.0|    1|    2|113781|  151.55|C22 C26|       S|null|null|Montreal, PQ / Ch...|\n",
      "|     1|       0|Allison, Mr. Huds...|  male|  30.0|    1|    2|113781|  151.55|C22 C26|       S|null| 135|Montreal, PQ / Ch...|\n",
      "|     1|       0|Allison, Mrs. Hud...|female|  25.0|    1|    2|113781|  151.55|C22 C26|       S|null|null|Montreal, PQ / Ch...|\n",
      "+------+--------+--------------------+------+------+-----+-----+------+--------+-------+--------+----+----+--------------------+\n",
      "only showing top 5 rows\n",
      "\n"
     ]
    }
   ],
   "source": [
    "data.show(5)"
   ]
  },
  {
   "cell_type": "code",
   "execution_count": 8,
   "metadata": {},
   "outputs": [
    {
     "data": {
      "text/plain": [
       "['pclass',\n",
       " 'survived',\n",
       " 'name',\n",
       " 'sex',\n",
       " 'age',\n",
       " 'sibsp',\n",
       " 'parch',\n",
       " 'ticket',\n",
       " 'fare',\n",
       " 'cabin',\n",
       " 'embarked',\n",
       " 'boat',\n",
       " 'body',\n",
       " 'home.dest']"
      ]
     },
     "execution_count": 8,
     "metadata": {},
     "output_type": "execute_result"
    }
   ],
   "source": [
    "data.columns"
   ]
  },
  {
   "cell_type": "markdown",
   "metadata": {},
   "source": [
    "Describe the data"
   ]
  },
  {
   "cell_type": "code",
   "execution_count": 9,
   "metadata": {},
   "outputs": [
    {
     "name": "stdout",
     "output_type": "stream",
     "text": [
      "-RECORD 0-------------------------\n",
      " summary   | count                \n",
      " pclass    | 1309                 \n",
      " survived  | 1309                 \n",
      " name      | 1309                 \n",
      " sex       | 1309                 \n",
      " age       | 1046                 \n",
      " sibsp     | 1309                 \n",
      " parch     | 1309                 \n",
      " ticket    | 1309                 \n",
      " fare      | 1308                 \n",
      " cabin     | 295                  \n",
      " embarked  | 1307                 \n",
      " boat      | 486                  \n",
      " body      | 121                  \n",
      " home.dest | 745                  \n",
      "-RECORD 1-------------------------\n",
      " summary   | mean                 \n",
      " pclass    | 2.294881588999236    \n",
      " survived  | 0.3819709702062643   \n",
      " name      | null                 \n",
      " sex       | null                 \n",
      " age       | 29.8811345124283     \n",
      " sibsp     | 0.4988540870893812   \n",
      " parch     | 0.3850267379679144   \n",
      " ticket    | 249039.1368861024    \n",
      " fare      | 33.29547928134572    \n",
      " cabin     | null                 \n",
      " embarked  | null                 \n",
      " boat      | 9.404522613065327    \n",
      " body      | 160.8099173553719    \n",
      " home.dest | null                 \n",
      "-RECORD 2-------------------------\n",
      " summary   | stddev               \n",
      " pclass    | 0.8378360189701272   \n",
      " survived  | 0.48605517086648325  \n",
      " name      | null                 \n",
      " sex       | null                 \n",
      " age       | 14.413499699923596   \n",
      " sibsp     | 1.0416583905961012   \n",
      " parch     | 0.8655602753495143   \n",
      " ticket    | 442685.31767656445   \n",
      " fare      | 51.75866823917421    \n",
      " cabin     | null                 \n",
      " embarked  | null                 \n",
      " boat      | 4.3574169836049395   \n",
      " body      | 97.69692199600308    \n",
      " home.dest | null                 \n",
      "-RECORD 3-------------------------\n",
      " summary   | min                  \n",
      " pclass    | 1                    \n",
      " survived  | 0                    \n",
      " name      | \"Andersson, Mr. A... \n",
      " sex       | female               \n",
      " age       | 0.1667               \n",
      " sibsp     | 0                    \n",
      " parch     | 0                    \n",
      " ticket    | 110152               \n",
      " fare      | 0.0                  \n",
      " cabin     | A10                  \n",
      " embarked  | C                    \n",
      " boat      | 1                    \n",
      " body      | 1                    \n",
      " home.dest | ?Havana, Cuba        \n",
      "-RECORD 4-------------------------\n",
      " summary   | max                  \n",
      " pclass    | 3                    \n",
      " survived  | 1                    \n",
      " name      | van Melkebeke, Mr... \n",
      " sex       | male                 \n",
      " age       | 80.0                 \n",
      " sibsp     | 8                    \n",
      " parch     | 9                    \n",
      " ticket    | WE/P 5735            \n",
      " fare      | 512.3292             \n",
      " cabin     | T                    \n",
      " embarked  | S                    \n",
      " boat      | D                    \n",
      " body      | 328                  \n",
      " home.dest | Zurich, Switzerland  \n",
      "\n"
     ]
    }
   ],
   "source": [
    "data.describe().show(truncate=True, vertical=True)"
   ]
  },
  {
   "cell_type": "markdown",
   "metadata": {},
   "source": [
    "### Preprocess Data"
   ]
  },
  {
   "cell_type": "markdown",
   "metadata": {},
   "source": [
    "Rename columns"
   ]
  },
  {
   "cell_type": "code",
   "execution_count": 10,
   "metadata": {},
   "outputs": [],
   "source": [
    "data=data.withColumnRenamed('home.dest','homedest')"
   ]
  },
  {
   "cell_type": "markdown",
   "metadata": {},
   "source": [
    "Check for missing values"
   ]
  },
  {
   "cell_type": "code",
   "execution_count": 11,
   "metadata": {},
   "outputs": [
    {
     "name": "stdout",
     "output_type": "stream",
     "text": [
      "pclass 1\n",
      "survived 1\n",
      "name 1\n",
      "sex 1\n",
      "age 264\n",
      "sibsp 1\n",
      "parch 1\n",
      "ticket 1\n",
      "fare 2\n",
      "cabin 1015\n",
      "embarked 3\n",
      "boat 824\n",
      "body 1189\n",
      "homedest 565\n"
     ]
    }
   ],
   "source": [
    "from pyspark.sql import functions\n",
    "for i in data.columns:\n",
    "    print(i,data.where(functions.col(i).isNull()).count())"
   ]
  },
  {
   "cell_type": "markdown",
   "metadata": {},
   "source": [
    "Get records with missing data for sex column"
   ]
  },
  {
   "cell_type": "code",
   "execution_count": 12,
   "metadata": {},
   "outputs": [
    {
     "name": "stdout",
     "output_type": "stream",
     "text": [
      "+------+--------+--------------------+------+----+-----+-----+--------+--------+-----+--------+----+----+--------------------+\n",
      "|pclass|survived|                name|   sex| age|sibsp|parch|  ticket|    fare|cabin|embarked|boat|body|            homedest|\n",
      "+------+--------+--------------------+------+----+-----+-----+--------+--------+-----+--------+----+----+--------------------+\n",
      "|     1|       0| Baumann, Mr. John D|  male|null|    0|    0|PC 17318|  25.925| null|       S|null|null|        New York, NY|\n",
      "|     1|       1|\"Bradley, Mr. Geo...|  male|null|    0|    0|  111427|   26.55| null|       S|   9|null|     Los Angeles, CA|\n",
      "|     1|       0|Brewe, Dr. Arthur...|  male|null|    0|    0|  112379|    39.6| null|       C|null|null|    Philadelphia, PA|\n",
      "|     1|       0|Cairns, Mr. Alexa...|  male|null|    0|    0|  113798|    31.0| null|       S|null|null|                null|\n",
      "|     1|       1|Cassebeer, Mrs. H...|female|null|    0|    0|   17770| 27.7208| null|       C|   5|null|        New York, NY|\n",
      "|     1|       1|Chibnall, Mrs. (E...|female|null|    0|    1|  113505|    55.0|  E33|       S|   6|null|St Leonards-on-Se...|\n",
      "|     1|       0|Chisholm, Mr. Rod...|  male|null|    0|    0|  112051|     0.0| null|       S|null|null|Liverpool, Englan...|\n",
      "|     1|       0|Clifford, Mr. Geo...|  male|null|    0|    0|  110465|    52.0|  A14|       S|null|null|       Stoughton, MA|\n",
      "|     1|       0|Crafton, Mr. John...|  male|null|    0|    0|  113791|   26.55| null|       S|null|null|       Roachdale, IN|\n",
      "|     1|       0|  Farthing, Mr. John|  male|null|    0|    0|PC 17483|221.7792|  C95|       S|null|null|                null|\n",
      "|     1|       1|Flegenheim, Mrs. ...|female|null|    0|    0|PC 17598| 31.6833| null|       S|   7|null|        New York, NY|\n",
      "|     1|       1|Fleming, Miss. Ma...|female|null|    0|    0|   17421|110.8833| null|       C|   4|null|                null|\n",
      "|     1|       0|Franklin, Mr. Tho...|  male|null|    0|    0|  113778|   26.55|  D34|       S|null|null|Westcliff-on-Sea,...|\n",
      "|     1|       1|Frauenthal, Mrs. ...|female|null|    1|    0|PC 17611|  133.65| null|       S|   5|null|        New York, NY|\n",
      "|     1|       0|    Fry, Mr. Richard|  male|null|    0|    0|  112058|     0.0| B102|       S|null|null|                null|\n",
      "|     1|       1|Goldenberg, Mrs. ...|female|null|    1|    0|   17453| 89.1042|  C92|       C|   5|null|Paris, France / N...|\n",
      "|     1|       0|Harrington, Mr. C...|  male|null|    0|    0|  113796|    42.4| null|       S|null|null|                null|\n",
      "|     1|       1|Hawksford, Mr. Wa...|  male|null|    0|    0|   16988|    30.0|  D45|       S|   3|null|    Kingston, Surrey|\n",
      "|     1|       0|Hilliard, Mr. Her...|  male|null|    0|    0|   17463| 51.8625|  E46|       S|null|null|        Brighton, MA|\n",
      "|     1|       0|Hoyt, Mr. William...|  male|null|    0|    0|PC 17600| 30.6958| null|       C|  14|null|        New York, NY|\n",
      "+------+--------+--------------------+------+----+-----+-----+--------+--------+-----+--------+----+----+--------------------+\n",
      "only showing top 20 rows\n",
      "\n"
     ]
    }
   ],
   "source": [
    "data.where(data['age'].isNull()).show()"
   ]
  },
  {
   "cell_type": "markdown",
   "metadata": {},
   "source": [
    "Check Data Type"
   ]
  },
  {
   "cell_type": "code",
   "execution_count": 13,
   "metadata": {},
   "outputs": [
    {
     "data": {
      "text/plain": [
       "[('pclass', 'int'),\n",
       " ('survived', 'int'),\n",
       " ('name', 'string'),\n",
       " ('sex', 'string'),\n",
       " ('age', 'double'),\n",
       " ('sibsp', 'int'),\n",
       " ('parch', 'int'),\n",
       " ('ticket', 'string'),\n",
       " ('fare', 'double'),\n",
       " ('cabin', 'string'),\n",
       " ('embarked', 'string'),\n",
       " ('boat', 'string'),\n",
       " ('body', 'int'),\n",
       " ('homedest', 'string')]"
      ]
     },
     "execution_count": 13,
     "metadata": {},
     "output_type": "execute_result"
    }
   ],
   "source": [
    "data.dtypes"
   ]
  },
  {
   "cell_type": "markdown",
   "metadata": {},
   "source": [
    "Get the mean age"
   ]
  },
  {
   "cell_type": "code",
   "execution_count": 22,
   "metadata": {},
   "outputs": [
    {
     "data": {
      "text/plain": [
       "23.85928755725191"
      ]
     },
     "execution_count": 22,
     "metadata": {},
     "output_type": "execute_result"
    }
   ],
   "source": [
    "from pyspark.sql.functions import mean\n",
    "data.select(mean('age')).collect()[0][0]"
   ]
  },
  {
   "cell_type": "markdown",
   "metadata": {},
   "source": [
    "Impute missing age value with mean age"
   ]
  },
  {
   "cell_type": "code",
   "execution_count": 23,
   "metadata": {},
   "outputs": [],
   "source": [
    "data=data.na.fill(data.select(mean('age')).collect()[0][0],subset=['age'])"
   ]
  },
  {
   "cell_type": "code",
   "execution_count": 24,
   "metadata": {},
   "outputs": [
    {
     "name": "stdout",
     "output_type": "stream",
     "text": [
      "+------+--------+----+---+---+-----+-----+------+----+-----+--------+----+----+--------+---------+--------------+\n",
      "|pclass|survived|name|sex|age|sibsp|parch|ticket|fare|cabin|embarked|boat|body|homedest|sex_index|embarked_index|\n",
      "+------+--------+----+---+---+-----+-----+------+----+-----+--------+----+----+--------+---------+--------------+\n",
      "+------+--------+----+---+---+-----+-----+------+----+-----+--------+----+----+--------+---------+--------------+\n",
      "\n"
     ]
    }
   ],
   "source": [
    "# Check missing age records\n",
    "data.where(data['age'].isNull()).show()"
   ]
  },
  {
   "cell_type": "markdown",
   "metadata": {},
   "source": [
    "Convert string to numeric type"
   ]
  },
  {
   "cell_type": "code",
   "execution_count": 19,
   "metadata": {},
   "outputs": [
    {
     "data": {
      "text/plain": [
       "[('pclass', 'int'),\n",
       " ('survived', 'int'),\n",
       " ('name', 'string'),\n",
       " ('sex', 'string'),\n",
       " ('age', 'double'),\n",
       " ('sibsp', 'int'),\n",
       " ('parch', 'int'),\n",
       " ('ticket', 'string'),\n",
       " ('fare', 'double'),\n",
       " ('cabin', 'string'),\n",
       " ('embarked', 'string'),\n",
       " ('boat', 'string'),\n",
       " ('body', 'int'),\n",
       " ('homedest', 'string'),\n",
       " ('sex_index', 'double'),\n",
       " ('embarked_index', 'double')]"
      ]
     },
     "execution_count": 19,
     "metadata": {},
     "output_type": "execute_result"
    }
   ],
   "source": [
    "data=data.na.fill('N',subset=['embarked'])\n",
    "# data=data.withColumn('sex',data.sex.cast('int'))\n",
    "data.dtypes"
   ]
  },
  {
   "cell_type": "code",
   "execution_count": 16,
   "metadata": {},
   "outputs": [],
   "source": [
    "from pyspark.ml import Pipeline\n",
    "from pyspark.ml.feature import StringIndexer\n",
    "\n",
    "indexers = [StringIndexer(inputCol=column, outputCol=column+\"_index\").fit(data) for column in [\"sex\",\"embarked\"]]\n",
    "pipeline = Pipeline(stages=indexers)\n",
    "data = pipeline.fit(data).transform(data)\n"
   ]
  },
  {
   "cell_type": "code",
   "execution_count": 17,
   "metadata": {
    "scrolled": false
   },
   "outputs": [
    {
     "name": "stdout",
     "output_type": "stream",
     "text": [
      "-RECORD 0------------------------------\n",
      " pclass         | 1                    \n",
      " survived       | 1                    \n",
      " name           | Allen, Miss. Elis... \n",
      " sex            | female               \n",
      " age            | 29.0                 \n",
      " sibsp          | 0                    \n",
      " parch          | 0                    \n",
      " ticket         | 24160                \n",
      " fare           | 211.3375             \n",
      " cabin          | B5                   \n",
      " embarked       | S                    \n",
      " boat           | 2                    \n",
      " body           | null                 \n",
      " homedest       | St Louis, MO         \n",
      " sex_index      | 1.0                  \n",
      " embarked_index | 0.0                  \n",
      "-RECORD 1------------------------------\n",
      " pclass         | 1                    \n",
      " survived       | 1                    \n",
      " name           | Allison, Master. ... \n",
      " sex            | male                 \n",
      " age            | 0.9167               \n",
      " sibsp          | 1                    \n",
      " parch          | 2                    \n",
      " ticket         | 113781               \n",
      " fare           | 151.55               \n",
      " cabin          | C22 C26              \n",
      " embarked       | S                    \n",
      " boat           | 11                   \n",
      " body           | null                 \n",
      " homedest       | Montreal, PQ / Ch... \n",
      " sex_index      | 0.0                  \n",
      " embarked_index | 0.0                  \n",
      "-RECORD 2------------------------------\n",
      " pclass         | 1                    \n",
      " survived       | 0                    \n",
      " name           | Allison, Miss. He... \n",
      " sex            | female               \n",
      " age            | 2.0                  \n",
      " sibsp          | 1                    \n",
      " parch          | 2                    \n",
      " ticket         | 113781               \n",
      " fare           | 151.55               \n",
      " cabin          | C22 C26              \n",
      " embarked       | S                    \n",
      " boat           | null                 \n",
      " body           | null                 \n",
      " homedest       | Montreal, PQ / Ch... \n",
      " sex_index      | 1.0                  \n",
      " embarked_index | 0.0                  \n",
      "-RECORD 3------------------------------\n",
      " pclass         | 1                    \n",
      " survived       | 0                    \n",
      " name           | Allison, Mr. Huds... \n",
      " sex            | male                 \n",
      " age            | 30.0                 \n",
      " sibsp          | 1                    \n",
      " parch          | 2                    \n",
      " ticket         | 113781               \n",
      " fare           | 151.55               \n",
      " cabin          | C22 C26              \n",
      " embarked       | S                    \n",
      " boat           | null                 \n",
      " body           | 135                  \n",
      " homedest       | Montreal, PQ / Ch... \n",
      " sex_index      | 0.0                  \n",
      " embarked_index | 0.0                  \n",
      "-RECORD 4------------------------------\n",
      " pclass         | 1                    \n",
      " survived       | 0                    \n",
      " name           | Allison, Mrs. Hud... \n",
      " sex            | female               \n",
      " age            | 25.0                 \n",
      " sibsp          | 1                    \n",
      " parch          | 2                    \n",
      " ticket         | 113781               \n",
      " fare           | 151.55               \n",
      " cabin          | C22 C26              \n",
      " embarked       | S                    \n",
      " boat           | null                 \n",
      " body           | null                 \n",
      " homedest       | Montreal, PQ / Ch... \n",
      " sex_index      | 1.0                  \n",
      " embarked_index | 0.0                  \n",
      "-RECORD 5------------------------------\n",
      " pclass         | 1                    \n",
      " survived       | 1                    \n",
      " name           | Anderson, Mr. Harry  \n",
      " sex            | male                 \n",
      " age            | 48.0                 \n",
      " sibsp          | 0                    \n",
      " parch          | 0                    \n",
      " ticket         | 19952                \n",
      " fare           | 26.55                \n",
      " cabin          | E12                  \n",
      " embarked       | S                    \n",
      " boat           | 3                    \n",
      " body           | null                 \n",
      " homedest       | New York, NY         \n",
      " sex_index      | 0.0                  \n",
      " embarked_index | 0.0                  \n",
      "-RECORD 6------------------------------\n",
      " pclass         | 1                    \n",
      " survived       | 1                    \n",
      " name           | Andrews, Miss. Ko... \n",
      " sex            | female               \n",
      " age            | 63.0                 \n",
      " sibsp          | 1                    \n",
      " parch          | 0                    \n",
      " ticket         | 13502                \n",
      " fare           | 77.9583              \n",
      " cabin          | D7                   \n",
      " embarked       | S                    \n",
      " boat           | 10                   \n",
      " body           | null                 \n",
      " homedest       | Hudson, NY           \n",
      " sex_index      | 1.0                  \n",
      " embarked_index | 0.0                  \n",
      "-RECORD 7------------------------------\n",
      " pclass         | 1                    \n",
      " survived       | 0                    \n",
      " name           | Andrews, Mr. Thom... \n",
      " sex            | male                 \n",
      " age            | 39.0                 \n",
      " sibsp          | 0                    \n",
      " parch          | 0                    \n",
      " ticket         | 112050               \n",
      " fare           | 0.0                  \n",
      " cabin          | A36                  \n",
      " embarked       | S                    \n",
      " boat           | null                 \n",
      " body           | null                 \n",
      " homedest       | Belfast, NI          \n",
      " sex_index      | 0.0                  \n",
      " embarked_index | 0.0                  \n",
      "-RECORD 8------------------------------\n",
      " pclass         | 1                    \n",
      " survived       | 1                    \n",
      " name           | Appleton, Mrs. Ed... \n",
      " sex            | female               \n",
      " age            | 53.0                 \n",
      " sibsp          | 2                    \n",
      " parch          | 0                    \n",
      " ticket         | 11769                \n",
      " fare           | 51.4792              \n",
      " cabin          | C101                 \n",
      " embarked       | S                    \n",
      " boat           | D                    \n",
      " body           | null                 \n",
      " homedest       | Bayside, Queens, NY  \n",
      " sex_index      | 1.0                  \n",
      " embarked_index | 0.0                  \n",
      "-RECORD 9------------------------------\n",
      " pclass         | 1                    \n",
      " survived       | 0                    \n",
      " name           | Artagaveytia, Mr.... \n",
      " sex            | male                 \n",
      " age            | 71.0                 \n",
      " sibsp          | 0                    \n",
      " parch          | 0                    \n",
      " ticket         | PC 17609             \n",
      " fare           | 49.5042              \n",
      " cabin          | null                 \n",
      " embarked       | C                    \n",
      " boat           | null                 \n",
      " body           | 22                   \n",
      " homedest       | Montevideo, Uruguay  \n",
      " sex_index      | 0.0                  \n",
      " embarked_index | 1.0                  \n",
      "-RECORD 10-----------------------------\n",
      " pclass         | 1                    \n",
      " survived       | 0                    \n",
      " name           | Astor, Col. John ... \n",
      " sex            | male                 \n",
      " age            | 47.0                 \n",
      " sibsp          | 1                    \n",
      " parch          | 0                    \n",
      " ticket         | PC 17757             \n",
      " fare           | 227.525              \n",
      " cabin          | C62 C64              \n",
      " embarked       | C                    \n",
      " boat           | null                 \n",
      " body           | 124                  \n",
      " homedest       | New York, NY         \n",
      " sex_index      | 0.0                  \n",
      " embarked_index | 1.0                  \n",
      "-RECORD 11-----------------------------\n",
      " pclass         | 1                    \n",
      " survived       | 1                    \n",
      " name           | Astor, Mrs. John ... \n",
      " sex            | female               \n",
      " age            | 18.0                 \n",
      " sibsp          | 1                    \n",
      " parch          | 0                    \n",
      " ticket         | PC 17757             \n",
      " fare           | 227.525              \n",
      " cabin          | C62 C64              \n",
      " embarked       | C                    \n",
      " boat           | 4                    \n",
      " body           | null                 \n",
      " homedest       | New York, NY         \n",
      " sex_index      | 1.0                  \n",
      " embarked_index | 1.0                  \n",
      "-RECORD 12-----------------------------\n",
      " pclass         | 1                    \n",
      " survived       | 1                    \n",
      " name           | Aubart, Mme. Leon... \n",
      " sex            | female               \n",
      " age            | 24.0                 \n",
      " sibsp          | 0                    \n",
      " parch          | 0                    \n",
      " ticket         | PC 17477             \n",
      " fare           | 69.3                 \n",
      " cabin          | B35                  \n",
      " embarked       | C                    \n",
      " boat           | 9                    \n",
      " body           | null                 \n",
      " homedest       | Paris, France        \n",
      " sex_index      | 1.0                  \n",
      " embarked_index | 1.0                  \n",
      "-RECORD 13-----------------------------\n",
      " pclass         | 1                    \n",
      " survived       | 1                    \n",
      " name           | \"Barber, Miss. El... \n",
      " sex            | female               \n",
      " age            | 26.0                 \n",
      " sibsp          | 0                    \n",
      " parch          | 0                    \n",
      " ticket         | 19877                \n",
      " fare           | 78.85                \n",
      " cabin          | null                 \n",
      " embarked       | S                    \n",
      " boat           | 6                    \n",
      " body           | null                 \n",
      " homedest       | null                 \n",
      " sex_index      | 1.0                  \n",
      " embarked_index | 0.0                  \n",
      "-RECORD 14-----------------------------\n",
      " pclass         | 1                    \n",
      " survived       | 1                    \n",
      " name           | Barkworth, Mr. Al... \n",
      " sex            | male                 \n",
      " age            | 80.0                 \n",
      " sibsp          | 0                    \n",
      " parch          | 0                    \n",
      " ticket         | 27042                \n",
      " fare           | 30.0                 \n",
      " cabin          | A23                  \n",
      " embarked       | S                    \n",
      " boat           | B                    \n",
      " body           | null                 \n",
      " homedest       | Hessle, Yorks        \n",
      " sex_index      | 0.0                  \n",
      " embarked_index | 0.0                  \n",
      "-RECORD 15-----------------------------\n",
      " pclass         | 1                    \n",
      " survived       | 0                    \n",
      " name           | Baumann, Mr. John D  \n",
      " sex            | male                 \n",
      " age            | null                 \n",
      " sibsp          | 0                    \n",
      " parch          | 0                    \n",
      " ticket         | PC 17318             \n",
      " fare           | 25.925               \n",
      " cabin          | null                 \n",
      " embarked       | S                    \n",
      " boat           | null                 \n",
      " body           | null                 \n",
      " homedest       | New York, NY         \n",
      " sex_index      | 0.0                  \n",
      " embarked_index | 0.0                  \n",
      "-RECORD 16-----------------------------\n",
      " pclass         | 1                    \n",
      " survived       | 0                    \n",
      " name           | Baxter, Mr. Quigg... \n",
      " sex            | male                 \n",
      " age            | 24.0                 \n",
      " sibsp          | 0                    \n",
      " parch          | 1                    \n",
      " ticket         | PC 17558             \n",
      " fare           | 247.5208             \n",
      " cabin          | B58 B60              \n",
      " embarked       | C                    \n",
      " boat           | null                 \n",
      " body           | null                 \n",
      " homedest       | Montreal, PQ         \n",
      " sex_index      | 0.0                  \n",
      " embarked_index | 1.0                  \n",
      "-RECORD 17-----------------------------\n",
      " pclass         | 1                    \n",
      " survived       | 1                    \n",
      " name           | Baxter, Mrs. Jame... \n",
      " sex            | female               \n",
      " age            | 50.0                 \n",
      " sibsp          | 0                    \n",
      " parch          | 1                    \n",
      " ticket         | PC 17558             \n",
      " fare           | 247.5208             \n",
      " cabin          | B58 B60              \n",
      " embarked       | C                    \n",
      " boat           | 6                    \n",
      " body           | null                 \n",
      " homedest       | Montreal, PQ         \n",
      " sex_index      | 1.0                  \n",
      " embarked_index | 1.0                  \n",
      "-RECORD 18-----------------------------\n",
      " pclass         | 1                    \n",
      " survived       | 1                    \n",
      " name           | Bazzani, Miss. Al... \n",
      " sex            | female               \n",
      " age            | 32.0                 \n",
      " sibsp          | 0                    \n",
      " parch          | 0                    \n",
      " ticket         | 11813                \n",
      " fare           | 76.2917              \n",
      " cabin          | D15                  \n",
      " embarked       | C                    \n",
      " boat           | 8                    \n",
      " body           | null                 \n",
      " homedest       | null                 \n",
      " sex_index      | 1.0                  \n",
      " embarked_index | 1.0                  \n",
      "-RECORD 19-----------------------------\n",
      " pclass         | 1                    \n",
      " survived       | 0                    \n",
      " name           | Beattie, Mr. Thomson \n",
      " sex            | male                 \n",
      " age            | 36.0                 \n",
      " sibsp          | 0                    \n",
      " parch          | 0                    \n",
      " ticket         | 13050                \n",
      " fare           | 75.2417              \n",
      " cabin          | C6                   \n",
      " embarked       | C                    \n",
      " boat           | A                    \n",
      " body           | null                 \n",
      " homedest       | Winnipeg, MN         \n",
      " sex_index      | 0.0                  \n",
      " embarked_index | 1.0                  \n",
      "only showing top 20 rows\n",
      "\n"
     ]
    }
   ],
   "source": [
    "data.show(vertical=True)"
   ]
  },
  {
   "cell_type": "markdown",
   "metadata": {},
   "source": [
    "Create Feature"
   ]
  },
  {
   "cell_type": "code",
   "execution_count": 18,
   "metadata": {},
   "outputs": [],
   "source": [
    "feature=['pclass','sibsp','parch']"
   ]
  }
 ],
 "metadata": {
  "kernelspec": {
   "display_name": "Python 3",
   "language": "python",
   "name": "python3"
  },
  "language_info": {
   "codemirror_mode": {
    "name": "ipython",
    "version": 3
   },
   "file_extension": ".py",
   "mimetype": "text/x-python",
   "name": "python",
   "nbconvert_exporter": "python",
   "pygments_lexer": "ipython3",
   "version": "3.6.5"
  }
 },
 "nbformat": 4,
 "nbformat_minor": 2
}
