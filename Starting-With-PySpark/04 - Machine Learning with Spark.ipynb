{
 "cells": [
  {
   "cell_type": "markdown",
   "metadata": {},
   "source": [
    "### Import Libraries"
   ]
  },
  {
   "cell_type": "markdown",
   "metadata": {},
   "source": [
    "Use Jupyter Notebook as Spark IDE"
   ]
  },
  {
   "cell_type": "code",
   "execution_count": 1,
   "metadata": {},
   "outputs": [],
   "source": [
    "import findspark\n",
    "findspark.init()"
   ]
  },
  {
   "cell_type": "markdown",
   "metadata": {},
   "source": [
    "Import required libraries"
   ]
  },
  {
   "cell_type": "code",
   "execution_count": 2,
   "metadata": {},
   "outputs": [],
   "source": [
    "from pyspark import SparkContext\n",
    "from pyspark.sql import SparkSession"
   ]
  },
  {
   "cell_type": "code",
   "execution_count": 3,
   "metadata": {},
   "outputs": [],
   "source": [
    "sc=SparkContext.getOrCreate()\n",
    "ss=SparkSession(sc)"
   ]
  },
  {
   "cell_type": "markdown",
   "metadata": {},
   "source": [
    "### Load Data"
   ]
  },
  {
   "cell_type": "markdown",
   "metadata": {},
   "source": [
    "Load data"
   ]
  },
  {
   "cell_type": "code",
   "execution_count": 4,
   "metadata": {},
   "outputs": [],
   "source": [
    "data=ss.read.csv(\"../data/titanic.csv\",inferSchema=True, header=True)"
   ]
  },
  {
   "cell_type": "code",
   "execution_count": 5,
   "metadata": {},
   "outputs": [],
   "source": [
    "# data.cache() "
   ]
  },
  {
   "cell_type": "markdown",
   "metadata": {},
   "source": [
    "Get data structure"
   ]
  },
  {
   "cell_type": "code",
   "execution_count": 6,
   "metadata": {},
   "outputs": [
    {
     "name": "stdout",
     "output_type": "stream",
     "text": [
      "root\n",
      " |-- pclass: integer (nullable = true)\n",
      " |-- survived: integer (nullable = true)\n",
      " |-- name: string (nullable = true)\n",
      " |-- sex: string (nullable = true)\n",
      " |-- age: double (nullable = true)\n",
      " |-- sibsp: integer (nullable = true)\n",
      " |-- parch: integer (nullable = true)\n",
      " |-- ticket: string (nullable = true)\n",
      " |-- fare: double (nullable = true)\n",
      " |-- cabin: string (nullable = true)\n",
      " |-- embarked: string (nullable = true)\n",
      " |-- boat: string (nullable = true)\n",
      " |-- body: integer (nullable = true)\n",
      " |-- home.dest: string (nullable = true)\n",
      "\n"
     ]
    }
   ],
   "source": [
    "data.printSchema()"
   ]
  },
  {
   "cell_type": "markdown",
   "metadata": {},
   "source": [
    "Get first 5 records"
   ]
  },
  {
   "cell_type": "code",
   "execution_count": 7,
   "metadata": {},
   "outputs": [
    {
     "name": "stdout",
     "output_type": "stream",
     "text": [
      "+------+--------+--------------------+------+------+-----+-----+------+--------+-------+--------+----+----+--------------------+\n",
      "|pclass|survived|                name|   sex|   age|sibsp|parch|ticket|    fare|  cabin|embarked|boat|body|           home.dest|\n",
      "+------+--------+--------------------+------+------+-----+-----+------+--------+-------+--------+----+----+--------------------+\n",
      "|     1|       1|Allen, Miss. Elis...|female|  29.0|    0|    0| 24160|211.3375|     B5|       S|   2|null|        St Louis, MO|\n",
      "|     1|       1|Allison, Master. ...|  male|0.9167|    1|    2|113781|  151.55|C22 C26|       S|  11|null|Montreal, PQ / Ch...|\n",
      "|     1|       0|Allison, Miss. He...|female|   2.0|    1|    2|113781|  151.55|C22 C26|       S|null|null|Montreal, PQ / Ch...|\n",
      "|     1|       0|Allison, Mr. Huds...|  male|  30.0|    1|    2|113781|  151.55|C22 C26|       S|null| 135|Montreal, PQ / Ch...|\n",
      "|     1|       0|Allison, Mrs. Hud...|female|  25.0|    1|    2|113781|  151.55|C22 C26|       S|null|null|Montreal, PQ / Ch...|\n",
      "+------+--------+--------------------+------+------+-----+-----+------+--------+-------+--------+----+----+--------------------+\n",
      "only showing top 5 rows\n",
      "\n"
     ]
    }
   ],
   "source": [
    "data.show(5)"
   ]
  },
  {
   "cell_type": "code",
   "execution_count": 8,
   "metadata": {},
   "outputs": [
    {
     "data": {
      "text/plain": [
       "['pclass',\n",
       " 'survived',\n",
       " 'name',\n",
       " 'sex',\n",
       " 'age',\n",
       " 'sibsp',\n",
       " 'parch',\n",
       " 'ticket',\n",
       " 'fare',\n",
       " 'cabin',\n",
       " 'embarked',\n",
       " 'boat',\n",
       " 'body',\n",
       " 'home.dest']"
      ]
     },
     "execution_count": 8,
     "metadata": {},
     "output_type": "execute_result"
    }
   ],
   "source": [
    "data.columns"
   ]
  },
  {
   "cell_type": "markdown",
   "metadata": {},
   "source": [
    "Describe the data"
   ]
  },
  {
   "cell_type": "code",
   "execution_count": 9,
   "metadata": {},
   "outputs": [
    {
     "name": "stdout",
     "output_type": "stream",
     "text": [
      "-RECORD 0-------------------------\n",
      " summary   | count                \n",
      " pclass    | 1309                 \n",
      " survived  | 1309                 \n",
      " name      | 1309                 \n",
      " sex       | 1309                 \n",
      " age       | 1046                 \n",
      " sibsp     | 1309                 \n",
      " parch     | 1309                 \n",
      " ticket    | 1309                 \n",
      " fare      | 1308                 \n",
      " cabin     | 295                  \n",
      " embarked  | 1307                 \n",
      " boat      | 486                  \n",
      " body      | 121                  \n",
      " home.dest | 745                  \n",
      "-RECORD 1-------------------------\n",
      " summary   | mean                 \n",
      " pclass    | 2.294881588999236    \n",
      " survived  | 0.3819709702062643   \n",
      " name      | null                 \n",
      " sex       | null                 \n",
      " age       | 29.8811345124283     \n",
      " sibsp     | 0.4988540870893812   \n",
      " parch     | 0.3850267379679144   \n",
      " ticket    | 249039.1368861024    \n",
      " fare      | 33.29547928134572    \n",
      " cabin     | null                 \n",
      " embarked  | null                 \n",
      " boat      | 9.404522613065327    \n",
      " body      | 160.8099173553719    \n",
      " home.dest | null                 \n",
      "-RECORD 2-------------------------\n",
      " summary   | stddev               \n",
      " pclass    | 0.8378360189701272   \n",
      " survived  | 0.48605517086648325  \n",
      " name      | null                 \n",
      " sex       | null                 \n",
      " age       | 14.413499699923596   \n",
      " sibsp     | 1.0416583905961012   \n",
      " parch     | 0.8655602753495143   \n",
      " ticket    | 442685.31767656445   \n",
      " fare      | 51.75866823917421    \n",
      " cabin     | null                 \n",
      " embarked  | null                 \n",
      " boat      | 4.3574169836049395   \n",
      " body      | 97.69692199600308    \n",
      " home.dest | null                 \n",
      "-RECORD 3-------------------------\n",
      " summary   | min                  \n",
      " pclass    | 1                    \n",
      " survived  | 0                    \n",
      " name      | \"Andersson, Mr. A... \n",
      " sex       | female               \n",
      " age       | 0.1667               \n",
      " sibsp     | 0                    \n",
      " parch     | 0                    \n",
      " ticket    | 110152               \n",
      " fare      | 0.0                  \n",
      " cabin     | A10                  \n",
      " embarked  | C                    \n",
      " boat      | 1                    \n",
      " body      | 1                    \n",
      " home.dest | ?Havana, Cuba        \n",
      "-RECORD 4-------------------------\n",
      " summary   | max                  \n",
      " pclass    | 3                    \n",
      " survived  | 1                    \n",
      " name      | van Melkebeke, Mr... \n",
      " sex       | male                 \n",
      " age       | 80.0                 \n",
      " sibsp     | 8                    \n",
      " parch     | 9                    \n",
      " ticket    | WE/P 5735            \n",
      " fare      | 512.3292             \n",
      " cabin     | T                    \n",
      " embarked  | S                    \n",
      " boat      | D                    \n",
      " body      | 328                  \n",
      " home.dest | Zurich, Switzerland  \n",
      "\n"
     ]
    }
   ],
   "source": [
    "data.describe().show(truncate=True, vertical=True)"
   ]
  },
  {
   "cell_type": "markdown",
   "metadata": {},
   "source": [
    "### Preprocess Data"
   ]
  },
  {
   "cell_type": "markdown",
   "metadata": {},
   "source": [
    "Rename columns"
   ]
  },
  {
   "cell_type": "code",
   "execution_count": 10,
   "metadata": {},
   "outputs": [],
   "source": [
    "data=data.withColumnRenamed('home.dest','homedest')"
   ]
  },
  {
   "cell_type": "markdown",
   "metadata": {},
   "source": [
    "Check for missing values"
   ]
  },
  {
   "cell_type": "code",
   "execution_count": 11,
   "metadata": {},
   "outputs": [
    {
     "name": "stdout",
     "output_type": "stream",
     "text": [
      "pclass 1\n",
      "survived 1\n",
      "name 1\n",
      "sex 1\n",
      "age 264\n",
      "sibsp 1\n",
      "parch 1\n",
      "ticket 1\n",
      "fare 2\n",
      "cabin 1015\n",
      "embarked 3\n",
      "boat 824\n",
      "body 1189\n",
      "homedest 565\n"
     ]
    }
   ],
   "source": [
    "from pyspark.sql import functions\n",
    "for i in data.columns:\n",
    "    print(i,data.where(functions.col(i).isNull()).count())"
   ]
  },
  {
   "cell_type": "markdown",
   "metadata": {},
   "source": [
    "Get records with missing data column"
   ]
  },
  {
   "cell_type": "code",
   "execution_count": 12,
   "metadata": {},
   "outputs": [
    {
     "name": "stdout",
     "output_type": "stream",
     "text": [
      "+------+--------+--------------------+------+----+-----+-----+--------+--------+-----+--------+----+----+--------------------+\n",
      "|pclass|survived|                name|   sex| age|sibsp|parch|  ticket|    fare|cabin|embarked|boat|body|            homedest|\n",
      "+------+--------+--------------------+------+----+-----+-----+--------+--------+-----+--------+----+----+--------------------+\n",
      "|     1|       0| Baumann, Mr. John D|  male|null|    0|    0|PC 17318|  25.925| null|       S|null|null|        New York, NY|\n",
      "|     1|       1|\"Bradley, Mr. Geo...|  male|null|    0|    0|  111427|   26.55| null|       S|   9|null|     Los Angeles, CA|\n",
      "|     1|       0|Brewe, Dr. Arthur...|  male|null|    0|    0|  112379|    39.6| null|       C|null|null|    Philadelphia, PA|\n",
      "|     1|       0|Cairns, Mr. Alexa...|  male|null|    0|    0|  113798|    31.0| null|       S|null|null|                null|\n",
      "|     1|       1|Cassebeer, Mrs. H...|female|null|    0|    0|   17770| 27.7208| null|       C|   5|null|        New York, NY|\n",
      "|     1|       1|Chibnall, Mrs. (E...|female|null|    0|    1|  113505|    55.0|  E33|       S|   6|null|St Leonards-on-Se...|\n",
      "|     1|       0|Chisholm, Mr. Rod...|  male|null|    0|    0|  112051|     0.0| null|       S|null|null|Liverpool, Englan...|\n",
      "|     1|       0|Clifford, Mr. Geo...|  male|null|    0|    0|  110465|    52.0|  A14|       S|null|null|       Stoughton, MA|\n",
      "|     1|       0|Crafton, Mr. John...|  male|null|    0|    0|  113791|   26.55| null|       S|null|null|       Roachdale, IN|\n",
      "|     1|       0|  Farthing, Mr. John|  male|null|    0|    0|PC 17483|221.7792|  C95|       S|null|null|                null|\n",
      "|     1|       1|Flegenheim, Mrs. ...|female|null|    0|    0|PC 17598| 31.6833| null|       S|   7|null|        New York, NY|\n",
      "|     1|       1|Fleming, Miss. Ma...|female|null|    0|    0|   17421|110.8833| null|       C|   4|null|                null|\n",
      "|     1|       0|Franklin, Mr. Tho...|  male|null|    0|    0|  113778|   26.55|  D34|       S|null|null|Westcliff-on-Sea,...|\n",
      "|     1|       1|Frauenthal, Mrs. ...|female|null|    1|    0|PC 17611|  133.65| null|       S|   5|null|        New York, NY|\n",
      "|     1|       0|    Fry, Mr. Richard|  male|null|    0|    0|  112058|     0.0| B102|       S|null|null|                null|\n",
      "|     1|       1|Goldenberg, Mrs. ...|female|null|    1|    0|   17453| 89.1042|  C92|       C|   5|null|Paris, France / N...|\n",
      "|     1|       0|Harrington, Mr. C...|  male|null|    0|    0|  113796|    42.4| null|       S|null|null|                null|\n",
      "|     1|       1|Hawksford, Mr. Wa...|  male|null|    0|    0|   16988|    30.0|  D45|       S|   3|null|    Kingston, Surrey|\n",
      "|     1|       0|Hilliard, Mr. Her...|  male|null|    0|    0|   17463| 51.8625|  E46|       S|null|null|        Brighton, MA|\n",
      "|     1|       0|Hoyt, Mr. William...|  male|null|    0|    0|PC 17600| 30.6958| null|       C|  14|null|        New York, NY|\n",
      "+------+--------+--------------------+------+----+-----+-----+--------+--------+-----+--------+----+----+--------------------+\n",
      "only showing top 20 rows\n",
      "\n"
     ]
    }
   ],
   "source": [
    "data.where(data['age'].isNull()).show()"
   ]
  },
  {
   "cell_type": "code",
   "execution_count": 13,
   "metadata": {},
   "outputs": [
    {
     "name": "stdout",
     "output_type": "stream",
     "text": [
      "+------+--------+--------------------+------+----+-----+-----+------+----+-----+--------+----+----+--------------+\n",
      "|pclass|survived|                name|   sex| age|sibsp|parch|ticket|fare|cabin|embarked|boat|body|      homedest|\n",
      "+------+--------+--------------------+------+----+-----+-----+------+----+-----+--------+----+----+--------------+\n",
      "|     1|       1| Icard, Miss. Amelie|female|38.0|    0|    0|113572|80.0|  B28|    null|   6|null|          null|\n",
      "|     1|       1|Stone, Mrs. Georg...|female|62.0|    0|    0|113572|80.0|  B28|    null|   6|null|Cincinatti, OH|\n",
      "|  null|    null|                null|  null|null| null| null|  null|null| null|    null|null|null|          null|\n",
      "+------+--------+--------------------+------+----+-----+-----+------+----+-----+--------+----+----+--------------+\n",
      "\n"
     ]
    }
   ],
   "source": [
    "data.where(data['embarked'].isNull()).show()"
   ]
  },
  {
   "cell_type": "code",
   "execution_count": 14,
   "metadata": {},
   "outputs": [
    {
     "name": "stdout",
     "output_type": "stream",
     "text": [
      "+------+--------+--------------------+------+----+-----+-----+--------+-------+-----+--------+----+----+-------------------+\n",
      "|pclass|survived|                name|   sex| age|sibsp|parch|  ticket|   fare|cabin|embarked|boat|body|           homedest|\n",
      "+------+--------+--------------------+------+----+-----+-----+--------+-------+-----+--------+----+----+-------------------+\n",
      "|     1|       0|Artagaveytia, Mr....|  male|71.0|    0|    0|PC 17609|49.5042| null|       C|null|  22|Montevideo, Uruguay|\n",
      "|     1|       1|\"Barber, Miss. El...|female|26.0|    0|    0|   19877|  78.85| null|       S|   6|null|               null|\n",
      "|     1|       0| Baumann, Mr. John D|  male|null|    0|    0|PC 17318| 25.925| null|       S|null|null|       New York, NY|\n",
      "|     1|       1|Bidois, Miss. Ros...|female|42.0|    0|    0|PC 17757|227.525| null|       C|   4|null|               null|\n",
      "|     1|       0| Birnbaum, Mr. Jakob|  male|25.0|    0|    0|   13905|   26.0| null|       C|null| 148|  San Francisco, CA|\n",
      "+------+--------+--------------------+------+----+-----+-----+--------+-------+-----+--------+----+----+-------------------+\n",
      "only showing top 5 rows\n",
      "\n"
     ]
    }
   ],
   "source": [
    "data.where(data['cabin'].isNull()).show(5)"
   ]
  },
  {
   "cell_type": "markdown",
   "metadata": {},
   "source": [
    "Check Data Type"
   ]
  },
  {
   "cell_type": "code",
   "execution_count": 15,
   "metadata": {},
   "outputs": [
    {
     "data": {
      "text/plain": [
       "[('pclass', 'int'),\n",
       " ('survived', 'int'),\n",
       " ('name', 'string'),\n",
       " ('sex', 'string'),\n",
       " ('age', 'double'),\n",
       " ('sibsp', 'int'),\n",
       " ('parch', 'int'),\n",
       " ('ticket', 'string'),\n",
       " ('fare', 'double'),\n",
       " ('cabin', 'string'),\n",
       " ('embarked', 'string'),\n",
       " ('boat', 'string'),\n",
       " ('body', 'int'),\n",
       " ('homedest', 'string')]"
      ]
     },
     "execution_count": 15,
     "metadata": {},
     "output_type": "execute_result"
    }
   ],
   "source": [
    "data.dtypes"
   ]
  },
  {
   "cell_type": "markdown",
   "metadata": {},
   "source": [
    "Get the mean age"
   ]
  },
  {
   "cell_type": "code",
   "execution_count": 16,
   "metadata": {},
   "outputs": [
    {
     "data": {
      "text/plain": [
       "29.8811345124283"
      ]
     },
     "execution_count": 16,
     "metadata": {},
     "output_type": "execute_result"
    }
   ],
   "source": [
    "from pyspark.sql.functions import mean\n",
    "data.select(mean('age')).collect()[0][0]"
   ]
  },
  {
   "cell_type": "markdown",
   "metadata": {},
   "source": [
    "Impute missing age value with mean age"
   ]
  },
  {
   "cell_type": "code",
   "execution_count": 17,
   "metadata": {},
   "outputs": [],
   "source": [
    "data=data.na.fill(data.select(mean('age')).collect()[0][0],subset=['age'])"
   ]
  },
  {
   "cell_type": "code",
   "execution_count": 18,
   "metadata": {},
   "outputs": [
    {
     "name": "stdout",
     "output_type": "stream",
     "text": [
      "+------+--------+----+---+---+-----+-----+------+----+-----+--------+----+----+--------+\n",
      "|pclass|survived|name|sex|age|sibsp|parch|ticket|fare|cabin|embarked|boat|body|homedest|\n",
      "+------+--------+----+---+---+-----+-----+------+----+-----+--------+----+----+--------+\n",
      "+------+--------+----+---+---+-----+-----+------+----+-----+--------+----+----+--------+\n",
      "\n"
     ]
    }
   ],
   "source": [
    "# Check missing age records\n",
    "data.where(data['age'].isNull()).show()"
   ]
  },
  {
   "cell_type": "markdown",
   "metadata": {},
   "source": [
    "Impute fare with mean fare"
   ]
  },
  {
   "cell_type": "code",
   "execution_count": 19,
   "metadata": {},
   "outputs": [],
   "source": [
    "data=data.na.fill(data.select(mean('fare')).collect()[0][0],subset=['fare'])"
   ]
  },
  {
   "cell_type": "code",
   "execution_count": 20,
   "metadata": {
    "scrolled": true
   },
   "outputs": [
    {
     "name": "stdout",
     "output_type": "stream",
     "text": [
      "+------+--------+----+---+---+-----+-----+------+----+-----+--------+----+----+--------+\n",
      "|pclass|survived|name|sex|age|sibsp|parch|ticket|fare|cabin|embarked|boat|body|homedest|\n",
      "+------+--------+----+---+---+-----+-----+------+----+-----+--------+----+----+--------+\n",
      "+------+--------+----+---+---+-----+-----+------+----+-----+--------+----+----+--------+\n",
      "\n"
     ]
    }
   ],
   "source": [
    "# Check missing fare records\n",
    "data.where(data['fare'].isNull()).show()"
   ]
  },
  {
   "cell_type": "markdown",
   "metadata": {},
   "source": [
    "Impute Embarked with Mode"
   ]
  },
  {
   "cell_type": "code",
   "execution_count": 21,
   "metadata": {},
   "outputs": [
    {
     "data": {
      "text/plain": [
       "'S'"
      ]
     },
     "execution_count": 21,
     "metadata": {},
     "output_type": "execute_result"
    }
   ],
   "source": [
    "# Get the mode of the embarked column\n",
    "data.groupby(\"embarked\").count().orderBy(\"count\", ascending=False).first()[0]"
   ]
  },
  {
   "cell_type": "code",
   "execution_count": 22,
   "metadata": {},
   "outputs": [],
   "source": [
    "# Impute the embarked with mode value\n",
    "data=data.na.fill(data.groupby(\"embarked\").count().orderBy(\"embarked\", ascending=False).first()[0],subset=['embarked'])"
   ]
  },
  {
   "cell_type": "code",
   "execution_count": 23,
   "metadata": {},
   "outputs": [
    {
     "name": "stdout",
     "output_type": "stream",
     "text": [
      "+------+--------+----+---+---+-----+-----+------+----+-----+--------+----+----+--------+\n",
      "|pclass|survived|name|sex|age|sibsp|parch|ticket|fare|cabin|embarked|boat|body|homedest|\n",
      "+------+--------+----+---+---+-----+-----+------+----+-----+--------+----+----+--------+\n",
      "+------+--------+----+---+---+-----+-----+------+----+-----+--------+----+----+--------+\n",
      "\n"
     ]
    }
   ],
   "source": [
    "data.where(data['embarked'].isNull()).show()"
   ]
  },
  {
   "cell_type": "markdown",
   "metadata": {},
   "source": [
    "Impute cabin with Mode"
   ]
  },
  {
   "cell_type": "code",
   "execution_count": 24,
   "metadata": {},
   "outputs": [],
   "source": [
    "# Impute the embarked with mode value\n",
    "data=data.na.fill(data.groupby(\"cabin\").count().orderBy(\"cabin\", ascending=False).first()[0],subset=['cabin'])"
   ]
  },
  {
   "cell_type": "code",
   "execution_count": 25,
   "metadata": {
    "scrolled": true
   },
   "outputs": [
    {
     "name": "stdout",
     "output_type": "stream",
     "text": [
      "+------+--------+----+---+---+-----+-----+------+----+-----+--------+----+----+--------+\n",
      "|pclass|survived|name|sex|age|sibsp|parch|ticket|fare|cabin|embarked|boat|body|homedest|\n",
      "+------+--------+----+---+---+-----+-----+------+----+-----+--------+----+----+--------+\n",
      "+------+--------+----+---+---+-----+-----+------+----+-----+--------+----+----+--------+\n",
      "\n"
     ]
    }
   ],
   "source": [
    "data.where(data['cabin'].isNull()).show(5)"
   ]
  },
  {
   "cell_type": "markdown",
   "metadata": {},
   "source": [
    "Count Distinct Values in Columns"
   ]
  },
  {
   "cell_type": "code",
   "execution_count": 26,
   "metadata": {},
   "outputs": [
    {
     "name": "stdout",
     "output_type": "stream",
     "text": [
      "+---+\n",
      "|sex|\n",
      "+---+\n",
      "|  2|\n",
      "+---+\n",
      "\n"
     ]
    }
   ],
   "source": [
    "from pyspark.sql.functions import col,countDistinct,max,min\n",
    "data.agg(countDistinct(col(\"sex\")).alias(\"sex\")).show()"
   ]
  },
  {
   "cell_type": "code",
   "execution_count": 27,
   "metadata": {},
   "outputs": [
    {
     "name": "stdout",
     "output_type": "stream",
     "text": [
      "+------+-----+\n",
      "|   sex|count|\n",
      "+------+-----+\n",
      "|  null|    1|\n",
      "|female|  466|\n",
      "|  male|  843|\n",
      "+------+-----+\n",
      "\n"
     ]
    }
   ],
   "source": [
    "data.groupBy('sex').count().show()"
   ]
  },
  {
   "cell_type": "code",
   "execution_count": 28,
   "metadata": {},
   "outputs": [
    {
     "name": "stdout",
     "output_type": "stream",
     "text": [
      "+--------+\n",
      "|embarked|\n",
      "+--------+\n",
      "|       3|\n",
      "+--------+\n",
      "\n"
     ]
    }
   ],
   "source": [
    "data.agg(countDistinct(col(\"embarked\")).alias(\"embarked\")).show()"
   ]
  },
  {
   "cell_type": "code",
   "execution_count": 29,
   "metadata": {},
   "outputs": [
    {
     "name": "stdout",
     "output_type": "stream",
     "text": [
      "+--------+-----+\n",
      "|embarked|count|\n",
      "+--------+-----+\n",
      "|       Q|  123|\n",
      "|       C|  270|\n",
      "|       S|  917|\n",
      "+--------+-----+\n",
      "\n"
     ]
    }
   ],
   "source": [
    "data.groupBy('embarked').count().show()"
   ]
  },
  {
   "cell_type": "code",
   "execution_count": 30,
   "metadata": {},
   "outputs": [
    {
     "name": "stdout",
     "output_type": "stream",
     "text": [
      "+-----+\n",
      "|sibsp|\n",
      "+-----+\n",
      "|    7|\n",
      "+-----+\n",
      "\n"
     ]
    }
   ],
   "source": [
    "data.agg(countDistinct(col(\"sibsp\")).alias(\"sibsp\")).show()"
   ]
  },
  {
   "cell_type": "code",
   "execution_count": 31,
   "metadata": {},
   "outputs": [
    {
     "name": "stdout",
     "output_type": "stream",
     "text": [
      "+-----+-----+\n",
      "|sibsp|count|\n",
      "+-----+-----+\n",
      "| null|    1|\n",
      "|    1|  319|\n",
      "|    3|   20|\n",
      "|    5|    6|\n",
      "|    4|   22|\n",
      "|    8|    9|\n",
      "|    2|   42|\n",
      "|    0|  891|\n",
      "+-----+-----+\n",
      "\n"
     ]
    }
   ],
   "source": [
    "data.groupBy('sibsp').count().show()"
   ]
  },
  {
   "cell_type": "code",
   "execution_count": 32,
   "metadata": {},
   "outputs": [
    {
     "name": "stdout",
     "output_type": "stream",
     "text": [
      "+-----+\n",
      "|parch|\n",
      "+-----+\n",
      "|    8|\n",
      "+-----+\n",
      "\n"
     ]
    }
   ],
   "source": [
    "data.agg(countDistinct(col(\"parch\")).alias(\"parch\")).show()"
   ]
  },
  {
   "cell_type": "code",
   "execution_count": 33,
   "metadata": {},
   "outputs": [
    {
     "name": "stdout",
     "output_type": "stream",
     "text": [
      "+-----+-----+\n",
      "|parch|count|\n",
      "+-----+-----+\n",
      "| null|    1|\n",
      "|    1|  170|\n",
      "|    6|    2|\n",
      "|    3|    8|\n",
      "|    5|    6|\n",
      "|    9|    2|\n",
      "|    4|    6|\n",
      "|    2|  113|\n",
      "|    0| 1002|\n",
      "+-----+-----+\n",
      "\n"
     ]
    }
   ],
   "source": [
    "data.groupBy('parch').count().show()"
   ]
  },
  {
   "cell_type": "markdown",
   "metadata": {},
   "source": [
    "Drop all records with null target variable"
   ]
  },
  {
   "cell_type": "code",
   "execution_count": 34,
   "metadata": {},
   "outputs": [],
   "source": [
    "data=data.na.drop('any',subset=['survived'])"
   ]
  },
  {
   "cell_type": "code",
   "execution_count": 35,
   "metadata": {},
   "outputs": [
    {
     "name": "stdout",
     "output_type": "stream",
     "text": [
      "pclass 0\n",
      "survived 0\n",
      "name 0\n",
      "sex 0\n",
      "age 0\n",
      "sibsp 0\n",
      "parch 0\n",
      "ticket 0\n",
      "fare 0\n",
      "cabin 0\n",
      "embarked 0\n",
      "boat 823\n",
      "body 1188\n",
      "homedest 564\n"
     ]
    }
   ],
   "source": [
    "for i in data.columns:\n",
    "    print(i,data.where(functions.col(i).isNull()).count())"
   ]
  },
  {
   "cell_type": "code",
   "execution_count": 36,
   "metadata": {},
   "outputs": [
    {
     "name": "stdout",
     "output_type": "stream",
     "text": [
      "+------+--------+--------------------+------+------+-----+-----+------+--------+-------+--------+----+----+--------------------+\n",
      "|pclass|survived|                name|   sex|   age|sibsp|parch|ticket|    fare|  cabin|embarked|boat|body|            homedest|\n",
      "+------+--------+--------------------+------+------+-----+-----+------+--------+-------+--------+----+----+--------------------+\n",
      "|     1|       1|Allen, Miss. Elis...|female|  29.0|    0|    0| 24160|211.3375|     B5|       S|   2|null|        St Louis, MO|\n",
      "|     1|       1|Allison, Master. ...|  male|0.9167|    1|    2|113781|  151.55|C22 C26|       S|  11|null|Montreal, PQ / Ch...|\n",
      "|     1|       0|Allison, Miss. He...|female|   2.0|    1|    2|113781|  151.55|C22 C26|       S|null|null|Montreal, PQ / Ch...|\n",
      "|     1|       0|Allison, Mr. Huds...|  male|  30.0|    1|    2|113781|  151.55|C22 C26|       S|null| 135|Montreal, PQ / Ch...|\n",
      "|     1|       0|Allison, Mrs. Hud...|female|  25.0|    1|    2|113781|  151.55|C22 C26|       S|null|null|Montreal, PQ / Ch...|\n",
      "+------+--------+--------------------+------+------+-----+-----+------+--------+-------+--------+----+----+--------------------+\n",
      "only showing top 5 rows\n",
      "\n"
     ]
    }
   ],
   "source": [
    "data.show(5)"
   ]
  },
  {
   "cell_type": "markdown",
   "metadata": {},
   "source": [
    "Convert sex and embarked data to numeric features"
   ]
  },
  {
   "cell_type": "code",
   "execution_count": 37,
   "metadata": {},
   "outputs": [
    {
     "data": {
      "text/plain": [
       "[('pclass', 'int'),\n",
       " ('survived', 'int'),\n",
       " ('name', 'string'),\n",
       " ('sex', 'string'),\n",
       " ('age', 'double'),\n",
       " ('sibsp', 'int'),\n",
       " ('parch', 'int'),\n",
       " ('ticket', 'string'),\n",
       " ('fare', 'double'),\n",
       " ('cabin', 'string'),\n",
       " ('embarked', 'string'),\n",
       " ('boat', 'string'),\n",
       " ('body', 'int'),\n",
       " ('homedest', 'string')]"
      ]
     },
     "execution_count": 37,
     "metadata": {},
     "output_type": "execute_result"
    }
   ],
   "source": [
    "data.dtypes"
   ]
  },
  {
   "cell_type": "markdown",
   "metadata": {},
   "source": [
    "Bin age into three categories"
   ]
  },
  {
   "cell_type": "code",
   "execution_count": 38,
   "metadata": {},
   "outputs": [],
   "source": [
    "from pyspark.ml.feature import Bucketizer\n",
    "age_bucketizer = Bucketizer(splits=[ 0, 20, 50, 80, float('Inf') ],inputCol=\"age\", outputCol=\"age_bin\")\n",
    "data = age_bucketizer.setHandleInvalid(\"keep\").transform(data)"
   ]
  },
  {
   "cell_type": "code",
   "execution_count": 39,
   "metadata": {},
   "outputs": [
    {
     "name": "stdout",
     "output_type": "stream",
     "text": [
      "+------+--------+--------------------+------+------+-----+-----+------+--------+-------+--------+----+----+--------------------+-------+\n",
      "|pclass|survived|                name|   sex|   age|sibsp|parch|ticket|    fare|  cabin|embarked|boat|body|            homedest|age_bin|\n",
      "+------+--------+--------------------+------+------+-----+-----+------+--------+-------+--------+----+----+--------------------+-------+\n",
      "|     1|       1|Allen, Miss. Elis...|female|  29.0|    0|    0| 24160|211.3375|     B5|       S|   2|null|        St Louis, MO|    1.0|\n",
      "|     1|       1|Allison, Master. ...|  male|0.9167|    1|    2|113781|  151.55|C22 C26|       S|  11|null|Montreal, PQ / Ch...|    0.0|\n",
      "|     1|       0|Allison, Miss. He...|female|   2.0|    1|    2|113781|  151.55|C22 C26|       S|null|null|Montreal, PQ / Ch...|    0.0|\n",
      "|     1|       0|Allison, Mr. Huds...|  male|  30.0|    1|    2|113781|  151.55|C22 C26|       S|null| 135|Montreal, PQ / Ch...|    1.0|\n",
      "|     1|       0|Allison, Mrs. Hud...|female|  25.0|    1|    2|113781|  151.55|C22 C26|       S|null|null|Montreal, PQ / Ch...|    1.0|\n",
      "+------+--------+--------------------+------+------+-----+-----+------+--------+-------+--------+----+----+--------------------+-------+\n",
      "only showing top 5 rows\n",
      "\n"
     ]
    }
   ],
   "source": [
    "data.show(5)"
   ]
  },
  {
   "cell_type": "markdown",
   "metadata": {},
   "source": [
    "Bin fare into three categories"
   ]
  },
  {
   "cell_type": "code",
   "execution_count": 40,
   "metadata": {},
   "outputs": [
    {
     "name": "stdout",
     "output_type": "stream",
     "text": [
      "+---------+\n",
      "|max(fare)|\n",
      "+---------+\n",
      "| 512.3292|\n",
      "+---------+\n",
      "\n"
     ]
    }
   ],
   "source": [
    "data.agg(max(\"fare\")).show()"
   ]
  },
  {
   "cell_type": "code",
   "execution_count": 41,
   "metadata": {},
   "outputs": [
    {
     "name": "stdout",
     "output_type": "stream",
     "text": [
      "+---------+\n",
      "|min(fare)|\n",
      "+---------+\n",
      "|      0.0|\n",
      "+---------+\n",
      "\n"
     ]
    }
   ],
   "source": [
    "data.agg(min(\"fare\")).show()"
   ]
  },
  {
   "cell_type": "code",
   "execution_count": 42,
   "metadata": {},
   "outputs": [],
   "source": [
    "fare_bucketizer = Bucketizer(splits=[ 0, 200, 400, 6000, float('Inf') ],inputCol=\"fare\", outputCol=\"fare_bin\")\n",
    "data = fare_bucketizer.setHandleInvalid(\"keep\").transform(data)"
   ]
  },
  {
   "cell_type": "code",
   "execution_count": 43,
   "metadata": {},
   "outputs": [
    {
     "name": "stdout",
     "output_type": "stream",
     "text": [
      "+------+--------+--------------------+------+------+-----+-----+------+--------+-------+--------+----+----+--------------------+-------+--------+\n",
      "|pclass|survived|                name|   sex|   age|sibsp|parch|ticket|    fare|  cabin|embarked|boat|body|            homedest|age_bin|fare_bin|\n",
      "+------+--------+--------------------+------+------+-----+-----+------+--------+-------+--------+----+----+--------------------+-------+--------+\n",
      "|     1|       1|Allen, Miss. Elis...|female|  29.0|    0|    0| 24160|211.3375|     B5|       S|   2|null|        St Louis, MO|    1.0|     1.0|\n",
      "|     1|       1|Allison, Master. ...|  male|0.9167|    1|    2|113781|  151.55|C22 C26|       S|  11|null|Montreal, PQ / Ch...|    0.0|     0.0|\n",
      "|     1|       0|Allison, Miss. He...|female|   2.0|    1|    2|113781|  151.55|C22 C26|       S|null|null|Montreal, PQ / Ch...|    0.0|     0.0|\n",
      "|     1|       0|Allison, Mr. Huds...|  male|  30.0|    1|    2|113781|  151.55|C22 C26|       S|null| 135|Montreal, PQ / Ch...|    1.0|     0.0|\n",
      "|     1|       0|Allison, Mrs. Hud...|female|  25.0|    1|    2|113781|  151.55|C22 C26|       S|null|null|Montreal, PQ / Ch...|    1.0|     0.0|\n",
      "+------+--------+--------------------+------+------+-----+-----+------+--------+-------+--------+----+----+--------------------+-------+--------+\n",
      "only showing top 5 rows\n",
      "\n"
     ]
    }
   ],
   "source": [
    "data.show(5)"
   ]
  },
  {
   "cell_type": "markdown",
   "metadata": {},
   "source": [
    "Family Size"
   ]
  },
  {
   "cell_type": "code",
   "execution_count": 44,
   "metadata": {},
   "outputs": [],
   "source": [
    "data=data.withColumn(\"family_size\", data['sibsp']+data['parch'])"
   ]
  },
  {
   "cell_type": "code",
   "execution_count": 45,
   "metadata": {},
   "outputs": [
    {
     "name": "stdout",
     "output_type": "stream",
     "text": [
      "+-----------+-----+\n",
      "|family_size|count|\n",
      "+-----------+-----+\n",
      "|          1|  235|\n",
      "|          6|   16|\n",
      "|          3|   43|\n",
      "|          5|   25|\n",
      "|          4|   22|\n",
      "|          7|    8|\n",
      "|         10|   11|\n",
      "|          2|  159|\n",
      "|          0|  790|\n",
      "+-----------+-----+\n",
      "\n"
     ]
    }
   ],
   "source": [
    "data.groupBy('family_size').count().show()"
   ]
  },
  {
   "cell_type": "code",
   "execution_count": 46,
   "metadata": {},
   "outputs": [],
   "source": [
    "# Bin family size\n",
    "family_bucketizer = Bucketizer(splits=[ 0, 1, 4, 30, float('Inf') ],inputCol=\"family_size\", outputCol=\"family_size_bin\")\n",
    "data = family_bucketizer.setHandleInvalid(\"keep\").transform(data)"
   ]
  },
  {
   "cell_type": "code",
   "execution_count": 47,
   "metadata": {
    "scrolled": false
   },
   "outputs": [
    {
     "name": "stdout",
     "output_type": "stream",
     "text": [
      "+------+--------+--------------------+------+------+-----+-----+------+--------+-------+--------+----+----+--------------------+-------+--------+-----------+---------------+\n",
      "|pclass|survived|                name|   sex|   age|sibsp|parch|ticket|    fare|  cabin|embarked|boat|body|            homedest|age_bin|fare_bin|family_size|family_size_bin|\n",
      "+------+--------+--------------------+------+------+-----+-----+------+--------+-------+--------+----+----+--------------------+-------+--------+-----------+---------------+\n",
      "|     1|       1|Allen, Miss. Elis...|female|  29.0|    0|    0| 24160|211.3375|     B5|       S|   2|null|        St Louis, MO|    1.0|     1.0|          0|            0.0|\n",
      "|     1|       1|Allison, Master. ...|  male|0.9167|    1|    2|113781|  151.55|C22 C26|       S|  11|null|Montreal, PQ / Ch...|    0.0|     0.0|          3|            1.0|\n",
      "|     1|       0|Allison, Miss. He...|female|   2.0|    1|    2|113781|  151.55|C22 C26|       S|null|null|Montreal, PQ / Ch...|    0.0|     0.0|          3|            1.0|\n",
      "|     1|       0|Allison, Mr. Huds...|  male|  30.0|    1|    2|113781|  151.55|C22 C26|       S|null| 135|Montreal, PQ / Ch...|    1.0|     0.0|          3|            1.0|\n",
      "|     1|       0|Allison, Mrs. Hud...|female|  25.0|    1|    2|113781|  151.55|C22 C26|       S|null|null|Montreal, PQ / Ch...|    1.0|     0.0|          3|            1.0|\n",
      "+------+--------+--------------------+------+------+-----+-----+------+--------+-------+--------+----+----+--------------------+-------+--------+-----------+---------------+\n",
      "only showing top 5 rows\n",
      "\n"
     ]
    }
   ],
   "source": [
    "data.show(5)"
   ]
  },
  {
   "cell_type": "code",
   "execution_count": 48,
   "metadata": {},
   "outputs": [],
   "source": [
    "from pyspark.ml import Pipeline\n",
    "from pyspark.ml.feature import StringIndexer\n",
    "\n",
    "indexers = [StringIndexer(inputCol=column, outputCol=column+\"_index\").fit(data) for column in [\"sex\",\"embarked\",\"family_size_bin\",\"age_bin\",\"fare_bin\"]]\n",
    "pipeline = Pipeline(stages=indexers)\n",
    "data = pipeline.fit(data).transform(data)"
   ]
  },
  {
   "cell_type": "code",
   "execution_count": 49,
   "metadata": {
    "scrolled": false
   },
   "outputs": [
    {
     "name": "stdout",
     "output_type": "stream",
     "text": [
      "-RECORD 0-------------------------------------\n",
      " pclass                | 1                    \n",
      " survived              | 1                    \n",
      " name                  | Allen, Miss. Elis... \n",
      " sex                   | female               \n",
      " age                   | 29.0                 \n",
      " sibsp                 | 0                    \n",
      " parch                 | 0                    \n",
      " ticket                | 24160                \n",
      " fare                  | 211.3375             \n",
      " cabin                 | B5                   \n",
      " embarked              | S                    \n",
      " boat                  | 2                    \n",
      " body                  | null                 \n",
      " homedest              | St Louis, MO         \n",
      " age_bin               | 1.0                  \n",
      " fare_bin              | 1.0                  \n",
      " family_size           | 0                    \n",
      " family_size_bin       | 0.0                  \n",
      " sex_index             | 1.0                  \n",
      " embarked_index        | 0.0                  \n",
      " family_size_bin_index | 0.0                  \n",
      " age_bin_index         | 0.0                  \n",
      " fare_bin_index        | 1.0                  \n",
      "-RECORD 1-------------------------------------\n",
      " pclass                | 1                    \n",
      " survived              | 1                    \n",
      " name                  | Allison, Master. ... \n",
      " sex                   | male                 \n",
      " age                   | 0.9167               \n",
      " sibsp                 | 1                    \n",
      " parch                 | 2                    \n",
      " ticket                | 113781               \n",
      " fare                  | 151.55               \n",
      " cabin                 | C22 C26              \n",
      " embarked              | S                    \n",
      " boat                  | 11                   \n",
      " body                  | null                 \n",
      " homedest              | Montreal, PQ / Ch... \n",
      " age_bin               | 0.0                  \n",
      " fare_bin              | 0.0                  \n",
      " family_size           | 3                    \n",
      " family_size_bin       | 1.0                  \n",
      " sex_index             | 0.0                  \n",
      " embarked_index        | 0.0                  \n",
      " family_size_bin_index | 1.0                  \n",
      " age_bin_index         | 1.0                  \n",
      " fare_bin_index        | 0.0                  \n",
      "only showing top 2 rows\n",
      "\n"
     ]
    }
   ],
   "source": [
    "data.show(2,vertical=True)"
   ]
  },
  {
   "cell_type": "markdown",
   "metadata": {},
   "source": [
    "Convert string to numeric type"
   ]
  },
  {
   "cell_type": "code",
   "execution_count": 50,
   "metadata": {},
   "outputs": [],
   "source": [
    "data=data.withColumn('sex_index',data.sex_index.cast('int')).withColumn('embarked_index',data.embarked_index.cast('int')).withColumn('family_size_bin_index',data.family_size_bin_index.cast('int')).withColumn('age_bin_index',data.age_bin_index.cast('int')).withColumn('fare_bin_index',data.fare_bin_index.cast('int'))"
   ]
  },
  {
   "cell_type": "code",
   "execution_count": 51,
   "metadata": {},
   "outputs": [
    {
     "data": {
      "text/plain": [
       "[('pclass', 'int'),\n",
       " ('survived', 'int'),\n",
       " ('name', 'string'),\n",
       " ('sex', 'string'),\n",
       " ('age', 'double'),\n",
       " ('sibsp', 'int'),\n",
       " ('parch', 'int'),\n",
       " ('ticket', 'string'),\n",
       " ('fare', 'double'),\n",
       " ('cabin', 'string'),\n",
       " ('embarked', 'string'),\n",
       " ('boat', 'string'),\n",
       " ('body', 'int'),\n",
       " ('homedest', 'string'),\n",
       " ('age_bin', 'double'),\n",
       " ('fare_bin', 'double'),\n",
       " ('family_size', 'int'),\n",
       " ('family_size_bin', 'double'),\n",
       " ('sex_index', 'int'),\n",
       " ('embarked_index', 'int'),\n",
       " ('family_size_bin_index', 'int'),\n",
       " ('age_bin_index', 'int'),\n",
       " ('fare_bin_index', 'int')]"
      ]
     },
     "execution_count": 51,
     "metadata": {},
     "output_type": "execute_result"
    }
   ],
   "source": [
    "data.dtypes"
   ]
  },
  {
   "cell_type": "markdown",
   "metadata": {},
   "source": [
    "Drop unwanted columns"
   ]
  },
  {
   "cell_type": "code",
   "execution_count": 52,
   "metadata": {},
   "outputs": [],
   "source": [
    "data=data[['pclass', 'survived', 'sibsp', 'parch', 'sex_index','embarked_index','family_size_bin_index','age_bin_index','fare_bin_index']]"
   ]
  },
  {
   "cell_type": "code",
   "execution_count": 53,
   "metadata": {},
   "outputs": [
    {
     "name": "stdout",
     "output_type": "stream",
     "text": [
      "+------+--------+-----+-----+---------+--------------+---------------------+-------------+--------------+\n",
      "|pclass|survived|sibsp|parch|sex_index|embarked_index|family_size_bin_index|age_bin_index|fare_bin_index|\n",
      "+------+--------+-----+-----+---------+--------------+---------------------+-------------+--------------+\n",
      "|     1|       1|    0|    0|        1|             0|                    0|            0|             1|\n",
      "|     1|       1|    1|    2|        0|             0|                    1|            1|             0|\n",
      "|     1|       0|    1|    2|        1|             0|                    1|            1|             0|\n",
      "|     1|       0|    1|    2|        0|             0|                    1|            0|             0|\n",
      "|     1|       0|    1|    2|        1|             0|                    1|            0|             0|\n",
      "+------+--------+-----+-----+---------+--------------+---------------------+-------------+--------------+\n",
      "only showing top 5 rows\n",
      "\n"
     ]
    }
   ],
   "source": [
    "data.show(5)"
   ]
  },
  {
   "cell_type": "markdown",
   "metadata": {},
   "source": [
    "Create Feature"
   ]
  },
  {
   "cell_type": "code",
   "execution_count": 54,
   "metadata": {},
   "outputs": [],
   "source": [
    "feature=['pclass','sibsp','parch']"
   ]
  },
  {
   "cell_type": "code",
   "execution_count": null,
   "metadata": {},
   "outputs": [],
   "source": []
  }
 ],
 "metadata": {
  "kernelspec": {
   "display_name": "Python 3",
   "language": "python",
   "name": "python3"
  },
  "language_info": {
   "codemirror_mode": {
    "name": "ipython",
    "version": 3
   },
   "file_extension": ".py",
   "mimetype": "text/x-python",
   "name": "python",
   "nbconvert_exporter": "python",
   "pygments_lexer": "ipython3",
   "version": "3.6.5"
  }
 },
 "nbformat": 4,
 "nbformat_minor": 2
}
