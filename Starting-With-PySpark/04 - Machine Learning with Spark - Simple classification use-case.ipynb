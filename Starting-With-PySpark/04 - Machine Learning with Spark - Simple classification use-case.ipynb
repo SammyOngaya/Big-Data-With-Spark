{
 "cells": [
  {
   "cell_type": "markdown",
   "metadata": {
    "tags": [
     "parameters"
    ]
   },
   "source": [
    "### Import Libraries"
   ]
  },
  {
   "cell_type": "markdown",
   "metadata": {
    "tags": [
     "parameters"
    ]
   },
   "source": [
    "Use Jupyter Notebook as Spark IDE"
   ]
  },
  {
   "cell_type": "code",
   "execution_count": 1,
   "metadata": {
    "tags": [
     "parameters"
    ]
   },
   "outputs": [],
   "source": [
    "import findspark\n",
    "findspark.init()"
   ]
  },
  {
   "cell_type": "markdown",
   "metadata": {
    "tags": [
     "parameters"
    ]
   },
   "source": [
    "Import required libraries"
   ]
  },
  {
   "cell_type": "code",
   "execution_count": 2,
   "metadata": {
    "tags": [
     "parameters"
    ]
   },
   "outputs": [],
   "source": [
    "from pyspark import SparkContext\n",
    "from pyspark.sql import SparkSession\n",
    "\n",
    "import pandas as pd"
   ]
  },
  {
   "cell_type": "code",
   "execution_count": 3,
   "metadata": {
    "tags": [
     "parameters"
    ]
   },
   "outputs": [],
   "source": [
    "sc=SparkContext.getOrCreate()\n",
    "ss=SparkSession(sc)"
   ]
  },
  {
   "cell_type": "markdown",
   "metadata": {
    "tags": [
     "parameters"
    ]
   },
   "source": [
    "### Load Data"
   ]
  },
  {
   "cell_type": "markdown",
   "metadata": {
    "tags": [
     "parameters"
    ]
   },
   "source": [
    "Load data"
   ]
  },
  {
   "cell_type": "code",
   "execution_count": 4,
   "metadata": {
    "tags": [
     "parameters"
    ]
   },
   "outputs": [],
   "source": [
    "data=ss.read.csv(\"../data/titanic.csv\",inferSchema=True, header=True)"
   ]
  },
  {
   "cell_type": "code",
   "execution_count": 100,
   "metadata": {},
   "outputs": [
    {
     "data": {
      "text/html": [
       "<div>\n",
       "<style scoped>\n",
       "    .dataframe tbody tr th:only-of-type {\n",
       "        vertical-align: middle;\n",
       "    }\n",
       "\n",
       "    .dataframe tbody tr th {\n",
       "        vertical-align: top;\n",
       "    }\n",
       "\n",
       "    .dataframe thead th {\n",
       "        text-align: right;\n",
       "    }\n",
       "</style>\n",
       "<table border=\"1\" class=\"dataframe\">\n",
       "  <thead>\n",
       "    <tr style=\"text-align: right;\">\n",
       "      <th></th>\n",
       "      <th>pclass</th>\n",
       "      <th>survived</th>\n",
       "      <th>name</th>\n",
       "      <th>sex</th>\n",
       "      <th>age</th>\n",
       "      <th>sibsp</th>\n",
       "      <th>parch</th>\n",
       "      <th>ticket</th>\n",
       "      <th>fare</th>\n",
       "      <th>cabin</th>\n",
       "      <th>embarked</th>\n",
       "      <th>boat</th>\n",
       "      <th>body</th>\n",
       "      <th>home.dest</th>\n",
       "    </tr>\n",
       "  </thead>\n",
       "  <tbody>\n",
       "    <tr>\n",
       "      <th>0</th>\n",
       "      <td>1.0</td>\n",
       "      <td>1.0</td>\n",
       "      <td>Allen, Miss. Elisabeth Walton</td>\n",
       "      <td>female</td>\n",
       "      <td>29.0000</td>\n",
       "      <td>0.0</td>\n",
       "      <td>0.0</td>\n",
       "      <td>24160</td>\n",
       "      <td>211.3375</td>\n",
       "      <td>B5</td>\n",
       "      <td>S</td>\n",
       "      <td>2</td>\n",
       "      <td>NaN</td>\n",
       "      <td>St Louis, MO</td>\n",
       "    </tr>\n",
       "    <tr>\n",
       "      <th>1</th>\n",
       "      <td>1.0</td>\n",
       "      <td>1.0</td>\n",
       "      <td>Allison, Master. Hudson Trevor</td>\n",
       "      <td>male</td>\n",
       "      <td>0.9167</td>\n",
       "      <td>1.0</td>\n",
       "      <td>2.0</td>\n",
       "      <td>113781</td>\n",
       "      <td>151.5500</td>\n",
       "      <td>C22 C26</td>\n",
       "      <td>S</td>\n",
       "      <td>11</td>\n",
       "      <td>NaN</td>\n",
       "      <td>Montreal, PQ / Chesterville, ON</td>\n",
       "    </tr>\n",
       "    <tr>\n",
       "      <th>2</th>\n",
       "      <td>1.0</td>\n",
       "      <td>0.0</td>\n",
       "      <td>Allison, Miss. Helen Loraine</td>\n",
       "      <td>female</td>\n",
       "      <td>2.0000</td>\n",
       "      <td>1.0</td>\n",
       "      <td>2.0</td>\n",
       "      <td>113781</td>\n",
       "      <td>151.5500</td>\n",
       "      <td>C22 C26</td>\n",
       "      <td>S</td>\n",
       "      <td>NaN</td>\n",
       "      <td>NaN</td>\n",
       "      <td>Montreal, PQ / Chesterville, ON</td>\n",
       "    </tr>\n",
       "    <tr>\n",
       "      <th>3</th>\n",
       "      <td>1.0</td>\n",
       "      <td>0.0</td>\n",
       "      <td>Allison, Mr. Hudson Joshua Creighton</td>\n",
       "      <td>male</td>\n",
       "      <td>30.0000</td>\n",
       "      <td>1.0</td>\n",
       "      <td>2.0</td>\n",
       "      <td>113781</td>\n",
       "      <td>151.5500</td>\n",
       "      <td>C22 C26</td>\n",
       "      <td>S</td>\n",
       "      <td>NaN</td>\n",
       "      <td>135.0</td>\n",
       "      <td>Montreal, PQ / Chesterville, ON</td>\n",
       "    </tr>\n",
       "    <tr>\n",
       "      <th>4</th>\n",
       "      <td>1.0</td>\n",
       "      <td>0.0</td>\n",
       "      <td>Allison, Mrs. Hudson J C (Bessie Waldo Daniels)</td>\n",
       "      <td>female</td>\n",
       "      <td>25.0000</td>\n",
       "      <td>1.0</td>\n",
       "      <td>2.0</td>\n",
       "      <td>113781</td>\n",
       "      <td>151.5500</td>\n",
       "      <td>C22 C26</td>\n",
       "      <td>S</td>\n",
       "      <td>NaN</td>\n",
       "      <td>NaN</td>\n",
       "      <td>Montreal, PQ / Chesterville, ON</td>\n",
       "    </tr>\n",
       "    <tr>\n",
       "      <th>5</th>\n",
       "      <td>1.0</td>\n",
       "      <td>1.0</td>\n",
       "      <td>Anderson, Mr. Harry</td>\n",
       "      <td>male</td>\n",
       "      <td>48.0000</td>\n",
       "      <td>0.0</td>\n",
       "      <td>0.0</td>\n",
       "      <td>19952</td>\n",
       "      <td>26.5500</td>\n",
       "      <td>E12</td>\n",
       "      <td>S</td>\n",
       "      <td>3</td>\n",
       "      <td>NaN</td>\n",
       "      <td>New York, NY</td>\n",
       "    </tr>\n",
       "    <tr>\n",
       "      <th>6</th>\n",
       "      <td>1.0</td>\n",
       "      <td>1.0</td>\n",
       "      <td>Andrews, Miss. Kornelia Theodosia</td>\n",
       "      <td>female</td>\n",
       "      <td>63.0000</td>\n",
       "      <td>1.0</td>\n",
       "      <td>0.0</td>\n",
       "      <td>13502</td>\n",
       "      <td>77.9583</td>\n",
       "      <td>D7</td>\n",
       "      <td>S</td>\n",
       "      <td>10</td>\n",
       "      <td>NaN</td>\n",
       "      <td>Hudson, NY</td>\n",
       "    </tr>\n",
       "    <tr>\n",
       "      <th>7</th>\n",
       "      <td>1.0</td>\n",
       "      <td>0.0</td>\n",
       "      <td>Andrews, Mr. Thomas Jr</td>\n",
       "      <td>male</td>\n",
       "      <td>39.0000</td>\n",
       "      <td>0.0</td>\n",
       "      <td>0.0</td>\n",
       "      <td>112050</td>\n",
       "      <td>0.0000</td>\n",
       "      <td>A36</td>\n",
       "      <td>S</td>\n",
       "      <td>NaN</td>\n",
       "      <td>NaN</td>\n",
       "      <td>Belfast, NI</td>\n",
       "    </tr>\n",
       "    <tr>\n",
       "      <th>8</th>\n",
       "      <td>1.0</td>\n",
       "      <td>1.0</td>\n",
       "      <td>Appleton, Mrs. Edward Dale (Charlotte Lamson)</td>\n",
       "      <td>female</td>\n",
       "      <td>53.0000</td>\n",
       "      <td>2.0</td>\n",
       "      <td>0.0</td>\n",
       "      <td>11769</td>\n",
       "      <td>51.4792</td>\n",
       "      <td>C101</td>\n",
       "      <td>S</td>\n",
       "      <td>D</td>\n",
       "      <td>NaN</td>\n",
       "      <td>Bayside, Queens, NY</td>\n",
       "    </tr>\n",
       "    <tr>\n",
       "      <th>9</th>\n",
       "      <td>1.0</td>\n",
       "      <td>0.0</td>\n",
       "      <td>Artagaveytia, Mr. Ramon</td>\n",
       "      <td>male</td>\n",
       "      <td>71.0000</td>\n",
       "      <td>0.0</td>\n",
       "      <td>0.0</td>\n",
       "      <td>PC 17609</td>\n",
       "      <td>49.5042</td>\n",
       "      <td>NaN</td>\n",
       "      <td>C</td>\n",
       "      <td>NaN</td>\n",
       "      <td>22.0</td>\n",
       "      <td>Montevideo, Uruguay</td>\n",
       "    </tr>\n",
       "    <tr>\n",
       "      <th>10</th>\n",
       "      <td>1.0</td>\n",
       "      <td>0.0</td>\n",
       "      <td>Astor, Col. John Jacob</td>\n",
       "      <td>male</td>\n",
       "      <td>47.0000</td>\n",
       "      <td>1.0</td>\n",
       "      <td>0.0</td>\n",
       "      <td>PC 17757</td>\n",
       "      <td>227.5250</td>\n",
       "      <td>C62 C64</td>\n",
       "      <td>C</td>\n",
       "      <td>NaN</td>\n",
       "      <td>124.0</td>\n",
       "      <td>New York, NY</td>\n",
       "    </tr>\n",
       "    <tr>\n",
       "      <th>11</th>\n",
       "      <td>1.0</td>\n",
       "      <td>1.0</td>\n",
       "      <td>Astor, Mrs. John Jacob (Madeleine Talmadge Force)</td>\n",
       "      <td>female</td>\n",
       "      <td>18.0000</td>\n",
       "      <td>1.0</td>\n",
       "      <td>0.0</td>\n",
       "      <td>PC 17757</td>\n",
       "      <td>227.5250</td>\n",
       "      <td>C62 C64</td>\n",
       "      <td>C</td>\n",
       "      <td>4</td>\n",
       "      <td>NaN</td>\n",
       "      <td>New York, NY</td>\n",
       "    </tr>\n",
       "    <tr>\n",
       "      <th>12</th>\n",
       "      <td>1.0</td>\n",
       "      <td>1.0</td>\n",
       "      <td>Aubart, Mme. Leontine Pauline</td>\n",
       "      <td>female</td>\n",
       "      <td>24.0000</td>\n",
       "      <td>0.0</td>\n",
       "      <td>0.0</td>\n",
       "      <td>PC 17477</td>\n",
       "      <td>69.3000</td>\n",
       "      <td>B35</td>\n",
       "      <td>C</td>\n",
       "      <td>9</td>\n",
       "      <td>NaN</td>\n",
       "      <td>Paris, France</td>\n",
       "    </tr>\n",
       "    <tr>\n",
       "      <th>13</th>\n",
       "      <td>1.0</td>\n",
       "      <td>1.0</td>\n",
       "      <td>Barber, Miss. Ellen \"Nellie\"</td>\n",
       "      <td>female</td>\n",
       "      <td>26.0000</td>\n",
       "      <td>0.0</td>\n",
       "      <td>0.0</td>\n",
       "      <td>19877</td>\n",
       "      <td>78.8500</td>\n",
       "      <td>NaN</td>\n",
       "      <td>S</td>\n",
       "      <td>6</td>\n",
       "      <td>NaN</td>\n",
       "      <td>NaN</td>\n",
       "    </tr>\n",
       "    <tr>\n",
       "      <th>14</th>\n",
       "      <td>1.0</td>\n",
       "      <td>1.0</td>\n",
       "      <td>Barkworth, Mr. Algernon Henry Wilson</td>\n",
       "      <td>male</td>\n",
       "      <td>80.0000</td>\n",
       "      <td>0.0</td>\n",
       "      <td>0.0</td>\n",
       "      <td>27042</td>\n",
       "      <td>30.0000</td>\n",
       "      <td>A23</td>\n",
       "      <td>S</td>\n",
       "      <td>B</td>\n",
       "      <td>NaN</td>\n",
       "      <td>Hessle, Yorks</td>\n",
       "    </tr>\n",
       "    <tr>\n",
       "      <th>15</th>\n",
       "      <td>1.0</td>\n",
       "      <td>0.0</td>\n",
       "      <td>Baumann, Mr. John D</td>\n",
       "      <td>male</td>\n",
       "      <td>NaN</td>\n",
       "      <td>0.0</td>\n",
       "      <td>0.0</td>\n",
       "      <td>PC 17318</td>\n",
       "      <td>25.9250</td>\n",
       "      <td>NaN</td>\n",
       "      <td>S</td>\n",
       "      <td>NaN</td>\n",
       "      <td>NaN</td>\n",
       "      <td>New York, NY</td>\n",
       "    </tr>\n",
       "    <tr>\n",
       "      <th>16</th>\n",
       "      <td>1.0</td>\n",
       "      <td>0.0</td>\n",
       "      <td>Baxter, Mr. Quigg Edmond</td>\n",
       "      <td>male</td>\n",
       "      <td>24.0000</td>\n",
       "      <td>0.0</td>\n",
       "      <td>1.0</td>\n",
       "      <td>PC 17558</td>\n",
       "      <td>247.5208</td>\n",
       "      <td>B58 B60</td>\n",
       "      <td>C</td>\n",
       "      <td>NaN</td>\n",
       "      <td>NaN</td>\n",
       "      <td>Montreal, PQ</td>\n",
       "    </tr>\n",
       "    <tr>\n",
       "      <th>17</th>\n",
       "      <td>1.0</td>\n",
       "      <td>1.0</td>\n",
       "      <td>Baxter, Mrs. James (Helene DeLaudeniere Chaput)</td>\n",
       "      <td>female</td>\n",
       "      <td>50.0000</td>\n",
       "      <td>0.0</td>\n",
       "      <td>1.0</td>\n",
       "      <td>PC 17558</td>\n",
       "      <td>247.5208</td>\n",
       "      <td>B58 B60</td>\n",
       "      <td>C</td>\n",
       "      <td>6</td>\n",
       "      <td>NaN</td>\n",
       "      <td>Montreal, PQ</td>\n",
       "    </tr>\n",
       "    <tr>\n",
       "      <th>18</th>\n",
       "      <td>1.0</td>\n",
       "      <td>1.0</td>\n",
       "      <td>Bazzani, Miss. Albina</td>\n",
       "      <td>female</td>\n",
       "      <td>32.0000</td>\n",
       "      <td>0.0</td>\n",
       "      <td>0.0</td>\n",
       "      <td>11813</td>\n",
       "      <td>76.2917</td>\n",
       "      <td>D15</td>\n",
       "      <td>C</td>\n",
       "      <td>8</td>\n",
       "      <td>NaN</td>\n",
       "      <td>NaN</td>\n",
       "    </tr>\n",
       "    <tr>\n",
       "      <th>19</th>\n",
       "      <td>1.0</td>\n",
       "      <td>0.0</td>\n",
       "      <td>Beattie, Mr. Thomson</td>\n",
       "      <td>male</td>\n",
       "      <td>36.0000</td>\n",
       "      <td>0.0</td>\n",
       "      <td>0.0</td>\n",
       "      <td>13050</td>\n",
       "      <td>75.2417</td>\n",
       "      <td>C6</td>\n",
       "      <td>C</td>\n",
       "      <td>A</td>\n",
       "      <td>NaN</td>\n",
       "      <td>Winnipeg, MN</td>\n",
       "    </tr>\n",
       "    <tr>\n",
       "      <th>20</th>\n",
       "      <td>1.0</td>\n",
       "      <td>1.0</td>\n",
       "      <td>Beckwith, Mr. Richard Leonard</td>\n",
       "      <td>male</td>\n",
       "      <td>37.0000</td>\n",
       "      <td>1.0</td>\n",
       "      <td>1.0</td>\n",
       "      <td>11751</td>\n",
       "      <td>52.5542</td>\n",
       "      <td>D35</td>\n",
       "      <td>S</td>\n",
       "      <td>5</td>\n",
       "      <td>NaN</td>\n",
       "      <td>New York, NY</td>\n",
       "    </tr>\n",
       "    <tr>\n",
       "      <th>21</th>\n",
       "      <td>1.0</td>\n",
       "      <td>1.0</td>\n",
       "      <td>Beckwith, Mrs. Richard Leonard (Sallie Monypeny)</td>\n",
       "      <td>female</td>\n",
       "      <td>47.0000</td>\n",
       "      <td>1.0</td>\n",
       "      <td>1.0</td>\n",
       "      <td>11751</td>\n",
       "      <td>52.5542</td>\n",
       "      <td>D35</td>\n",
       "      <td>S</td>\n",
       "      <td>5</td>\n",
       "      <td>NaN</td>\n",
       "      <td>New York, NY</td>\n",
       "    </tr>\n",
       "    <tr>\n",
       "      <th>22</th>\n",
       "      <td>1.0</td>\n",
       "      <td>1.0</td>\n",
       "      <td>Behr, Mr. Karl Howell</td>\n",
       "      <td>male</td>\n",
       "      <td>26.0000</td>\n",
       "      <td>0.0</td>\n",
       "      <td>0.0</td>\n",
       "      <td>111369</td>\n",
       "      <td>30.0000</td>\n",
       "      <td>C148</td>\n",
       "      <td>C</td>\n",
       "      <td>5</td>\n",
       "      <td>NaN</td>\n",
       "      <td>New York, NY</td>\n",
       "    </tr>\n",
       "    <tr>\n",
       "      <th>23</th>\n",
       "      <td>1.0</td>\n",
       "      <td>1.0</td>\n",
       "      <td>Bidois, Miss. Rosalie</td>\n",
       "      <td>female</td>\n",
       "      <td>42.0000</td>\n",
       "      <td>0.0</td>\n",
       "      <td>0.0</td>\n",
       "      <td>PC 17757</td>\n",
       "      <td>227.5250</td>\n",
       "      <td>NaN</td>\n",
       "      <td>C</td>\n",
       "      <td>4</td>\n",
       "      <td>NaN</td>\n",
       "      <td>NaN</td>\n",
       "    </tr>\n",
       "    <tr>\n",
       "      <th>24</th>\n",
       "      <td>1.0</td>\n",
       "      <td>1.0</td>\n",
       "      <td>Bird, Miss. Ellen</td>\n",
       "      <td>female</td>\n",
       "      <td>29.0000</td>\n",
       "      <td>0.0</td>\n",
       "      <td>0.0</td>\n",
       "      <td>PC 17483</td>\n",
       "      <td>221.7792</td>\n",
       "      <td>C97</td>\n",
       "      <td>S</td>\n",
       "      <td>8</td>\n",
       "      <td>NaN</td>\n",
       "      <td>NaN</td>\n",
       "    </tr>\n",
       "    <tr>\n",
       "      <th>25</th>\n",
       "      <td>1.0</td>\n",
       "      <td>0.0</td>\n",
       "      <td>Birnbaum, Mr. Jakob</td>\n",
       "      <td>male</td>\n",
       "      <td>25.0000</td>\n",
       "      <td>0.0</td>\n",
       "      <td>0.0</td>\n",
       "      <td>13905</td>\n",
       "      <td>26.0000</td>\n",
       "      <td>NaN</td>\n",
       "      <td>C</td>\n",
       "      <td>NaN</td>\n",
       "      <td>148.0</td>\n",
       "      <td>San Francisco, CA</td>\n",
       "    </tr>\n",
       "    <tr>\n",
       "      <th>26</th>\n",
       "      <td>1.0</td>\n",
       "      <td>1.0</td>\n",
       "      <td>Bishop, Mr. Dickinson H</td>\n",
       "      <td>male</td>\n",
       "      <td>25.0000</td>\n",
       "      <td>1.0</td>\n",
       "      <td>0.0</td>\n",
       "      <td>11967</td>\n",
       "      <td>91.0792</td>\n",
       "      <td>B49</td>\n",
       "      <td>C</td>\n",
       "      <td>7</td>\n",
       "      <td>NaN</td>\n",
       "      <td>Dowagiac, MI</td>\n",
       "    </tr>\n",
       "    <tr>\n",
       "      <th>27</th>\n",
       "      <td>1.0</td>\n",
       "      <td>1.0</td>\n",
       "      <td>Bishop, Mrs. Dickinson H (Helen Walton)</td>\n",
       "      <td>female</td>\n",
       "      <td>19.0000</td>\n",
       "      <td>1.0</td>\n",
       "      <td>0.0</td>\n",
       "      <td>11967</td>\n",
       "      <td>91.0792</td>\n",
       "      <td>B49</td>\n",
       "      <td>C</td>\n",
       "      <td>7</td>\n",
       "      <td>NaN</td>\n",
       "      <td>Dowagiac, MI</td>\n",
       "    </tr>\n",
       "    <tr>\n",
       "      <th>28</th>\n",
       "      <td>1.0</td>\n",
       "      <td>1.0</td>\n",
       "      <td>Bissette, Miss. Amelia</td>\n",
       "      <td>female</td>\n",
       "      <td>35.0000</td>\n",
       "      <td>0.0</td>\n",
       "      <td>0.0</td>\n",
       "      <td>PC 17760</td>\n",
       "      <td>135.6333</td>\n",
       "      <td>C99</td>\n",
       "      <td>S</td>\n",
       "      <td>8</td>\n",
       "      <td>NaN</td>\n",
       "      <td>NaN</td>\n",
       "    </tr>\n",
       "    <tr>\n",
       "      <th>29</th>\n",
       "      <td>1.0</td>\n",
       "      <td>1.0</td>\n",
       "      <td>Bjornstrom-Steffansson, Mr. Mauritz Hakan</td>\n",
       "      <td>male</td>\n",
       "      <td>28.0000</td>\n",
       "      <td>0.0</td>\n",
       "      <td>0.0</td>\n",
       "      <td>110564</td>\n",
       "      <td>26.5500</td>\n",
       "      <td>C52</td>\n",
       "      <td>S</td>\n",
       "      <td>D</td>\n",
       "      <td>NaN</td>\n",
       "      <td>Stockholm, Sweden / Washington, DC</td>\n",
       "    </tr>\n",
       "    <tr>\n",
       "      <th>...</th>\n",
       "      <td>...</td>\n",
       "      <td>...</td>\n",
       "      <td>...</td>\n",
       "      <td>...</td>\n",
       "      <td>...</td>\n",
       "      <td>...</td>\n",
       "      <td>...</td>\n",
       "      <td>...</td>\n",
       "      <td>...</td>\n",
       "      <td>...</td>\n",
       "      <td>...</td>\n",
       "      <td>...</td>\n",
       "      <td>...</td>\n",
       "      <td>...</td>\n",
       "    </tr>\n",
       "    <tr>\n",
       "      <th>1280</th>\n",
       "      <td>3.0</td>\n",
       "      <td>0.0</td>\n",
       "      <td>Vovk, Mr. Janko</td>\n",
       "      <td>male</td>\n",
       "      <td>22.0000</td>\n",
       "      <td>0.0</td>\n",
       "      <td>0.0</td>\n",
       "      <td>349252</td>\n",
       "      <td>7.8958</td>\n",
       "      <td>NaN</td>\n",
       "      <td>S</td>\n",
       "      <td>NaN</td>\n",
       "      <td>NaN</td>\n",
       "      <td>NaN</td>\n",
       "    </tr>\n",
       "    <tr>\n",
       "      <th>1281</th>\n",
       "      <td>3.0</td>\n",
       "      <td>0.0</td>\n",
       "      <td>Waelens, Mr. Achille</td>\n",
       "      <td>male</td>\n",
       "      <td>22.0000</td>\n",
       "      <td>0.0</td>\n",
       "      <td>0.0</td>\n",
       "      <td>345767</td>\n",
       "      <td>9.0000</td>\n",
       "      <td>NaN</td>\n",
       "      <td>S</td>\n",
       "      <td>NaN</td>\n",
       "      <td>NaN</td>\n",
       "      <td>Antwerp, Belgium / Stanton, OH</td>\n",
       "    </tr>\n",
       "    <tr>\n",
       "      <th>1282</th>\n",
       "      <td>3.0</td>\n",
       "      <td>0.0</td>\n",
       "      <td>Ware, Mr. Frederick</td>\n",
       "      <td>male</td>\n",
       "      <td>NaN</td>\n",
       "      <td>0.0</td>\n",
       "      <td>0.0</td>\n",
       "      <td>359309</td>\n",
       "      <td>8.0500</td>\n",
       "      <td>NaN</td>\n",
       "      <td>S</td>\n",
       "      <td>NaN</td>\n",
       "      <td>NaN</td>\n",
       "      <td>NaN</td>\n",
       "    </tr>\n",
       "    <tr>\n",
       "      <th>1283</th>\n",
       "      <td>3.0</td>\n",
       "      <td>0.0</td>\n",
       "      <td>Warren, Mr. Charles William</td>\n",
       "      <td>male</td>\n",
       "      <td>NaN</td>\n",
       "      <td>0.0</td>\n",
       "      <td>0.0</td>\n",
       "      <td>C.A. 49867</td>\n",
       "      <td>7.5500</td>\n",
       "      <td>NaN</td>\n",
       "      <td>S</td>\n",
       "      <td>NaN</td>\n",
       "      <td>NaN</td>\n",
       "      <td>NaN</td>\n",
       "    </tr>\n",
       "    <tr>\n",
       "      <th>1284</th>\n",
       "      <td>3.0</td>\n",
       "      <td>0.0</td>\n",
       "      <td>Webber, Mr. James</td>\n",
       "      <td>male</td>\n",
       "      <td>NaN</td>\n",
       "      <td>0.0</td>\n",
       "      <td>0.0</td>\n",
       "      <td>SOTON/OQ 3101316</td>\n",
       "      <td>8.0500</td>\n",
       "      <td>NaN</td>\n",
       "      <td>S</td>\n",
       "      <td>NaN</td>\n",
       "      <td>NaN</td>\n",
       "      <td>NaN</td>\n",
       "    </tr>\n",
       "    <tr>\n",
       "      <th>1285</th>\n",
       "      <td>3.0</td>\n",
       "      <td>0.0</td>\n",
       "      <td>Wenzel, Mr. Linhart</td>\n",
       "      <td>male</td>\n",
       "      <td>32.5000</td>\n",
       "      <td>0.0</td>\n",
       "      <td>0.0</td>\n",
       "      <td>345775</td>\n",
       "      <td>9.5000</td>\n",
       "      <td>NaN</td>\n",
       "      <td>S</td>\n",
       "      <td>NaN</td>\n",
       "      <td>298.0</td>\n",
       "      <td>NaN</td>\n",
       "    </tr>\n",
       "    <tr>\n",
       "      <th>1286</th>\n",
       "      <td>3.0</td>\n",
       "      <td>1.0</td>\n",
       "      <td>Whabee, Mrs. George Joseph (Shawneene Abi-Saab)</td>\n",
       "      <td>female</td>\n",
       "      <td>38.0000</td>\n",
       "      <td>0.0</td>\n",
       "      <td>0.0</td>\n",
       "      <td>2688</td>\n",
       "      <td>7.2292</td>\n",
       "      <td>NaN</td>\n",
       "      <td>C</td>\n",
       "      <td>C</td>\n",
       "      <td>NaN</td>\n",
       "      <td>NaN</td>\n",
       "    </tr>\n",
       "    <tr>\n",
       "      <th>1287</th>\n",
       "      <td>3.0</td>\n",
       "      <td>0.0</td>\n",
       "      <td>Widegren, Mr. Carl/Charles Peter</td>\n",
       "      <td>male</td>\n",
       "      <td>51.0000</td>\n",
       "      <td>0.0</td>\n",
       "      <td>0.0</td>\n",
       "      <td>347064</td>\n",
       "      <td>7.7500</td>\n",
       "      <td>NaN</td>\n",
       "      <td>S</td>\n",
       "      <td>NaN</td>\n",
       "      <td>NaN</td>\n",
       "      <td>NaN</td>\n",
       "    </tr>\n",
       "    <tr>\n",
       "      <th>1288</th>\n",
       "      <td>3.0</td>\n",
       "      <td>0.0</td>\n",
       "      <td>Wiklund, Mr. Jakob Alfred</td>\n",
       "      <td>male</td>\n",
       "      <td>18.0000</td>\n",
       "      <td>1.0</td>\n",
       "      <td>0.0</td>\n",
       "      <td>3101267</td>\n",
       "      <td>6.4958</td>\n",
       "      <td>NaN</td>\n",
       "      <td>S</td>\n",
       "      <td>NaN</td>\n",
       "      <td>314.0</td>\n",
       "      <td>NaN</td>\n",
       "    </tr>\n",
       "    <tr>\n",
       "      <th>1289</th>\n",
       "      <td>3.0</td>\n",
       "      <td>0.0</td>\n",
       "      <td>Wiklund, Mr. Karl Johan</td>\n",
       "      <td>male</td>\n",
       "      <td>21.0000</td>\n",
       "      <td>1.0</td>\n",
       "      <td>0.0</td>\n",
       "      <td>3101266</td>\n",
       "      <td>6.4958</td>\n",
       "      <td>NaN</td>\n",
       "      <td>S</td>\n",
       "      <td>NaN</td>\n",
       "      <td>NaN</td>\n",
       "      <td>NaN</td>\n",
       "    </tr>\n",
       "    <tr>\n",
       "      <th>1290</th>\n",
       "      <td>3.0</td>\n",
       "      <td>1.0</td>\n",
       "      <td>Wilkes, Mrs. James (Ellen Needs)</td>\n",
       "      <td>female</td>\n",
       "      <td>47.0000</td>\n",
       "      <td>1.0</td>\n",
       "      <td>0.0</td>\n",
       "      <td>363272</td>\n",
       "      <td>7.0000</td>\n",
       "      <td>NaN</td>\n",
       "      <td>S</td>\n",
       "      <td>NaN</td>\n",
       "      <td>NaN</td>\n",
       "      <td>NaN</td>\n",
       "    </tr>\n",
       "    <tr>\n",
       "      <th>1291</th>\n",
       "      <td>3.0</td>\n",
       "      <td>0.0</td>\n",
       "      <td>Willer, Mr. Aaron (\"Abi Weller\")</td>\n",
       "      <td>male</td>\n",
       "      <td>NaN</td>\n",
       "      <td>0.0</td>\n",
       "      <td>0.0</td>\n",
       "      <td>3410</td>\n",
       "      <td>8.7125</td>\n",
       "      <td>NaN</td>\n",
       "      <td>S</td>\n",
       "      <td>NaN</td>\n",
       "      <td>NaN</td>\n",
       "      <td>NaN</td>\n",
       "    </tr>\n",
       "    <tr>\n",
       "      <th>1292</th>\n",
       "      <td>3.0</td>\n",
       "      <td>0.0</td>\n",
       "      <td>Willey, Mr. Edward</td>\n",
       "      <td>male</td>\n",
       "      <td>NaN</td>\n",
       "      <td>0.0</td>\n",
       "      <td>0.0</td>\n",
       "      <td>S.O./P.P. 751</td>\n",
       "      <td>7.5500</td>\n",
       "      <td>NaN</td>\n",
       "      <td>S</td>\n",
       "      <td>NaN</td>\n",
       "      <td>NaN</td>\n",
       "      <td>NaN</td>\n",
       "    </tr>\n",
       "    <tr>\n",
       "      <th>1293</th>\n",
       "      <td>3.0</td>\n",
       "      <td>0.0</td>\n",
       "      <td>Williams, Mr. Howard Hugh \"Harry\"</td>\n",
       "      <td>male</td>\n",
       "      <td>NaN</td>\n",
       "      <td>0.0</td>\n",
       "      <td>0.0</td>\n",
       "      <td>A/5 2466</td>\n",
       "      <td>8.0500</td>\n",
       "      <td>NaN</td>\n",
       "      <td>S</td>\n",
       "      <td>NaN</td>\n",
       "      <td>NaN</td>\n",
       "      <td>NaN</td>\n",
       "    </tr>\n",
       "    <tr>\n",
       "      <th>1294</th>\n",
       "      <td>3.0</td>\n",
       "      <td>0.0</td>\n",
       "      <td>Williams, Mr. Leslie</td>\n",
       "      <td>male</td>\n",
       "      <td>28.5000</td>\n",
       "      <td>0.0</td>\n",
       "      <td>0.0</td>\n",
       "      <td>54636</td>\n",
       "      <td>16.1000</td>\n",
       "      <td>NaN</td>\n",
       "      <td>S</td>\n",
       "      <td>NaN</td>\n",
       "      <td>14.0</td>\n",
       "      <td>NaN</td>\n",
       "    </tr>\n",
       "    <tr>\n",
       "      <th>1295</th>\n",
       "      <td>3.0</td>\n",
       "      <td>0.0</td>\n",
       "      <td>Windelov, Mr. Einar</td>\n",
       "      <td>male</td>\n",
       "      <td>21.0000</td>\n",
       "      <td>0.0</td>\n",
       "      <td>0.0</td>\n",
       "      <td>SOTON/OQ 3101317</td>\n",
       "      <td>7.2500</td>\n",
       "      <td>NaN</td>\n",
       "      <td>S</td>\n",
       "      <td>NaN</td>\n",
       "      <td>NaN</td>\n",
       "      <td>NaN</td>\n",
       "    </tr>\n",
       "    <tr>\n",
       "      <th>1296</th>\n",
       "      <td>3.0</td>\n",
       "      <td>0.0</td>\n",
       "      <td>Wirz, Mr. Albert</td>\n",
       "      <td>male</td>\n",
       "      <td>27.0000</td>\n",
       "      <td>0.0</td>\n",
       "      <td>0.0</td>\n",
       "      <td>315154</td>\n",
       "      <td>8.6625</td>\n",
       "      <td>NaN</td>\n",
       "      <td>S</td>\n",
       "      <td>NaN</td>\n",
       "      <td>131.0</td>\n",
       "      <td>NaN</td>\n",
       "    </tr>\n",
       "    <tr>\n",
       "      <th>1297</th>\n",
       "      <td>3.0</td>\n",
       "      <td>0.0</td>\n",
       "      <td>Wiseman, Mr. Phillippe</td>\n",
       "      <td>male</td>\n",
       "      <td>NaN</td>\n",
       "      <td>0.0</td>\n",
       "      <td>0.0</td>\n",
       "      <td>A/4. 34244</td>\n",
       "      <td>7.2500</td>\n",
       "      <td>NaN</td>\n",
       "      <td>S</td>\n",
       "      <td>NaN</td>\n",
       "      <td>NaN</td>\n",
       "      <td>NaN</td>\n",
       "    </tr>\n",
       "    <tr>\n",
       "      <th>1298</th>\n",
       "      <td>3.0</td>\n",
       "      <td>0.0</td>\n",
       "      <td>Wittevrongel, Mr. Camille</td>\n",
       "      <td>male</td>\n",
       "      <td>36.0000</td>\n",
       "      <td>0.0</td>\n",
       "      <td>0.0</td>\n",
       "      <td>345771</td>\n",
       "      <td>9.5000</td>\n",
       "      <td>NaN</td>\n",
       "      <td>S</td>\n",
       "      <td>NaN</td>\n",
       "      <td>NaN</td>\n",
       "      <td>NaN</td>\n",
       "    </tr>\n",
       "    <tr>\n",
       "      <th>1299</th>\n",
       "      <td>3.0</td>\n",
       "      <td>0.0</td>\n",
       "      <td>Yasbeck, Mr. Antoni</td>\n",
       "      <td>male</td>\n",
       "      <td>27.0000</td>\n",
       "      <td>1.0</td>\n",
       "      <td>0.0</td>\n",
       "      <td>2659</td>\n",
       "      <td>14.4542</td>\n",
       "      <td>NaN</td>\n",
       "      <td>C</td>\n",
       "      <td>C</td>\n",
       "      <td>NaN</td>\n",
       "      <td>NaN</td>\n",
       "    </tr>\n",
       "    <tr>\n",
       "      <th>1300</th>\n",
       "      <td>3.0</td>\n",
       "      <td>1.0</td>\n",
       "      <td>Yasbeck, Mrs. Antoni (Selini Alexander)</td>\n",
       "      <td>female</td>\n",
       "      <td>15.0000</td>\n",
       "      <td>1.0</td>\n",
       "      <td>0.0</td>\n",
       "      <td>2659</td>\n",
       "      <td>14.4542</td>\n",
       "      <td>NaN</td>\n",
       "      <td>C</td>\n",
       "      <td>NaN</td>\n",
       "      <td>NaN</td>\n",
       "      <td>NaN</td>\n",
       "    </tr>\n",
       "    <tr>\n",
       "      <th>1301</th>\n",
       "      <td>3.0</td>\n",
       "      <td>0.0</td>\n",
       "      <td>Youseff, Mr. Gerious</td>\n",
       "      <td>male</td>\n",
       "      <td>45.5000</td>\n",
       "      <td>0.0</td>\n",
       "      <td>0.0</td>\n",
       "      <td>2628</td>\n",
       "      <td>7.2250</td>\n",
       "      <td>NaN</td>\n",
       "      <td>C</td>\n",
       "      <td>NaN</td>\n",
       "      <td>312.0</td>\n",
       "      <td>NaN</td>\n",
       "    </tr>\n",
       "    <tr>\n",
       "      <th>1302</th>\n",
       "      <td>3.0</td>\n",
       "      <td>0.0</td>\n",
       "      <td>Yousif, Mr. Wazli</td>\n",
       "      <td>male</td>\n",
       "      <td>NaN</td>\n",
       "      <td>0.0</td>\n",
       "      <td>0.0</td>\n",
       "      <td>2647</td>\n",
       "      <td>7.2250</td>\n",
       "      <td>NaN</td>\n",
       "      <td>C</td>\n",
       "      <td>NaN</td>\n",
       "      <td>NaN</td>\n",
       "      <td>NaN</td>\n",
       "    </tr>\n",
       "    <tr>\n",
       "      <th>1303</th>\n",
       "      <td>3.0</td>\n",
       "      <td>0.0</td>\n",
       "      <td>Yousseff, Mr. Gerious</td>\n",
       "      <td>male</td>\n",
       "      <td>NaN</td>\n",
       "      <td>0.0</td>\n",
       "      <td>0.0</td>\n",
       "      <td>2627</td>\n",
       "      <td>14.4583</td>\n",
       "      <td>NaN</td>\n",
       "      <td>C</td>\n",
       "      <td>NaN</td>\n",
       "      <td>NaN</td>\n",
       "      <td>NaN</td>\n",
       "    </tr>\n",
       "    <tr>\n",
       "      <th>1304</th>\n",
       "      <td>3.0</td>\n",
       "      <td>0.0</td>\n",
       "      <td>Zabour, Miss. Hileni</td>\n",
       "      <td>female</td>\n",
       "      <td>14.5000</td>\n",
       "      <td>1.0</td>\n",
       "      <td>0.0</td>\n",
       "      <td>2665</td>\n",
       "      <td>14.4542</td>\n",
       "      <td>NaN</td>\n",
       "      <td>C</td>\n",
       "      <td>NaN</td>\n",
       "      <td>328.0</td>\n",
       "      <td>NaN</td>\n",
       "    </tr>\n",
       "    <tr>\n",
       "      <th>1305</th>\n",
       "      <td>3.0</td>\n",
       "      <td>0.0</td>\n",
       "      <td>Zabour, Miss. Thamine</td>\n",
       "      <td>female</td>\n",
       "      <td>NaN</td>\n",
       "      <td>1.0</td>\n",
       "      <td>0.0</td>\n",
       "      <td>2665</td>\n",
       "      <td>14.4542</td>\n",
       "      <td>NaN</td>\n",
       "      <td>C</td>\n",
       "      <td>NaN</td>\n",
       "      <td>NaN</td>\n",
       "      <td>NaN</td>\n",
       "    </tr>\n",
       "    <tr>\n",
       "      <th>1306</th>\n",
       "      <td>3.0</td>\n",
       "      <td>0.0</td>\n",
       "      <td>Zakarian, Mr. Mapriededer</td>\n",
       "      <td>male</td>\n",
       "      <td>26.5000</td>\n",
       "      <td>0.0</td>\n",
       "      <td>0.0</td>\n",
       "      <td>2656</td>\n",
       "      <td>7.2250</td>\n",
       "      <td>NaN</td>\n",
       "      <td>C</td>\n",
       "      <td>NaN</td>\n",
       "      <td>304.0</td>\n",
       "      <td>NaN</td>\n",
       "    </tr>\n",
       "    <tr>\n",
       "      <th>1307</th>\n",
       "      <td>3.0</td>\n",
       "      <td>0.0</td>\n",
       "      <td>Zakarian, Mr. Ortin</td>\n",
       "      <td>male</td>\n",
       "      <td>27.0000</td>\n",
       "      <td>0.0</td>\n",
       "      <td>0.0</td>\n",
       "      <td>2670</td>\n",
       "      <td>7.2250</td>\n",
       "      <td>NaN</td>\n",
       "      <td>C</td>\n",
       "      <td>NaN</td>\n",
       "      <td>NaN</td>\n",
       "      <td>NaN</td>\n",
       "    </tr>\n",
       "    <tr>\n",
       "      <th>1308</th>\n",
       "      <td>3.0</td>\n",
       "      <td>0.0</td>\n",
       "      <td>Zimmerman, Mr. Leo</td>\n",
       "      <td>male</td>\n",
       "      <td>29.0000</td>\n",
       "      <td>0.0</td>\n",
       "      <td>0.0</td>\n",
       "      <td>315082</td>\n",
       "      <td>7.8750</td>\n",
       "      <td>NaN</td>\n",
       "      <td>S</td>\n",
       "      <td>NaN</td>\n",
       "      <td>NaN</td>\n",
       "      <td>NaN</td>\n",
       "    </tr>\n",
       "    <tr>\n",
       "      <th>1309</th>\n",
       "      <td>NaN</td>\n",
       "      <td>NaN</td>\n",
       "      <td>NaN</td>\n",
       "      <td>NaN</td>\n",
       "      <td>NaN</td>\n",
       "      <td>NaN</td>\n",
       "      <td>NaN</td>\n",
       "      <td>NaN</td>\n",
       "      <td>NaN</td>\n",
       "      <td>NaN</td>\n",
       "      <td>NaN</td>\n",
       "      <td>NaN</td>\n",
       "      <td>NaN</td>\n",
       "      <td>NaN</td>\n",
       "    </tr>\n",
       "  </tbody>\n",
       "</table>\n",
       "<p>1310 rows × 14 columns</p>\n",
       "</div>"
      ],
      "text/plain": [
       "      pclass  survived                                               name  \\\n",
       "0        1.0       1.0                      Allen, Miss. Elisabeth Walton   \n",
       "1        1.0       1.0                     Allison, Master. Hudson Trevor   \n",
       "2        1.0       0.0                       Allison, Miss. Helen Loraine   \n",
       "3        1.0       0.0               Allison, Mr. Hudson Joshua Creighton   \n",
       "4        1.0       0.0    Allison, Mrs. Hudson J C (Bessie Waldo Daniels)   \n",
       "5        1.0       1.0                                Anderson, Mr. Harry   \n",
       "6        1.0       1.0                  Andrews, Miss. Kornelia Theodosia   \n",
       "7        1.0       0.0                             Andrews, Mr. Thomas Jr   \n",
       "8        1.0       1.0      Appleton, Mrs. Edward Dale (Charlotte Lamson)   \n",
       "9        1.0       0.0                            Artagaveytia, Mr. Ramon   \n",
       "10       1.0       0.0                             Astor, Col. John Jacob   \n",
       "11       1.0       1.0  Astor, Mrs. John Jacob (Madeleine Talmadge Force)   \n",
       "12       1.0       1.0                      Aubart, Mme. Leontine Pauline   \n",
       "13       1.0       1.0                       Barber, Miss. Ellen \"Nellie\"   \n",
       "14       1.0       1.0               Barkworth, Mr. Algernon Henry Wilson   \n",
       "15       1.0       0.0                                Baumann, Mr. John D   \n",
       "16       1.0       0.0                           Baxter, Mr. Quigg Edmond   \n",
       "17       1.0       1.0    Baxter, Mrs. James (Helene DeLaudeniere Chaput)   \n",
       "18       1.0       1.0                              Bazzani, Miss. Albina   \n",
       "19       1.0       0.0                               Beattie, Mr. Thomson   \n",
       "20       1.0       1.0                      Beckwith, Mr. Richard Leonard   \n",
       "21       1.0       1.0   Beckwith, Mrs. Richard Leonard (Sallie Monypeny)   \n",
       "22       1.0       1.0                              Behr, Mr. Karl Howell   \n",
       "23       1.0       1.0                              Bidois, Miss. Rosalie   \n",
       "24       1.0       1.0                                  Bird, Miss. Ellen   \n",
       "25       1.0       0.0                                Birnbaum, Mr. Jakob   \n",
       "26       1.0       1.0                            Bishop, Mr. Dickinson H   \n",
       "27       1.0       1.0            Bishop, Mrs. Dickinson H (Helen Walton)   \n",
       "28       1.0       1.0                             Bissette, Miss. Amelia   \n",
       "29       1.0       1.0          Bjornstrom-Steffansson, Mr. Mauritz Hakan   \n",
       "...      ...       ...                                                ...   \n",
       "1280     3.0       0.0                                    Vovk, Mr. Janko   \n",
       "1281     3.0       0.0                               Waelens, Mr. Achille   \n",
       "1282     3.0       0.0                                Ware, Mr. Frederick   \n",
       "1283     3.0       0.0                        Warren, Mr. Charles William   \n",
       "1284     3.0       0.0                                  Webber, Mr. James   \n",
       "1285     3.0       0.0                                Wenzel, Mr. Linhart   \n",
       "1286     3.0       1.0    Whabee, Mrs. George Joseph (Shawneene Abi-Saab)   \n",
       "1287     3.0       0.0                   Widegren, Mr. Carl/Charles Peter   \n",
       "1288     3.0       0.0                          Wiklund, Mr. Jakob Alfred   \n",
       "1289     3.0       0.0                            Wiklund, Mr. Karl Johan   \n",
       "1290     3.0       1.0                   Wilkes, Mrs. James (Ellen Needs)   \n",
       "1291     3.0       0.0                   Willer, Mr. Aaron (\"Abi Weller\")   \n",
       "1292     3.0       0.0                                 Willey, Mr. Edward   \n",
       "1293     3.0       0.0                  Williams, Mr. Howard Hugh \"Harry\"   \n",
       "1294     3.0       0.0                               Williams, Mr. Leslie   \n",
       "1295     3.0       0.0                                Windelov, Mr. Einar   \n",
       "1296     3.0       0.0                                   Wirz, Mr. Albert   \n",
       "1297     3.0       0.0                             Wiseman, Mr. Phillippe   \n",
       "1298     3.0       0.0                          Wittevrongel, Mr. Camille   \n",
       "1299     3.0       0.0                                Yasbeck, Mr. Antoni   \n",
       "1300     3.0       1.0            Yasbeck, Mrs. Antoni (Selini Alexander)   \n",
       "1301     3.0       0.0                               Youseff, Mr. Gerious   \n",
       "1302     3.0       0.0                                  Yousif, Mr. Wazli   \n",
       "1303     3.0       0.0                              Yousseff, Mr. Gerious   \n",
       "1304     3.0       0.0                               Zabour, Miss. Hileni   \n",
       "1305     3.0       0.0                              Zabour, Miss. Thamine   \n",
       "1306     3.0       0.0                          Zakarian, Mr. Mapriededer   \n",
       "1307     3.0       0.0                                Zakarian, Mr. Ortin   \n",
       "1308     3.0       0.0                                 Zimmerman, Mr. Leo   \n",
       "1309     NaN       NaN                                                NaN   \n",
       "\n",
       "         sex      age  sibsp  parch            ticket      fare    cabin  \\\n",
       "0     female  29.0000    0.0    0.0             24160  211.3375       B5   \n",
       "1       male   0.9167    1.0    2.0            113781  151.5500  C22 C26   \n",
       "2     female   2.0000    1.0    2.0            113781  151.5500  C22 C26   \n",
       "3       male  30.0000    1.0    2.0            113781  151.5500  C22 C26   \n",
       "4     female  25.0000    1.0    2.0            113781  151.5500  C22 C26   \n",
       "5       male  48.0000    0.0    0.0             19952   26.5500      E12   \n",
       "6     female  63.0000    1.0    0.0             13502   77.9583       D7   \n",
       "7       male  39.0000    0.0    0.0            112050    0.0000      A36   \n",
       "8     female  53.0000    2.0    0.0             11769   51.4792     C101   \n",
       "9       male  71.0000    0.0    0.0          PC 17609   49.5042      NaN   \n",
       "10      male  47.0000    1.0    0.0          PC 17757  227.5250  C62 C64   \n",
       "11    female  18.0000    1.0    0.0          PC 17757  227.5250  C62 C64   \n",
       "12    female  24.0000    0.0    0.0          PC 17477   69.3000      B35   \n",
       "13    female  26.0000    0.0    0.0             19877   78.8500      NaN   \n",
       "14      male  80.0000    0.0    0.0             27042   30.0000      A23   \n",
       "15      male      NaN    0.0    0.0          PC 17318   25.9250      NaN   \n",
       "16      male  24.0000    0.0    1.0          PC 17558  247.5208  B58 B60   \n",
       "17    female  50.0000    0.0    1.0          PC 17558  247.5208  B58 B60   \n",
       "18    female  32.0000    0.0    0.0             11813   76.2917      D15   \n",
       "19      male  36.0000    0.0    0.0             13050   75.2417       C6   \n",
       "20      male  37.0000    1.0    1.0             11751   52.5542      D35   \n",
       "21    female  47.0000    1.0    1.0             11751   52.5542      D35   \n",
       "22      male  26.0000    0.0    0.0            111369   30.0000     C148   \n",
       "23    female  42.0000    0.0    0.0          PC 17757  227.5250      NaN   \n",
       "24    female  29.0000    0.0    0.0          PC 17483  221.7792      C97   \n",
       "25      male  25.0000    0.0    0.0             13905   26.0000      NaN   \n",
       "26      male  25.0000    1.0    0.0             11967   91.0792      B49   \n",
       "27    female  19.0000    1.0    0.0             11967   91.0792      B49   \n",
       "28    female  35.0000    0.0    0.0          PC 17760  135.6333      C99   \n",
       "29      male  28.0000    0.0    0.0            110564   26.5500      C52   \n",
       "...      ...      ...    ...    ...               ...       ...      ...   \n",
       "1280    male  22.0000    0.0    0.0            349252    7.8958      NaN   \n",
       "1281    male  22.0000    0.0    0.0            345767    9.0000      NaN   \n",
       "1282    male      NaN    0.0    0.0            359309    8.0500      NaN   \n",
       "1283    male      NaN    0.0    0.0        C.A. 49867    7.5500      NaN   \n",
       "1284    male      NaN    0.0    0.0  SOTON/OQ 3101316    8.0500      NaN   \n",
       "1285    male  32.5000    0.0    0.0            345775    9.5000      NaN   \n",
       "1286  female  38.0000    0.0    0.0              2688    7.2292      NaN   \n",
       "1287    male  51.0000    0.0    0.0            347064    7.7500      NaN   \n",
       "1288    male  18.0000    1.0    0.0           3101267    6.4958      NaN   \n",
       "1289    male  21.0000    1.0    0.0           3101266    6.4958      NaN   \n",
       "1290  female  47.0000    1.0    0.0            363272    7.0000      NaN   \n",
       "1291    male      NaN    0.0    0.0              3410    8.7125      NaN   \n",
       "1292    male      NaN    0.0    0.0     S.O./P.P. 751    7.5500      NaN   \n",
       "1293    male      NaN    0.0    0.0          A/5 2466    8.0500      NaN   \n",
       "1294    male  28.5000    0.0    0.0             54636   16.1000      NaN   \n",
       "1295    male  21.0000    0.0    0.0  SOTON/OQ 3101317    7.2500      NaN   \n",
       "1296    male  27.0000    0.0    0.0            315154    8.6625      NaN   \n",
       "1297    male      NaN    0.0    0.0        A/4. 34244    7.2500      NaN   \n",
       "1298    male  36.0000    0.0    0.0            345771    9.5000      NaN   \n",
       "1299    male  27.0000    1.0    0.0              2659   14.4542      NaN   \n",
       "1300  female  15.0000    1.0    0.0              2659   14.4542      NaN   \n",
       "1301    male  45.5000    0.0    0.0              2628    7.2250      NaN   \n",
       "1302    male      NaN    0.0    0.0              2647    7.2250      NaN   \n",
       "1303    male      NaN    0.0    0.0              2627   14.4583      NaN   \n",
       "1304  female  14.5000    1.0    0.0              2665   14.4542      NaN   \n",
       "1305  female      NaN    1.0    0.0              2665   14.4542      NaN   \n",
       "1306    male  26.5000    0.0    0.0              2656    7.2250      NaN   \n",
       "1307    male  27.0000    0.0    0.0              2670    7.2250      NaN   \n",
       "1308    male  29.0000    0.0    0.0            315082    7.8750      NaN   \n",
       "1309     NaN      NaN    NaN    NaN               NaN       NaN      NaN   \n",
       "\n",
       "     embarked boat   body                           home.dest  \n",
       "0           S    2    NaN                        St Louis, MO  \n",
       "1           S   11    NaN     Montreal, PQ / Chesterville, ON  \n",
       "2           S  NaN    NaN     Montreal, PQ / Chesterville, ON  \n",
       "3           S  NaN  135.0     Montreal, PQ / Chesterville, ON  \n",
       "4           S  NaN    NaN     Montreal, PQ / Chesterville, ON  \n",
       "5           S    3    NaN                        New York, NY  \n",
       "6           S   10    NaN                          Hudson, NY  \n",
       "7           S  NaN    NaN                         Belfast, NI  \n",
       "8           S    D    NaN                 Bayside, Queens, NY  \n",
       "9           C  NaN   22.0                 Montevideo, Uruguay  \n",
       "10          C  NaN  124.0                        New York, NY  \n",
       "11          C    4    NaN                        New York, NY  \n",
       "12          C    9    NaN                       Paris, France  \n",
       "13          S    6    NaN                                 NaN  \n",
       "14          S    B    NaN                       Hessle, Yorks  \n",
       "15          S  NaN    NaN                        New York, NY  \n",
       "16          C  NaN    NaN                        Montreal, PQ  \n",
       "17          C    6    NaN                        Montreal, PQ  \n",
       "18          C    8    NaN                                 NaN  \n",
       "19          C    A    NaN                        Winnipeg, MN  \n",
       "20          S    5    NaN                        New York, NY  \n",
       "21          S    5    NaN                        New York, NY  \n",
       "22          C    5    NaN                        New York, NY  \n",
       "23          C    4    NaN                                 NaN  \n",
       "24          S    8    NaN                                 NaN  \n",
       "25          C  NaN  148.0                   San Francisco, CA  \n",
       "26          C    7    NaN                        Dowagiac, MI  \n",
       "27          C    7    NaN                        Dowagiac, MI  \n",
       "28          S    8    NaN                                 NaN  \n",
       "29          S    D    NaN  Stockholm, Sweden / Washington, DC  \n",
       "...       ...  ...    ...                                 ...  \n",
       "1280        S  NaN    NaN                                 NaN  \n",
       "1281        S  NaN    NaN      Antwerp, Belgium / Stanton, OH  \n",
       "1282        S  NaN    NaN                                 NaN  \n",
       "1283        S  NaN    NaN                                 NaN  \n",
       "1284        S  NaN    NaN                                 NaN  \n",
       "1285        S  NaN  298.0                                 NaN  \n",
       "1286        C    C    NaN                                 NaN  \n",
       "1287        S  NaN    NaN                                 NaN  \n",
       "1288        S  NaN  314.0                                 NaN  \n",
       "1289        S  NaN    NaN                                 NaN  \n",
       "1290        S  NaN    NaN                                 NaN  \n",
       "1291        S  NaN    NaN                                 NaN  \n",
       "1292        S  NaN    NaN                                 NaN  \n",
       "1293        S  NaN    NaN                                 NaN  \n",
       "1294        S  NaN   14.0                                 NaN  \n",
       "1295        S  NaN    NaN                                 NaN  \n",
       "1296        S  NaN  131.0                                 NaN  \n",
       "1297        S  NaN    NaN                                 NaN  \n",
       "1298        S  NaN    NaN                                 NaN  \n",
       "1299        C    C    NaN                                 NaN  \n",
       "1300        C  NaN    NaN                                 NaN  \n",
       "1301        C  NaN  312.0                                 NaN  \n",
       "1302        C  NaN    NaN                                 NaN  \n",
       "1303        C  NaN    NaN                                 NaN  \n",
       "1304        C  NaN  328.0                                 NaN  \n",
       "1305        C  NaN    NaN                                 NaN  \n",
       "1306        C  NaN  304.0                                 NaN  \n",
       "1307        C  NaN    NaN                                 NaN  \n",
       "1308        S  NaN    NaN                                 NaN  \n",
       "1309      NaN  NaN    NaN                                 NaN  \n",
       "\n",
       "[1310 rows x 14 columns]"
      ]
     },
     "execution_count": 100,
     "metadata": {},
     "output_type": "execute_result"
    }
   ],
   "source": [
    "def load_data():\n",
    "\treturn pd.read_csv('../data/titanic.csv')"
   ]
  },
  {
   "cell_type": "code",
   "execution_count": 97,
   "metadata": {},
   "outputs": [],
   "source": [
    "def save_data():\n",
    "    return pd.to_csv('../data/output.csv')"
   ]
  },
  {
   "cell_type": "code",
   "execution_count": 98,
   "metadata": {},
   "outputs": [
    {
     "ename": "AttributeError",
     "evalue": "module 'pandas' has no attribute 'to_csv'",
     "output_type": "error",
     "traceback": [
      "\u001b[1;31m---------------------------------------------------------------------------\u001b[0m",
      "\u001b[1;31mAttributeError\u001b[0m                            Traceback (most recent call last)",
      "\u001b[1;32m<ipython-input-98-436cf5f129fe>\u001b[0m in \u001b[0;36m<module>\u001b[1;34m()\u001b[0m\n\u001b[1;32m----> 1\u001b[1;33m \u001b[0msave_data\u001b[0m\u001b[1;33m(\u001b[0m\u001b[1;33m)\u001b[0m\u001b[1;33m\u001b[0m\u001b[0m\n\u001b[0m",
      "\u001b[1;32m<ipython-input-97-a35f3d0fc47c>\u001b[0m in \u001b[0;36msave_data\u001b[1;34m()\u001b[0m\n\u001b[0;32m      1\u001b[0m \u001b[1;32mdef\u001b[0m \u001b[0msave_data\u001b[0m\u001b[1;33m(\u001b[0m\u001b[1;33m)\u001b[0m\u001b[1;33m:\u001b[0m\u001b[1;33m\u001b[0m\u001b[0m\n\u001b[1;32m----> 2\u001b[1;33m     \u001b[1;32mreturn\u001b[0m \u001b[0mpd\u001b[0m\u001b[1;33m.\u001b[0m\u001b[0mto_csv\u001b[0m\u001b[1;33m(\u001b[0m\u001b[1;34m'../data/output.csv'\u001b[0m\u001b[1;33m)\u001b[0m\u001b[1;33m\u001b[0m\u001b[0m\n\u001b[0m",
      "\u001b[1;31mAttributeError\u001b[0m: module 'pandas' has no attribute 'to_csv'"
     ]
    }
   ],
   "source": [
    "save_data()"
   ]
  },
  {
   "cell_type": "code",
   "execution_count": 5,
   "metadata": {
    "tags": [
     "parameters"
    ]
   },
   "outputs": [],
   "source": [
    "# data.cache() "
   ]
  },
  {
   "cell_type": "markdown",
   "metadata": {
    "tags": [
     "parameters"
    ]
   },
   "source": [
    "Get data structure"
   ]
  },
  {
   "cell_type": "code",
   "execution_count": 6,
   "metadata": {
    "tags": [
     "parameters"
    ]
   },
   "outputs": [
    {
     "name": "stdout",
     "output_type": "stream",
     "text": [
      "root\n",
      " |-- pclass: integer (nullable = true)\n",
      " |-- survived: integer (nullable = true)\n",
      " |-- name: string (nullable = true)\n",
      " |-- sex: string (nullable = true)\n",
      " |-- age: double (nullable = true)\n",
      " |-- sibsp: integer (nullable = true)\n",
      " |-- parch: integer (nullable = true)\n",
      " |-- ticket: string (nullable = true)\n",
      " |-- fare: double (nullable = true)\n",
      " |-- cabin: string (nullable = true)\n",
      " |-- embarked: string (nullable = true)\n",
      " |-- boat: string (nullable = true)\n",
      " |-- body: integer (nullable = true)\n",
      " |-- home.dest: string (nullable = true)\n",
      "\n"
     ]
    }
   ],
   "source": [
    "data.printSchema()"
   ]
  },
  {
   "cell_type": "markdown",
   "metadata": {
    "tags": [
     "parameters"
    ]
   },
   "source": [
    "Get first 5 records"
   ]
  },
  {
   "cell_type": "code",
   "execution_count": 7,
   "metadata": {
    "tags": [
     "parameters"
    ]
   },
   "outputs": [
    {
     "name": "stdout",
     "output_type": "stream",
     "text": [
      "+------+--------+--------------------+------+------+-----+-----+------+--------+-------+--------+----+----+--------------------+\n",
      "|pclass|survived|                name|   sex|   age|sibsp|parch|ticket|    fare|  cabin|embarked|boat|body|           home.dest|\n",
      "+------+--------+--------------------+------+------+-----+-----+------+--------+-------+--------+----+----+--------------------+\n",
      "|     1|       1|Allen, Miss. Elis...|female|  29.0|    0|    0| 24160|211.3375|     B5|       S|   2|null|        St Louis, MO|\n",
      "|     1|       1|Allison, Master. ...|  male|0.9167|    1|    2|113781|  151.55|C22 C26|       S|  11|null|Montreal, PQ / Ch...|\n",
      "|     1|       0|Allison, Miss. He...|female|   2.0|    1|    2|113781|  151.55|C22 C26|       S|null|null|Montreal, PQ / Ch...|\n",
      "|     1|       0|Allison, Mr. Huds...|  male|  30.0|    1|    2|113781|  151.55|C22 C26|       S|null| 135|Montreal, PQ / Ch...|\n",
      "|     1|       0|Allison, Mrs. Hud...|female|  25.0|    1|    2|113781|  151.55|C22 C26|       S|null|null|Montreal, PQ / Ch...|\n",
      "+------+--------+--------------------+------+------+-----+-----+------+--------+-------+--------+----+----+--------------------+\n",
      "only showing top 5 rows\n",
      "\n"
     ]
    }
   ],
   "source": [
    "data.show(5)"
   ]
  },
  {
   "cell_type": "code",
   "execution_count": 8,
   "metadata": {
    "tags": [
     "parameters"
    ]
   },
   "outputs": [
    {
     "data": {
      "text/plain": [
       "['pclass',\n",
       " 'survived',\n",
       " 'name',\n",
       " 'sex',\n",
       " 'age',\n",
       " 'sibsp',\n",
       " 'parch',\n",
       " 'ticket',\n",
       " 'fare',\n",
       " 'cabin',\n",
       " 'embarked',\n",
       " 'boat',\n",
       " 'body',\n",
       " 'home.dest']"
      ]
     },
     "execution_count": 8,
     "metadata": {},
     "output_type": "execute_result"
    }
   ],
   "source": [
    "data.columns"
   ]
  },
  {
   "cell_type": "markdown",
   "metadata": {
    "tags": [
     "parameters"
    ]
   },
   "source": [
    "Describe the data"
   ]
  },
  {
   "cell_type": "code",
   "execution_count": 9,
   "metadata": {
    "tags": [
     "parameters"
    ]
   },
   "outputs": [
    {
     "name": "stdout",
     "output_type": "stream",
     "text": [
      "-RECORD 0-------------------------\n",
      " summary   | count                \n",
      " pclass    | 1309                 \n",
      " survived  | 1309                 \n",
      " name      | 1309                 \n",
      " sex       | 1309                 \n",
      " age       | 1046                 \n",
      " sibsp     | 1309                 \n",
      " parch     | 1309                 \n",
      " ticket    | 1309                 \n",
      " fare      | 1308                 \n",
      " cabin     | 295                  \n",
      " embarked  | 1307                 \n",
      " boat      | 486                  \n",
      " body      | 121                  \n",
      " home.dest | 745                  \n",
      "-RECORD 1-------------------------\n",
      " summary   | mean                 \n",
      " pclass    | 2.294881588999236    \n",
      " survived  | 0.3819709702062643   \n",
      " name      | null                 \n",
      " sex       | null                 \n",
      " age       | 29.8811345124283     \n",
      " sibsp     | 0.4988540870893812   \n",
      " parch     | 0.3850267379679144   \n",
      " ticket    | 249039.1368861024    \n",
      " fare      | 33.29547928134572    \n",
      " cabin     | null                 \n",
      " embarked  | null                 \n",
      " boat      | 9.404522613065327    \n",
      " body      | 160.8099173553719    \n",
      " home.dest | null                 \n",
      "-RECORD 2-------------------------\n",
      " summary   | stddev               \n",
      " pclass    | 0.8378360189701272   \n",
      " survived  | 0.48605517086648325  \n",
      " name      | null                 \n",
      " sex       | null                 \n",
      " age       | 14.413499699923596   \n",
      " sibsp     | 1.0416583905961012   \n",
      " parch     | 0.8655602753495143   \n",
      " ticket    | 442685.31767656445   \n",
      " fare      | 51.75866823917421    \n",
      " cabin     | null                 \n",
      " embarked  | null                 \n",
      " boat      | 4.3574169836049395   \n",
      " body      | 97.69692199600308    \n",
      " home.dest | null                 \n",
      "-RECORD 3-------------------------\n",
      " summary   | min                  \n",
      " pclass    | 1                    \n",
      " survived  | 0                    \n",
      " name      | \"Andersson, Mr. A... \n",
      " sex       | female               \n",
      " age       | 0.1667               \n",
      " sibsp     | 0                    \n",
      " parch     | 0                    \n",
      " ticket    | 110152               \n",
      " fare      | 0.0                  \n",
      " cabin     | A10                  \n",
      " embarked  | C                    \n",
      " boat      | 1                    \n",
      " body      | 1                    \n",
      " home.dest | ?Havana, Cuba        \n",
      "-RECORD 4-------------------------\n",
      " summary   | max                  \n",
      " pclass    | 3                    \n",
      " survived  | 1                    \n",
      " name      | van Melkebeke, Mr... \n",
      " sex       | male                 \n",
      " age       | 80.0                 \n",
      " sibsp     | 8                    \n",
      " parch     | 9                    \n",
      " ticket    | WE/P 5735            \n",
      " fare      | 512.3292             \n",
      " cabin     | T                    \n",
      " embarked  | S                    \n",
      " boat      | D                    \n",
      " body      | 328                  \n",
      " home.dest | Zurich, Switzerland  \n",
      "\n"
     ]
    }
   ],
   "source": [
    "data.describe().show(truncate=True, vertical=True)"
   ]
  },
  {
   "cell_type": "markdown",
   "metadata": {},
   "source": [
    "### Preprocess Data"
   ]
  },
  {
   "cell_type": "markdown",
   "metadata": {},
   "source": [
    "Rename columns"
   ]
  },
  {
   "cell_type": "code",
   "execution_count": 10,
   "metadata": {},
   "outputs": [],
   "source": [
    "data=data.withColumnRenamed('home.dest','homedest')"
   ]
  },
  {
   "cell_type": "markdown",
   "metadata": {},
   "source": [
    "Check for missing values"
   ]
  },
  {
   "cell_type": "code",
   "execution_count": 11,
   "metadata": {},
   "outputs": [
    {
     "name": "stdout",
     "output_type": "stream",
     "text": [
      "pclass 1\n",
      "survived 1\n",
      "name 1\n",
      "sex 1\n",
      "age 264\n",
      "sibsp 1\n",
      "parch 1\n",
      "ticket 1\n",
      "fare 2\n",
      "cabin 1015\n",
      "embarked 3\n",
      "boat 824\n",
      "body 1189\n",
      "homedest 565\n"
     ]
    }
   ],
   "source": [
    "from pyspark.sql import functions\n",
    "for i in data.columns:\n",
    "    print(i,data.where(functions.col(i).isNull()).count())"
   ]
  },
  {
   "cell_type": "markdown",
   "metadata": {},
   "source": [
    "Get records with missing data column"
   ]
  },
  {
   "cell_type": "code",
   "execution_count": 12,
   "metadata": {},
   "outputs": [
    {
     "name": "stdout",
     "output_type": "stream",
     "text": [
      "+------+--------+--------------------+------+----+-----+-----+--------+--------+-----+--------+----+----+--------------------+\n",
      "|pclass|survived|                name|   sex| age|sibsp|parch|  ticket|    fare|cabin|embarked|boat|body|            homedest|\n",
      "+------+--------+--------------------+------+----+-----+-----+--------+--------+-----+--------+----+----+--------------------+\n",
      "|     1|       0| Baumann, Mr. John D|  male|null|    0|    0|PC 17318|  25.925| null|       S|null|null|        New York, NY|\n",
      "|     1|       1|\"Bradley, Mr. Geo...|  male|null|    0|    0|  111427|   26.55| null|       S|   9|null|     Los Angeles, CA|\n",
      "|     1|       0|Brewe, Dr. Arthur...|  male|null|    0|    0|  112379|    39.6| null|       C|null|null|    Philadelphia, PA|\n",
      "|     1|       0|Cairns, Mr. Alexa...|  male|null|    0|    0|  113798|    31.0| null|       S|null|null|                null|\n",
      "|     1|       1|Cassebeer, Mrs. H...|female|null|    0|    0|   17770| 27.7208| null|       C|   5|null|        New York, NY|\n",
      "|     1|       1|Chibnall, Mrs. (E...|female|null|    0|    1|  113505|    55.0|  E33|       S|   6|null|St Leonards-on-Se...|\n",
      "|     1|       0|Chisholm, Mr. Rod...|  male|null|    0|    0|  112051|     0.0| null|       S|null|null|Liverpool, Englan...|\n",
      "|     1|       0|Clifford, Mr. Geo...|  male|null|    0|    0|  110465|    52.0|  A14|       S|null|null|       Stoughton, MA|\n",
      "|     1|       0|Crafton, Mr. John...|  male|null|    0|    0|  113791|   26.55| null|       S|null|null|       Roachdale, IN|\n",
      "|     1|       0|  Farthing, Mr. John|  male|null|    0|    0|PC 17483|221.7792|  C95|       S|null|null|                null|\n",
      "|     1|       1|Flegenheim, Mrs. ...|female|null|    0|    0|PC 17598| 31.6833| null|       S|   7|null|        New York, NY|\n",
      "|     1|       1|Fleming, Miss. Ma...|female|null|    0|    0|   17421|110.8833| null|       C|   4|null|                null|\n",
      "|     1|       0|Franklin, Mr. Tho...|  male|null|    0|    0|  113778|   26.55|  D34|       S|null|null|Westcliff-on-Sea,...|\n",
      "|     1|       1|Frauenthal, Mrs. ...|female|null|    1|    0|PC 17611|  133.65| null|       S|   5|null|        New York, NY|\n",
      "|     1|       0|    Fry, Mr. Richard|  male|null|    0|    0|  112058|     0.0| B102|       S|null|null|                null|\n",
      "|     1|       1|Goldenberg, Mrs. ...|female|null|    1|    0|   17453| 89.1042|  C92|       C|   5|null|Paris, France / N...|\n",
      "|     1|       0|Harrington, Mr. C...|  male|null|    0|    0|  113796|    42.4| null|       S|null|null|                null|\n",
      "|     1|       1|Hawksford, Mr. Wa...|  male|null|    0|    0|   16988|    30.0|  D45|       S|   3|null|    Kingston, Surrey|\n",
      "|     1|       0|Hilliard, Mr. Her...|  male|null|    0|    0|   17463| 51.8625|  E46|       S|null|null|        Brighton, MA|\n",
      "|     1|       0|Hoyt, Mr. William...|  male|null|    0|    0|PC 17600| 30.6958| null|       C|  14|null|        New York, NY|\n",
      "+------+--------+--------------------+------+----+-----+-----+--------+--------+-----+--------+----+----+--------------------+\n",
      "only showing top 20 rows\n",
      "\n"
     ]
    }
   ],
   "source": [
    "data.where(data['age'].isNull()).show()"
   ]
  },
  {
   "cell_type": "code",
   "execution_count": 13,
   "metadata": {},
   "outputs": [
    {
     "name": "stdout",
     "output_type": "stream",
     "text": [
      "+------+--------+--------------------+------+----+-----+-----+------+----+-----+--------+----+----+--------------+\n",
      "|pclass|survived|                name|   sex| age|sibsp|parch|ticket|fare|cabin|embarked|boat|body|      homedest|\n",
      "+------+--------+--------------------+------+----+-----+-----+------+----+-----+--------+----+----+--------------+\n",
      "|     1|       1| Icard, Miss. Amelie|female|38.0|    0|    0|113572|80.0|  B28|    null|   6|null|          null|\n",
      "|     1|       1|Stone, Mrs. Georg...|female|62.0|    0|    0|113572|80.0|  B28|    null|   6|null|Cincinatti, OH|\n",
      "|  null|    null|                null|  null|null| null| null|  null|null| null|    null|null|null|          null|\n",
      "+------+--------+--------------------+------+----+-----+-----+------+----+-----+--------+----+----+--------------+\n",
      "\n"
     ]
    }
   ],
   "source": [
    "data.where(data['embarked'].isNull()).show()"
   ]
  },
  {
   "cell_type": "code",
   "execution_count": 14,
   "metadata": {},
   "outputs": [
    {
     "name": "stdout",
     "output_type": "stream",
     "text": [
      "+------+--------+--------------------+------+----+-----+-----+--------+-------+-----+--------+----+----+-------------------+\n",
      "|pclass|survived|                name|   sex| age|sibsp|parch|  ticket|   fare|cabin|embarked|boat|body|           homedest|\n",
      "+------+--------+--------------------+------+----+-----+-----+--------+-------+-----+--------+----+----+-------------------+\n",
      "|     1|       0|Artagaveytia, Mr....|  male|71.0|    0|    0|PC 17609|49.5042| null|       C|null|  22|Montevideo, Uruguay|\n",
      "|     1|       1|\"Barber, Miss. El...|female|26.0|    0|    0|   19877|  78.85| null|       S|   6|null|               null|\n",
      "|     1|       0| Baumann, Mr. John D|  male|null|    0|    0|PC 17318| 25.925| null|       S|null|null|       New York, NY|\n",
      "|     1|       1|Bidois, Miss. Ros...|female|42.0|    0|    0|PC 17757|227.525| null|       C|   4|null|               null|\n",
      "|     1|       0| Birnbaum, Mr. Jakob|  male|25.0|    0|    0|   13905|   26.0| null|       C|null| 148|  San Francisco, CA|\n",
      "+------+--------+--------------------+------+----+-----+-----+--------+-------+-----+--------+----+----+-------------------+\n",
      "only showing top 5 rows\n",
      "\n"
     ]
    }
   ],
   "source": [
    "data.where(data['cabin'].isNull()).show(5)"
   ]
  },
  {
   "cell_type": "markdown",
   "metadata": {},
   "source": [
    "Check Data Type"
   ]
  },
  {
   "cell_type": "code",
   "execution_count": 15,
   "metadata": {},
   "outputs": [
    {
     "data": {
      "text/plain": [
       "[('pclass', 'int'),\n",
       " ('survived', 'int'),\n",
       " ('name', 'string'),\n",
       " ('sex', 'string'),\n",
       " ('age', 'double'),\n",
       " ('sibsp', 'int'),\n",
       " ('parch', 'int'),\n",
       " ('ticket', 'string'),\n",
       " ('fare', 'double'),\n",
       " ('cabin', 'string'),\n",
       " ('embarked', 'string'),\n",
       " ('boat', 'string'),\n",
       " ('body', 'int'),\n",
       " ('homedest', 'string')]"
      ]
     },
     "execution_count": 15,
     "metadata": {},
     "output_type": "execute_result"
    }
   ],
   "source": [
    "data.dtypes"
   ]
  },
  {
   "cell_type": "markdown",
   "metadata": {},
   "source": [
    "Get the mean age"
   ]
  },
  {
   "cell_type": "code",
   "execution_count": 16,
   "metadata": {},
   "outputs": [
    {
     "data": {
      "text/plain": [
       "29.8811345124283"
      ]
     },
     "execution_count": 16,
     "metadata": {},
     "output_type": "execute_result"
    }
   ],
   "source": [
    "from pyspark.sql.functions import mean\n",
    "data.select(mean('age')).collect()[0][0]"
   ]
  },
  {
   "cell_type": "markdown",
   "metadata": {},
   "source": [
    "Impute missing age value with mean age"
   ]
  },
  {
   "cell_type": "code",
   "execution_count": 17,
   "metadata": {},
   "outputs": [],
   "source": [
    "data=data.na.fill(data.select(mean('age')).collect()[0][0],subset=['age'])"
   ]
  },
  {
   "cell_type": "code",
   "execution_count": 18,
   "metadata": {},
   "outputs": [
    {
     "name": "stdout",
     "output_type": "stream",
     "text": [
      "+------+--------+----+---+---+-----+-----+------+----+-----+--------+----+----+--------+\n",
      "|pclass|survived|name|sex|age|sibsp|parch|ticket|fare|cabin|embarked|boat|body|homedest|\n",
      "+------+--------+----+---+---+-----+-----+------+----+-----+--------+----+----+--------+\n",
      "+------+--------+----+---+---+-----+-----+------+----+-----+--------+----+----+--------+\n",
      "\n"
     ]
    }
   ],
   "source": [
    "# Check missing age records\n",
    "data.where(data['age'].isNull()).show()"
   ]
  },
  {
   "cell_type": "markdown",
   "metadata": {},
   "source": [
    "Impute fare with mean fare"
   ]
  },
  {
   "cell_type": "code",
   "execution_count": 19,
   "metadata": {},
   "outputs": [],
   "source": [
    "data=data.na.fill(data.select(mean('fare')).collect()[0][0],subset=['fare'])"
   ]
  },
  {
   "cell_type": "code",
   "execution_count": 20,
   "metadata": {
    "scrolled": true
   },
   "outputs": [
    {
     "name": "stdout",
     "output_type": "stream",
     "text": [
      "+------+--------+----+---+---+-----+-----+------+----+-----+--------+----+----+--------+\n",
      "|pclass|survived|name|sex|age|sibsp|parch|ticket|fare|cabin|embarked|boat|body|homedest|\n",
      "+------+--------+----+---+---+-----+-----+------+----+-----+--------+----+----+--------+\n",
      "+------+--------+----+---+---+-----+-----+------+----+-----+--------+----+----+--------+\n",
      "\n"
     ]
    }
   ],
   "source": [
    "# Check missing fare records\n",
    "data.where(data['fare'].isNull()).show()"
   ]
  },
  {
   "cell_type": "markdown",
   "metadata": {},
   "source": [
    "Impute Embarked with Mode"
   ]
  },
  {
   "cell_type": "code",
   "execution_count": 21,
   "metadata": {},
   "outputs": [
    {
     "data": {
      "text/plain": [
       "'S'"
      ]
     },
     "execution_count": 21,
     "metadata": {},
     "output_type": "execute_result"
    }
   ],
   "source": [
    "# Get the mode of the embarked column\n",
    "data.groupby(\"embarked\").count().orderBy(\"count\", ascending=False).first()[0]"
   ]
  },
  {
   "cell_type": "code",
   "execution_count": 22,
   "metadata": {},
   "outputs": [],
   "source": [
    "# Impute the embarked with mode value\n",
    "data=data.na.fill(data.groupby(\"embarked\").count().orderBy(\"embarked\", ascending=False).first()[0],subset=['embarked'])"
   ]
  },
  {
   "cell_type": "code",
   "execution_count": 23,
   "metadata": {},
   "outputs": [
    {
     "name": "stdout",
     "output_type": "stream",
     "text": [
      "+------+--------+----+---+---+-----+-----+------+----+-----+--------+----+----+--------+\n",
      "|pclass|survived|name|sex|age|sibsp|parch|ticket|fare|cabin|embarked|boat|body|homedest|\n",
      "+------+--------+----+---+---+-----+-----+------+----+-----+--------+----+----+--------+\n",
      "+------+--------+----+---+---+-----+-----+------+----+-----+--------+----+----+--------+\n",
      "\n"
     ]
    }
   ],
   "source": [
    "data.where(data['embarked'].isNull()).show()"
   ]
  },
  {
   "cell_type": "markdown",
   "metadata": {},
   "source": [
    "Impute cabin with Mode"
   ]
  },
  {
   "cell_type": "code",
   "execution_count": 24,
   "metadata": {},
   "outputs": [],
   "source": [
    "# Impute the embarked with mode value\n",
    "data=data.na.fill(data.groupby(\"cabin\").count().orderBy(\"cabin\", ascending=False).first()[0],subset=['cabin'])"
   ]
  },
  {
   "cell_type": "code",
   "execution_count": 25,
   "metadata": {
    "scrolled": true
   },
   "outputs": [
    {
     "name": "stdout",
     "output_type": "stream",
     "text": [
      "+------+--------+----+---+---+-----+-----+------+----+-----+--------+----+----+--------+\n",
      "|pclass|survived|name|sex|age|sibsp|parch|ticket|fare|cabin|embarked|boat|body|homedest|\n",
      "+------+--------+----+---+---+-----+-----+------+----+-----+--------+----+----+--------+\n",
      "+------+--------+----+---+---+-----+-----+------+----+-----+--------+----+----+--------+\n",
      "\n"
     ]
    }
   ],
   "source": [
    "data.where(data['cabin'].isNull()).show(5)"
   ]
  },
  {
   "cell_type": "markdown",
   "metadata": {},
   "source": [
    "Count Distinct Values in Columns"
   ]
  },
  {
   "cell_type": "code",
   "execution_count": 26,
   "metadata": {},
   "outputs": [
    {
     "name": "stdout",
     "output_type": "stream",
     "text": [
      "+---+\n",
      "|sex|\n",
      "+---+\n",
      "|  2|\n",
      "+---+\n",
      "\n"
     ]
    }
   ],
   "source": [
    "from pyspark.sql.functions import col,countDistinct,max,min\n",
    "data.agg(countDistinct(col(\"sex\")).alias(\"sex\")).show()"
   ]
  },
  {
   "cell_type": "code",
   "execution_count": 27,
   "metadata": {},
   "outputs": [
    {
     "name": "stdout",
     "output_type": "stream",
     "text": [
      "+------+-----+\n",
      "|   sex|count|\n",
      "+------+-----+\n",
      "|  null|    1|\n",
      "|female|  466|\n",
      "|  male|  843|\n",
      "+------+-----+\n",
      "\n"
     ]
    }
   ],
   "source": [
    "data.groupBy('sex').count().show()"
   ]
  },
  {
   "cell_type": "code",
   "execution_count": 28,
   "metadata": {},
   "outputs": [
    {
     "name": "stdout",
     "output_type": "stream",
     "text": [
      "+--------+\n",
      "|embarked|\n",
      "+--------+\n",
      "|       3|\n",
      "+--------+\n",
      "\n"
     ]
    }
   ],
   "source": [
    "data.agg(countDistinct(col(\"embarked\")).alias(\"embarked\")).show()"
   ]
  },
  {
   "cell_type": "code",
   "execution_count": 29,
   "metadata": {},
   "outputs": [
    {
     "name": "stdout",
     "output_type": "stream",
     "text": [
      "+--------+-----+\n",
      "|embarked|count|\n",
      "+--------+-----+\n",
      "|       Q|  123|\n",
      "|       C|  270|\n",
      "|       S|  917|\n",
      "+--------+-----+\n",
      "\n"
     ]
    }
   ],
   "source": [
    "data.groupBy('embarked').count().show()"
   ]
  },
  {
   "cell_type": "code",
   "execution_count": 30,
   "metadata": {},
   "outputs": [
    {
     "name": "stdout",
     "output_type": "stream",
     "text": [
      "+-----+\n",
      "|sibsp|\n",
      "+-----+\n",
      "|    7|\n",
      "+-----+\n",
      "\n"
     ]
    }
   ],
   "source": [
    "data.agg(countDistinct(col(\"sibsp\")).alias(\"sibsp\")).show()"
   ]
  },
  {
   "cell_type": "code",
   "execution_count": 31,
   "metadata": {},
   "outputs": [
    {
     "name": "stdout",
     "output_type": "stream",
     "text": [
      "+-----+-----+\n",
      "|sibsp|count|\n",
      "+-----+-----+\n",
      "| null|    1|\n",
      "|    1|  319|\n",
      "|    3|   20|\n",
      "|    5|    6|\n",
      "|    4|   22|\n",
      "|    8|    9|\n",
      "|    2|   42|\n",
      "|    0|  891|\n",
      "+-----+-----+\n",
      "\n"
     ]
    }
   ],
   "source": [
    "data.groupBy('sibsp').count().show()"
   ]
  },
  {
   "cell_type": "code",
   "execution_count": 32,
   "metadata": {},
   "outputs": [
    {
     "name": "stdout",
     "output_type": "stream",
     "text": [
      "+-----+\n",
      "|parch|\n",
      "+-----+\n",
      "|    8|\n",
      "+-----+\n",
      "\n"
     ]
    }
   ],
   "source": [
    "data.agg(countDistinct(col(\"parch\")).alias(\"parch\")).show()"
   ]
  },
  {
   "cell_type": "code",
   "execution_count": 33,
   "metadata": {},
   "outputs": [
    {
     "name": "stdout",
     "output_type": "stream",
     "text": [
      "+-----+-----+\n",
      "|parch|count|\n",
      "+-----+-----+\n",
      "| null|    1|\n",
      "|    1|  170|\n",
      "|    6|    2|\n",
      "|    3|    8|\n",
      "|    5|    6|\n",
      "|    9|    2|\n",
      "|    4|    6|\n",
      "|    2|  113|\n",
      "|    0| 1002|\n",
      "+-----+-----+\n",
      "\n"
     ]
    }
   ],
   "source": [
    "data.groupBy('parch').count().show()"
   ]
  },
  {
   "cell_type": "markdown",
   "metadata": {},
   "source": [
    "Drop all records with null target variable"
   ]
  },
  {
   "cell_type": "code",
   "execution_count": 34,
   "metadata": {},
   "outputs": [],
   "source": [
    "data=data.na.drop('any',subset=['survived'])"
   ]
  },
  {
   "cell_type": "code",
   "execution_count": 35,
   "metadata": {},
   "outputs": [
    {
     "name": "stdout",
     "output_type": "stream",
     "text": [
      "pclass 0\n",
      "survived 0\n",
      "name 0\n",
      "sex 0\n",
      "age 0\n",
      "sibsp 0\n",
      "parch 0\n",
      "ticket 0\n",
      "fare 0\n",
      "cabin 0\n",
      "embarked 0\n",
      "boat 823\n",
      "body 1188\n",
      "homedest 564\n"
     ]
    }
   ],
   "source": [
    "for i in data.columns:\n",
    "    print(i,data.where(functions.col(i).isNull()).count())"
   ]
  },
  {
   "cell_type": "code",
   "execution_count": 36,
   "metadata": {},
   "outputs": [
    {
     "name": "stdout",
     "output_type": "stream",
     "text": [
      "+------+--------+--------------------+------+------+-----+-----+------+--------+-------+--------+----+----+--------------------+\n",
      "|pclass|survived|                name|   sex|   age|sibsp|parch|ticket|    fare|  cabin|embarked|boat|body|            homedest|\n",
      "+------+--------+--------------------+------+------+-----+-----+------+--------+-------+--------+----+----+--------------------+\n",
      "|     1|       1|Allen, Miss. Elis...|female|  29.0|    0|    0| 24160|211.3375|     B5|       S|   2|null|        St Louis, MO|\n",
      "|     1|       1|Allison, Master. ...|  male|0.9167|    1|    2|113781|  151.55|C22 C26|       S|  11|null|Montreal, PQ / Ch...|\n",
      "|     1|       0|Allison, Miss. He...|female|   2.0|    1|    2|113781|  151.55|C22 C26|       S|null|null|Montreal, PQ / Ch...|\n",
      "|     1|       0|Allison, Mr. Huds...|  male|  30.0|    1|    2|113781|  151.55|C22 C26|       S|null| 135|Montreal, PQ / Ch...|\n",
      "|     1|       0|Allison, Mrs. Hud...|female|  25.0|    1|    2|113781|  151.55|C22 C26|       S|null|null|Montreal, PQ / Ch...|\n",
      "+------+--------+--------------------+------+------+-----+-----+------+--------+-------+--------+----+----+--------------------+\n",
      "only showing top 5 rows\n",
      "\n"
     ]
    }
   ],
   "source": [
    "data.show(5)"
   ]
  },
  {
   "cell_type": "markdown",
   "metadata": {},
   "source": [
    "Convert sex and embarked data to numeric features"
   ]
  },
  {
   "cell_type": "code",
   "execution_count": 37,
   "metadata": {},
   "outputs": [
    {
     "data": {
      "text/plain": [
       "[('pclass', 'int'),\n",
       " ('survived', 'int'),\n",
       " ('name', 'string'),\n",
       " ('sex', 'string'),\n",
       " ('age', 'double'),\n",
       " ('sibsp', 'int'),\n",
       " ('parch', 'int'),\n",
       " ('ticket', 'string'),\n",
       " ('fare', 'double'),\n",
       " ('cabin', 'string'),\n",
       " ('embarked', 'string'),\n",
       " ('boat', 'string'),\n",
       " ('body', 'int'),\n",
       " ('homedest', 'string')]"
      ]
     },
     "execution_count": 37,
     "metadata": {},
     "output_type": "execute_result"
    }
   ],
   "source": [
    "data.dtypes"
   ]
  },
  {
   "cell_type": "markdown",
   "metadata": {},
   "source": [
    "Bin age into three categories"
   ]
  },
  {
   "cell_type": "code",
   "execution_count": 38,
   "metadata": {},
   "outputs": [],
   "source": [
    "from pyspark.ml.feature import Bucketizer\n",
    "age_bucketizer = Bucketizer(splits=[ 0, 20, 50, 80, float('Inf') ],inputCol=\"age\", outputCol=\"age_bin\")\n",
    "data = age_bucketizer.setHandleInvalid(\"keep\").transform(data)"
   ]
  },
  {
   "cell_type": "code",
   "execution_count": 39,
   "metadata": {},
   "outputs": [
    {
     "name": "stdout",
     "output_type": "stream",
     "text": [
      "+------+--------+--------------------+------+------+-----+-----+------+--------+-------+--------+----+----+--------------------+-------+\n",
      "|pclass|survived|                name|   sex|   age|sibsp|parch|ticket|    fare|  cabin|embarked|boat|body|            homedest|age_bin|\n",
      "+------+--------+--------------------+------+------+-----+-----+------+--------+-------+--------+----+----+--------------------+-------+\n",
      "|     1|       1|Allen, Miss. Elis...|female|  29.0|    0|    0| 24160|211.3375|     B5|       S|   2|null|        St Louis, MO|    1.0|\n",
      "|     1|       1|Allison, Master. ...|  male|0.9167|    1|    2|113781|  151.55|C22 C26|       S|  11|null|Montreal, PQ / Ch...|    0.0|\n",
      "|     1|       0|Allison, Miss. He...|female|   2.0|    1|    2|113781|  151.55|C22 C26|       S|null|null|Montreal, PQ / Ch...|    0.0|\n",
      "|     1|       0|Allison, Mr. Huds...|  male|  30.0|    1|    2|113781|  151.55|C22 C26|       S|null| 135|Montreal, PQ / Ch...|    1.0|\n",
      "|     1|       0|Allison, Mrs. Hud...|female|  25.0|    1|    2|113781|  151.55|C22 C26|       S|null|null|Montreal, PQ / Ch...|    1.0|\n",
      "+------+--------+--------------------+------+------+-----+-----+------+--------+-------+--------+----+----+--------------------+-------+\n",
      "only showing top 5 rows\n",
      "\n"
     ]
    }
   ],
   "source": [
    "data.show(5)"
   ]
  },
  {
   "cell_type": "markdown",
   "metadata": {},
   "source": [
    "Bin fare into three categories"
   ]
  },
  {
   "cell_type": "code",
   "execution_count": 40,
   "metadata": {},
   "outputs": [
    {
     "name": "stdout",
     "output_type": "stream",
     "text": [
      "+---------+\n",
      "|max(fare)|\n",
      "+---------+\n",
      "| 512.3292|\n",
      "+---------+\n",
      "\n"
     ]
    }
   ],
   "source": [
    "data.agg(max(\"fare\")).show()"
   ]
  },
  {
   "cell_type": "code",
   "execution_count": 41,
   "metadata": {},
   "outputs": [
    {
     "name": "stdout",
     "output_type": "stream",
     "text": [
      "+---------+\n",
      "|min(fare)|\n",
      "+---------+\n",
      "|      0.0|\n",
      "+---------+\n",
      "\n"
     ]
    }
   ],
   "source": [
    "data.agg(min(\"fare\")).show()"
   ]
  },
  {
   "cell_type": "code",
   "execution_count": 42,
   "metadata": {},
   "outputs": [],
   "source": [
    "fare_bucketizer = Bucketizer(splits=[ 0, 200, 400, 6000, float('Inf') ],inputCol=\"fare\", outputCol=\"fare_bin\")\n",
    "data = fare_bucketizer.setHandleInvalid(\"keep\").transform(data)"
   ]
  },
  {
   "cell_type": "code",
   "execution_count": 43,
   "metadata": {},
   "outputs": [
    {
     "name": "stdout",
     "output_type": "stream",
     "text": [
      "+------+--------+--------------------+------+------+-----+-----+------+--------+-------+--------+----+----+--------------------+-------+--------+\n",
      "|pclass|survived|                name|   sex|   age|sibsp|parch|ticket|    fare|  cabin|embarked|boat|body|            homedest|age_bin|fare_bin|\n",
      "+------+--------+--------------------+------+------+-----+-----+------+--------+-------+--------+----+----+--------------------+-------+--------+\n",
      "|     1|       1|Allen, Miss. Elis...|female|  29.0|    0|    0| 24160|211.3375|     B5|       S|   2|null|        St Louis, MO|    1.0|     1.0|\n",
      "|     1|       1|Allison, Master. ...|  male|0.9167|    1|    2|113781|  151.55|C22 C26|       S|  11|null|Montreal, PQ / Ch...|    0.0|     0.0|\n",
      "|     1|       0|Allison, Miss. He...|female|   2.0|    1|    2|113781|  151.55|C22 C26|       S|null|null|Montreal, PQ / Ch...|    0.0|     0.0|\n",
      "|     1|       0|Allison, Mr. Huds...|  male|  30.0|    1|    2|113781|  151.55|C22 C26|       S|null| 135|Montreal, PQ / Ch...|    1.0|     0.0|\n",
      "|     1|       0|Allison, Mrs. Hud...|female|  25.0|    1|    2|113781|  151.55|C22 C26|       S|null|null|Montreal, PQ / Ch...|    1.0|     0.0|\n",
      "+------+--------+--------------------+------+------+-----+-----+------+--------+-------+--------+----+----+--------------------+-------+--------+\n",
      "only showing top 5 rows\n",
      "\n"
     ]
    }
   ],
   "source": [
    "data.show(5)"
   ]
  },
  {
   "cell_type": "markdown",
   "metadata": {},
   "source": [
    "Family Size"
   ]
  },
  {
   "cell_type": "code",
   "execution_count": 44,
   "metadata": {},
   "outputs": [],
   "source": [
    "data=data.withColumn(\"family_size\", data['sibsp']+data['parch'])"
   ]
  },
  {
   "cell_type": "code",
   "execution_count": 45,
   "metadata": {},
   "outputs": [
    {
     "name": "stdout",
     "output_type": "stream",
     "text": [
      "+-----------+-----+\n",
      "|family_size|count|\n",
      "+-----------+-----+\n",
      "|          1|  235|\n",
      "|          6|   16|\n",
      "|          3|   43|\n",
      "|          5|   25|\n",
      "|          4|   22|\n",
      "|          7|    8|\n",
      "|         10|   11|\n",
      "|          2|  159|\n",
      "|          0|  790|\n",
      "+-----------+-----+\n",
      "\n"
     ]
    }
   ],
   "source": [
    "data.groupBy('family_size').count().show()"
   ]
  },
  {
   "cell_type": "code",
   "execution_count": 46,
   "metadata": {},
   "outputs": [],
   "source": [
    "# Bin family size\n",
    "family_bucketizer = Bucketizer(splits=[ 0, 1, 4, 30, float('Inf') ],inputCol=\"family_size\", outputCol=\"family_size_bin\")\n",
    "data = family_bucketizer.setHandleInvalid(\"keep\").transform(data)"
   ]
  },
  {
   "cell_type": "code",
   "execution_count": 47,
   "metadata": {
    "scrolled": false
   },
   "outputs": [
    {
     "name": "stdout",
     "output_type": "stream",
     "text": [
      "+------+--------+--------------------+------+------+-----+-----+------+--------+-------+--------+----+----+--------------------+-------+--------+-----------+---------------+\n",
      "|pclass|survived|                name|   sex|   age|sibsp|parch|ticket|    fare|  cabin|embarked|boat|body|            homedest|age_bin|fare_bin|family_size|family_size_bin|\n",
      "+------+--------+--------------------+------+------+-----+-----+------+--------+-------+--------+----+----+--------------------+-------+--------+-----------+---------------+\n",
      "|     1|       1|Allen, Miss. Elis...|female|  29.0|    0|    0| 24160|211.3375|     B5|       S|   2|null|        St Louis, MO|    1.0|     1.0|          0|            0.0|\n",
      "|     1|       1|Allison, Master. ...|  male|0.9167|    1|    2|113781|  151.55|C22 C26|       S|  11|null|Montreal, PQ / Ch...|    0.0|     0.0|          3|            1.0|\n",
      "|     1|       0|Allison, Miss. He...|female|   2.0|    1|    2|113781|  151.55|C22 C26|       S|null|null|Montreal, PQ / Ch...|    0.0|     0.0|          3|            1.0|\n",
      "|     1|       0|Allison, Mr. Huds...|  male|  30.0|    1|    2|113781|  151.55|C22 C26|       S|null| 135|Montreal, PQ / Ch...|    1.0|     0.0|          3|            1.0|\n",
      "|     1|       0|Allison, Mrs. Hud...|female|  25.0|    1|    2|113781|  151.55|C22 C26|       S|null|null|Montreal, PQ / Ch...|    1.0|     0.0|          3|            1.0|\n",
      "+------+--------+--------------------+------+------+-----+-----+------+--------+-------+--------+----+----+--------------------+-------+--------+-----------+---------------+\n",
      "only showing top 5 rows\n",
      "\n"
     ]
    }
   ],
   "source": [
    "data.show(5)"
   ]
  },
  {
   "cell_type": "code",
   "execution_count": 48,
   "metadata": {},
   "outputs": [
    {
     "data": {
      "text/plain": [
       "[('pclass', 'int'),\n",
       " ('survived', 'int'),\n",
       " ('name', 'string'),\n",
       " ('sex', 'string'),\n",
       " ('age', 'double'),\n",
       " ('sibsp', 'int'),\n",
       " ('parch', 'int'),\n",
       " ('ticket', 'string'),\n",
       " ('fare', 'double'),\n",
       " ('cabin', 'string'),\n",
       " ('embarked', 'string'),\n",
       " ('boat', 'string'),\n",
       " ('body', 'int'),\n",
       " ('homedest', 'string'),\n",
       " ('age_bin', 'double'),\n",
       " ('fare_bin', 'double'),\n",
       " ('family_size', 'int'),\n",
       " ('family_size_bin', 'double')]"
      ]
     },
     "execution_count": 48,
     "metadata": {},
     "output_type": "execute_result"
    }
   ],
   "source": [
    "data.dtypes"
   ]
  },
  {
   "cell_type": "code",
   "execution_count": 49,
   "metadata": {},
   "outputs": [],
   "source": [
    "from pyspark.ml import Pipeline\n",
    "from pyspark.ml.feature import StringIndexer,OneHotEncoder,VectorAssembler\n",
    "\n",
    "indexers = [StringIndexer(inputCol=column, outputCol=column+\"_index\").fit(data) for column in [\"sex\",\"embarked\",\"family_size_bin\",\"age_bin\",\"fare_bin\"]]\n",
    "indexers_pipeline = Pipeline(stages=indexers)\n",
    "data = indexers_pipeline.fit(data).transform(data)\n",
    "\n",
    "\n",
    "# data = data.select(\"pclass\",\"sibsp\",\"parch\",\"sex\",\"embarked\",\"family_size_bin\",\"age_bin\",\"fare_bin\",\"survived\")\n",
    "\n",
    "# cat_columns=[\"pclass\",\"sibsp\",\"parch\",\"sex\",\"embarked\",\"family_size_bin\",\"age_bin\",\"fare_bin\"]\n",
    "# stages=[]\n",
    "\n",
    "# for i in cat_columns:\n",
    "#     stringIndexer = StringIndexer(inputCol = i, outputCol = i + '_Index')\n",
    "#     encoder = OneHotEncoder(inputCols=[stringIndexer.getOutputCol()], outputCols=[i + \"_encodecVec\"])\n",
    "#     stages += [stringIndexer, encoder]\n",
    "\n",
    "# # label_stringIdx = StringIndexer(inputCol = 'survived', outputCol = 'label')\n",
    "# # stages += [label_stringIdx]\n",
    "    \n",
    "# nume_cols = ['fare', 'age','survived']\n",
    "# assemblerInputs = [c + \"classVec\" for c in cat_columns] + nume_cols\n",
    "# assembler = VectorAssembler(inputCols=assemblerInputs, outputCol=\"features\")\n",
    "# stages += [assembler]"
   ]
  },
  {
   "cell_type": "code",
   "execution_count": 50,
   "metadata": {},
   "outputs": [],
   "source": [
    "# from pyspark.ml import Pipeline\n",
    "\n",
    "# pipeline = Pipeline(stages = stages)\n",
    "# pipelineModel = pipeline.fit(data)\n",
    "# data = pipelineModel.transform(data)\n",
    "# selectedCols = ['survived', 'features'] \n",
    "# data = data.select(selectedCols)"
   ]
  },
  {
   "cell_type": "code",
   "execution_count": 51,
   "metadata": {
    "scrolled": false
   },
   "outputs": [
    {
     "name": "stdout",
     "output_type": "stream",
     "text": [
      "-RECORD 0-------------------------------------\n",
      " pclass                | 1                    \n",
      " survived              | 1                    \n",
      " name                  | Allen, Miss. Elis... \n",
      " sex                   | female               \n",
      " age                   | 29.0                 \n",
      " sibsp                 | 0                    \n",
      " parch                 | 0                    \n",
      " ticket                | 24160                \n",
      " fare                  | 211.3375             \n",
      " cabin                 | B5                   \n",
      " embarked              | S                    \n",
      " boat                  | 2                    \n",
      " body                  | null                 \n",
      " homedest              | St Louis, MO         \n",
      " age_bin               | 1.0                  \n",
      " fare_bin              | 1.0                  \n",
      " family_size           | 0                    \n",
      " family_size_bin       | 0.0                  \n",
      " sex_index             | 1.0                  \n",
      " embarked_index        | 0.0                  \n",
      " family_size_bin_index | 0.0                  \n",
      " age_bin_index         | 0.0                  \n",
      " fare_bin_index        | 1.0                  \n",
      "-RECORD 1-------------------------------------\n",
      " pclass                | 1                    \n",
      " survived              | 1                    \n",
      " name                  | Allison, Master. ... \n",
      " sex                   | male                 \n",
      " age                   | 0.9167               \n",
      " sibsp                 | 1                    \n",
      " parch                 | 2                    \n",
      " ticket                | 113781               \n",
      " fare                  | 151.55               \n",
      " cabin                 | C22 C26              \n",
      " embarked              | S                    \n",
      " boat                  | 11                   \n",
      " body                  | null                 \n",
      " homedest              | Montreal, PQ / Ch... \n",
      " age_bin               | 0.0                  \n",
      " fare_bin              | 0.0                  \n",
      " family_size           | 3                    \n",
      " family_size_bin       | 1.0                  \n",
      " sex_index             | 0.0                  \n",
      " embarked_index        | 0.0                  \n",
      " family_size_bin_index | 1.0                  \n",
      " age_bin_index         | 1.0                  \n",
      " fare_bin_index        | 0.0                  \n",
      "only showing top 2 rows\n",
      "\n"
     ]
    }
   ],
   "source": [
    "data.show(2,vertical=True)"
   ]
  },
  {
   "cell_type": "markdown",
   "metadata": {},
   "source": [
    "Convert string to numeric type"
   ]
  },
  {
   "cell_type": "code",
   "execution_count": 52,
   "metadata": {},
   "outputs": [],
   "source": [
    "data=data.withColumn('sex_index',data.sex_index.cast('int')).withColumn('embarked_index',data.embarked_index.cast('int')).withColumn('family_size_bin_index',data.family_size_bin_index.cast('int')).withColumn('age_bin_index',data.age_bin_index.cast('int')).withColumn('fare_bin_index',data.fare_bin_index.cast('int'))"
   ]
  },
  {
   "cell_type": "code",
   "execution_count": 53,
   "metadata": {},
   "outputs": [
    {
     "data": {
      "text/plain": [
       "[('pclass', 'int'),\n",
       " ('survived', 'int'),\n",
       " ('name', 'string'),\n",
       " ('sex', 'string'),\n",
       " ('age', 'double'),\n",
       " ('sibsp', 'int'),\n",
       " ('parch', 'int'),\n",
       " ('ticket', 'string'),\n",
       " ('fare', 'double'),\n",
       " ('cabin', 'string'),\n",
       " ('embarked', 'string'),\n",
       " ('boat', 'string'),\n",
       " ('body', 'int'),\n",
       " ('homedest', 'string'),\n",
       " ('age_bin', 'double'),\n",
       " ('fare_bin', 'double'),\n",
       " ('family_size', 'int'),\n",
       " ('family_size_bin', 'double'),\n",
       " ('sex_index', 'int'),\n",
       " ('embarked_index', 'int'),\n",
       " ('family_size_bin_index', 'int'),\n",
       " ('age_bin_index', 'int'),\n",
       " ('fare_bin_index', 'int')]"
      ]
     },
     "execution_count": 53,
     "metadata": {},
     "output_type": "execute_result"
    }
   ],
   "source": [
    "data.dtypes"
   ]
  },
  {
   "cell_type": "markdown",
   "metadata": {},
   "source": [
    "Drop unwanted columns"
   ]
  },
  {
   "cell_type": "code",
   "execution_count": 54,
   "metadata": {},
   "outputs": [],
   "source": [
    "data=data[['pclass', 'survived', 'sibsp', 'parch', 'sex_index','embarked_index','family_size_bin_index','age_bin_index','fare_bin_index']]"
   ]
  },
  {
   "cell_type": "code",
   "execution_count": 55,
   "metadata": {},
   "outputs": [
    {
     "name": "stdout",
     "output_type": "stream",
     "text": [
      "+------+--------+-----+-----+---------+--------------+---------------------+-------------+--------------+\n",
      "|pclass|survived|sibsp|parch|sex_index|embarked_index|family_size_bin_index|age_bin_index|fare_bin_index|\n",
      "+------+--------+-----+-----+---------+--------------+---------------------+-------------+--------------+\n",
      "|     1|       1|    0|    0|        1|             0|                    0|            0|             1|\n",
      "|     1|       1|    1|    2|        0|             0|                    1|            1|             0|\n",
      "|     1|       0|    1|    2|        1|             0|                    1|            1|             0|\n",
      "|     1|       0|    1|    2|        0|             0|                    1|            0|             0|\n",
      "|     1|       0|    1|    2|        1|             0|                    1|            0|             0|\n",
      "+------+--------+-----+-----+---------+--------------+---------------------+-------------+--------------+\n",
      "only showing top 5 rows\n",
      "\n"
     ]
    }
   ],
   "source": [
    "data.show(5)"
   ]
  },
  {
   "cell_type": "markdown",
   "metadata": {},
   "source": [
    "Encoding Categorical features"
   ]
  },
  {
   "cell_type": "code",
   "execution_count": 56,
   "metadata": {},
   "outputs": [],
   "source": [
    "cat_data=data[['pclass', 'sibsp', 'parch', 'sex_index','embarked_index','family_size_bin_index','age_bin_index','fare_bin_index']]"
   ]
  },
  {
   "cell_type": "code",
   "execution_count": 57,
   "metadata": {},
   "outputs": [],
   "source": [
    "encoders = [OneHotEncoder(inputCol=indexed_column, outputCol=indexed_column+\"_enc\").fit(data) for indexed_column in [\"pclass\",\"sibsp\",\"parch\",\"sex_index\",\"embarked_index\",\"family_size_bin_index\",\"age_bin_index\",\"fare_bin_index\"]]"
   ]
  },
  {
   "cell_type": "code",
   "execution_count": 58,
   "metadata": {},
   "outputs": [],
   "source": [
    "encoders_pipeline = Pipeline(stages=encoders)\n",
    "data = encoders_pipeline.fit(data).transform(data)"
   ]
  },
  {
   "cell_type": "code",
   "execution_count": 59,
   "metadata": {},
   "outputs": [
    {
     "name": "stdout",
     "output_type": "stream",
     "text": [
      "-RECORD 0----------------------------------\n",
      " pclass                    | 1             \n",
      " survived                  | 1             \n",
      " sibsp                     | 0             \n",
      " parch                     | 0             \n",
      " sex_index                 | 1             \n",
      " embarked_index            | 0             \n",
      " family_size_bin_index     | 0             \n",
      " age_bin_index             | 0             \n",
      " fare_bin_index            | 1             \n",
      " pclass_enc                | (3,[1],[1.0]) \n",
      " sibsp_enc                 | (8,[0],[1.0]) \n",
      " parch_enc                 | (9,[0],[1.0]) \n",
      " sex_index_enc             | (1,[],[])     \n",
      " embarked_index_enc        | (2,[0],[1.0]) \n",
      " family_size_bin_index_enc | (2,[0],[1.0]) \n",
      " age_bin_index_enc         | (3,[0],[1.0]) \n",
      " fare_bin_index_enc        | (2,[1],[1.0]) \n",
      "only showing top 1 row\n",
      "\n"
     ]
    }
   ],
   "source": [
    "data.show(1, vertical=True)"
   ]
  },
  {
   "cell_type": "markdown",
   "metadata": {},
   "source": [
    "Create Input Vector"
   ]
  },
  {
   "cell_type": "code",
   "execution_count": 60,
   "metadata": {},
   "outputs": [],
   "source": [
    "inputAssembler=['pclass_enc', 'sibsp_enc', 'parch_enc', 'sex_index_enc', 'embarked_index_enc', 'family_size_bin_index_enc', 'age_bin_index_enc', 'fare_bin_index_enc']"
   ]
  },
  {
   "cell_type": "code",
   "execution_count": 61,
   "metadata": {},
   "outputs": [],
   "source": [
    "assembler=VectorAssembler(inputCols=inputAssembler,outputCol=\"features\").transform(data)"
   ]
  },
  {
   "cell_type": "code",
   "execution_count": 62,
   "metadata": {},
   "outputs": [
    {
     "name": "stdout",
     "output_type": "stream",
     "text": [
      "-RECORD 0-----------------------------------------\n",
      " pclass                    | 1                    \n",
      " survived                  | 1                    \n",
      " sibsp                     | 0                    \n",
      " parch                     | 0                    \n",
      " sex_index                 | 1                    \n",
      " embarked_index            | 0                    \n",
      " family_size_bin_index     | 0                    \n",
      " age_bin_index             | 0                    \n",
      " fare_bin_index            | 1                    \n",
      " pclass_enc                | (3,[1],[1.0])        \n",
      " sibsp_enc                 | (8,[0],[1.0])        \n",
      " parch_enc                 | (9,[0],[1.0])        \n",
      " sex_index_enc             | (1,[],[])            \n",
      " embarked_index_enc        | (2,[0],[1.0])        \n",
      " family_size_bin_index_enc | (2,[0],[1.0])        \n",
      " age_bin_index_enc         | (3,[0],[1.0])        \n",
      " fare_bin_index_enc        | (2,[1],[1.0])        \n",
      " features                  | (30,[1,3,11,21,23... \n",
      "only showing top 1 row\n",
      "\n"
     ]
    }
   ],
   "source": [
    "assembler.show(1, vertical=True)"
   ]
  },
  {
   "cell_type": "code",
   "execution_count": 63,
   "metadata": {},
   "outputs": [
    {
     "name": "stdout",
     "output_type": "stream",
     "text": [
      "-RECORD 0-----------------------------------------\n",
      " pclass_enc                | (3,[1],[1.0])        \n",
      " sibsp_enc                 | (8,[0],[1.0])        \n",
      " parch_enc                 | (9,[0],[1.0])        \n",
      " sex_index_enc             | (1,[],[])            \n",
      " embarked_index_enc        | (2,[0],[1.0])        \n",
      " family_size_bin_index_enc | (2,[0],[1.0])        \n",
      " age_bin_index_enc         | (3,[0],[1.0])        \n",
      " fare_bin_index_enc        | (2,[1],[1.0])        \n",
      " features                  | (30,[1,3,11,21,23... \n",
      " survived                  | 1                    \n",
      "only showing top 1 row\n",
      "\n"
     ]
    }
   ],
   "source": [
    "ml_data=assembler[['pclass_enc', 'sibsp_enc', 'parch_enc', 'sex_index_enc', 'embarked_index_enc', 'family_size_bin_index_enc', 'age_bin_index_enc', 'fare_bin_index_enc','features','survived']]\n",
    "ml_data.show(1, vertical=True)"
   ]
  },
  {
   "cell_type": "markdown",
   "metadata": {},
   "source": [
    "Split data into training and testing sets"
   ]
  },
  {
   "cell_type": "code",
   "execution_count": 64,
   "metadata": {},
   "outputs": [],
   "source": [
    "(train, test) = ml_data.randomSplit([0.7,0.3])"
   ]
  },
  {
   "cell_type": "code",
   "execution_count": 65,
   "metadata": {},
   "outputs": [
    {
     "name": "stdout",
     "output_type": "stream",
     "text": [
      "+--------------------+--------+\n",
      "|            features|survived|\n",
      "+--------------------+--------+\n",
      "|(30,[13,21,25,28]...|       0|\n",
      "|(30,[13,21,25,28]...|       0|\n",
      "|(30,[13,20,21,25,...|       0|\n",
      "|(30,[13,20,21,25,...|       0|\n",
      "|(30,[13,20,21,25,...|       0|\n",
      "+--------------------+--------+\n",
      "only showing top 5 rows\n",
      "\n"
     ]
    }
   ],
   "source": [
    "train.select('features','survived').show(5)"
   ]
  },
  {
   "cell_type": "code",
   "execution_count": 66,
   "metadata": {},
   "outputs": [
    {
     "name": "stdout",
     "output_type": "stream",
     "text": [
      "+--------------------+--------+\n",
      "|            features|survived|\n",
      "+--------------------+--------+\n",
      "|(30,[13,21,25,28]...|       0|\n",
      "|(30,[13,21,25,28]...|       0|\n",
      "|(30,[13,20,21,25,...|       0|\n",
      "|(30,[3,11,23,25,2...|       0|\n",
      "|(30,[3,11,23,25,2...|       0|\n",
      "+--------------------+--------+\n",
      "only showing top 5 rows\n",
      "\n"
     ]
    }
   ],
   "source": [
    "test.select('features','survived').show(5)"
   ]
  },
  {
   "cell_type": "markdown",
   "metadata": {},
   "source": [
    "# Machine Learning Modeling"
   ]
  },
  {
   "cell_type": "markdown",
   "metadata": {},
   "source": [
    "## 1.RandomForestClassifier"
   ]
  },
  {
   "cell_type": "code",
   "execution_count": 67,
   "metadata": {},
   "outputs": [],
   "source": [
    "from pyspark.ml.classification import RandomForestClassifier"
   ]
  },
  {
   "cell_type": "code",
   "execution_count": 68,
   "metadata": {},
   "outputs": [
    {
     "data": {
      "text/plain": [
       "RandomForestClassificationModel: uid=RandomForestClassifier_08fce4f272c3, numTrees=20, numClasses=2, numFeatures=30"
      ]
     },
     "execution_count": 68,
     "metadata": {},
     "output_type": "execute_result"
    }
   ],
   "source": [
    "rm_model=RandomForestClassifier(labelCol='survived').fit(train)\n",
    "rm_model"
   ]
  },
  {
   "cell_type": "code",
   "execution_count": 69,
   "metadata": {},
   "outputs": [
    {
     "data": {
      "text/plain": [
       "DataFrame[pclass_enc: vector, sibsp_enc: vector, parch_enc: vector, sex_index_enc: vector, embarked_index_enc: vector, family_size_bin_index_enc: vector, age_bin_index_enc: vector, fare_bin_index_enc: vector, features: vector, survived: int, rawPrediction: vector, probability: vector, prediction: double]"
      ]
     },
     "execution_count": 69,
     "metadata": {},
     "output_type": "execute_result"
    }
   ],
   "source": [
    "rm_test_model=rm_model.transform(train)\n",
    "rm_test_model"
   ]
  },
  {
   "cell_type": "markdown",
   "metadata": {},
   "source": [
    "Evaluate Random Forest ML Model"
   ]
  },
  {
   "cell_type": "code",
   "execution_count": 70,
   "metadata": {},
   "outputs": [],
   "source": [
    "from pyspark.ml.evaluation import MulticlassClassificationEvaluator"
   ]
  },
  {
   "cell_type": "code",
   "execution_count": 71,
   "metadata": {},
   "outputs": [
    {
     "name": "stdout",
     "output_type": "stream",
     "text": [
      "Accuracy :\n"
     ]
    },
    {
     "data": {
      "text/plain": [
       "0.8063806380638063"
      ]
     },
     "execution_count": 71,
     "metadata": {},
     "output_type": "execute_result"
    }
   ],
   "source": [
    "print(\"Accuracy :\")\n",
    "MulticlassClassificationEvaluator(labelCol='survived',metricName='accuracy').evaluate(rm_test_model)"
   ]
  },
  {
   "cell_type": "code",
   "execution_count": 72,
   "metadata": {},
   "outputs": [
    {
     "name": "stdout",
     "output_type": "stream",
     "text": [
      "Precision :\n"
     ]
    },
    {
     "data": {
      "text/plain": [
       "0.8057164076029054"
      ]
     },
     "execution_count": 72,
     "metadata": {},
     "output_type": "execute_result"
    }
   ],
   "source": [
    "print(\"Precision :\")\n",
    "MulticlassClassificationEvaluator(labelCol='survived', metricName='weightedPrecision').evaluate(rm_test_model)"
   ]
  },
  {
   "cell_type": "code",
   "execution_count": 73,
   "metadata": {},
   "outputs": [
    {
     "name": "stdout",
     "output_type": "stream",
     "text": [
      "Recal :\n"
     ]
    },
    {
     "data": {
      "text/plain": [
       "0.8063806380638063"
      ]
     },
     "execution_count": 73,
     "metadata": {},
     "output_type": "execute_result"
    }
   ],
   "source": [
    "print(\"Recal :\")\n",
    "MulticlassClassificationEvaluator(labelCol='survived', metricName='weightedRecall').evaluate(rm_test_model)"
   ]
  },
  {
   "cell_type": "markdown",
   "metadata": {},
   "source": [
    "## 2. LogisticRegression"
   ]
  },
  {
   "cell_type": "code",
   "execution_count": 74,
   "metadata": {},
   "outputs": [],
   "source": [
    "from pyspark.ml.classification import LogisticRegression\n",
    "log_reg = LogisticRegression(labelCol='survived')\n",
    "log_reg_model = log_reg.fit(train)"
   ]
  },
  {
   "cell_type": "code",
   "execution_count": 75,
   "metadata": {},
   "outputs": [
    {
     "data": {
      "text/plain": [
       "DataFrame[pclass_enc: vector, sibsp_enc: vector, parch_enc: vector, sex_index_enc: vector, embarked_index_enc: vector, family_size_bin_index_enc: vector, age_bin_index_enc: vector, fare_bin_index_enc: vector, features: vector, survived: int, rawPrediction: vector, probability: vector, prediction: double]"
      ]
     },
     "execution_count": 75,
     "metadata": {},
     "output_type": "execute_result"
    }
   ],
   "source": [
    "log_reg_model_test=log_reg_model.transform(train)\n",
    "log_reg_model_test"
   ]
  },
  {
   "cell_type": "markdown",
   "metadata": {},
   "source": [
    "Evaluate Random Forest ML Model"
   ]
  },
  {
   "cell_type": "code",
   "execution_count": 76,
   "metadata": {},
   "outputs": [
    {
     "name": "stdout",
     "output_type": "stream",
     "text": [
      "Accuracy :\n"
     ]
    },
    {
     "data": {
      "text/plain": [
       "0.8041804180418042"
      ]
     },
     "execution_count": 76,
     "metadata": {},
     "output_type": "execute_result"
    }
   ],
   "source": [
    "print(\"Accuracy :\")\n",
    "MulticlassClassificationEvaluator(labelCol='survived',metricName='accuracy').evaluate(log_reg_model_test)"
   ]
  },
  {
   "cell_type": "code",
   "execution_count": 77,
   "metadata": {},
   "outputs": [
    {
     "name": "stdout",
     "output_type": "stream",
     "text": [
      "Precision :\n"
     ]
    },
    {
     "data": {
      "text/plain": [
       "0.8019729365675841"
      ]
     },
     "execution_count": 77,
     "metadata": {},
     "output_type": "execute_result"
    }
   ],
   "source": [
    "print(\"Precision :\")\n",
    "MulticlassClassificationEvaluator(labelCol='survived', metricName='weightedPrecision').evaluate(log_reg_model_test)"
   ]
  },
  {
   "cell_type": "code",
   "execution_count": 78,
   "metadata": {},
   "outputs": [
    {
     "name": "stdout",
     "output_type": "stream",
     "text": [
      "Recal :\n"
     ]
    },
    {
     "data": {
      "text/plain": [
       "0.8041804180418042"
      ]
     },
     "execution_count": 78,
     "metadata": {},
     "output_type": "execute_result"
    }
   ],
   "source": [
    "print(\"Recal :\")\n",
    "MulticlassClassificationEvaluator(labelCol='survived', metricName='weightedRecall').evaluate(log_reg_model_test)"
   ]
  },
  {
   "cell_type": "code",
   "execution_count": 79,
   "metadata": {},
   "outputs": [
    {
     "data": {
      "text/plain": [
       "<Figure size 1400x700 with 1 Axes>"
      ]
     },
     "metadata": {},
     "output_type": "display_data"
    }
   ],
   "source": [
    "import matplotlib.pyplot as plt\n",
    "plt.style.use('fivethirtyeight')\n",
    "\n",
    "plt.figure(figsize=(14,7))\n",
    "plt.title('AUROC - Area Under the Receiver Operating Characteristics')\n",
    "plt.plot([0, 1], [0, 1], 'r--')\n",
    "plt.plot(log_reg_model.summary.roc.select('FPR').collect(),\n",
    "         log_reg_model.summary.roc.select('TPR').collect())\n",
    "plt.xlabel('FPR')\n",
    "plt.ylabel('TPR')\n",
    "plt.show()"
   ]
  },
  {
   "cell_type": "markdown",
   "metadata": {},
   "source": [
    "## 3. DecisionTreeClassifier"
   ]
  },
  {
   "cell_type": "code",
   "execution_count": 80,
   "metadata": {},
   "outputs": [],
   "source": [
    "from pyspark.ml.classification import DecisionTreeClassifier"
   ]
  },
  {
   "cell_type": "code",
   "execution_count": 81,
   "metadata": {},
   "outputs": [],
   "source": [
    "decision_tree = DecisionTreeClassifier(labelCol='survived')\n",
    "decision_tree_model = decision_tree.fit(train)"
   ]
  },
  {
   "cell_type": "code",
   "execution_count": 82,
   "metadata": {},
   "outputs": [
    {
     "data": {
      "text/plain": [
       "DataFrame[pclass_enc: vector, sibsp_enc: vector, parch_enc: vector, sex_index_enc: vector, embarked_index_enc: vector, family_size_bin_index_enc: vector, age_bin_index_enc: vector, fare_bin_index_enc: vector, features: vector, survived: int, rawPrediction: vector, probability: vector, prediction: double]"
      ]
     },
     "execution_count": 82,
     "metadata": {},
     "output_type": "execute_result"
    }
   ],
   "source": [
    "decision_tree_model_test=decision_tree_model.transform(train)\n",
    "decision_tree_model_test"
   ]
  },
  {
   "cell_type": "markdown",
   "metadata": {},
   "source": [
    "Evaluate Decision Tree ML Model"
   ]
  },
  {
   "cell_type": "code",
   "execution_count": 83,
   "metadata": {},
   "outputs": [
    {
     "name": "stdout",
     "output_type": "stream",
     "text": [
      "Accuracy :\n"
     ]
    },
    {
     "data": {
      "text/plain": [
       "0.8041804180418042"
      ]
     },
     "execution_count": 83,
     "metadata": {},
     "output_type": "execute_result"
    }
   ],
   "source": [
    "print(\"Accuracy :\")\n",
    "MulticlassClassificationEvaluator(labelCol='survived',metricName='accuracy').evaluate(decision_tree_model_test)"
   ]
  },
  {
   "cell_type": "code",
   "execution_count": 84,
   "metadata": {},
   "outputs": [
    {
     "name": "stdout",
     "output_type": "stream",
     "text": [
      "Precision :\n"
     ]
    },
    {
     "data": {
      "text/plain": [
       "0.8031721556289431"
      ]
     },
     "execution_count": 84,
     "metadata": {},
     "output_type": "execute_result"
    }
   ],
   "source": [
    "print(\"Precision :\")\n",
    "MulticlassClassificationEvaluator(labelCol='survived', metricName='weightedPrecision').evaluate(decision_tree_model_test)"
   ]
  },
  {
   "cell_type": "code",
   "execution_count": 85,
   "metadata": {},
   "outputs": [
    {
     "name": "stdout",
     "output_type": "stream",
     "text": [
      "Recal :\n"
     ]
    },
    {
     "data": {
      "text/plain": [
       "0.8041804180418042"
      ]
     },
     "execution_count": 85,
     "metadata": {},
     "output_type": "execute_result"
    }
   ],
   "source": [
    "print(\"Recal :\")\n",
    "MulticlassClassificationEvaluator(labelCol='survived', metricName='weightedRecall').evaluate(decision_tree_model_test)"
   ]
  },
  {
   "cell_type": "markdown",
   "metadata": {},
   "source": [
    "## 4. Gradient-boosted tree classifier"
   ]
  },
  {
   "cell_type": "code",
   "execution_count": 86,
   "metadata": {},
   "outputs": [],
   "source": [
    "from pyspark.ml.classification import GBTClassifier"
   ]
  },
  {
   "cell_type": "code",
   "execution_count": 87,
   "metadata": {},
   "outputs": [],
   "source": [
    "gbt = GBTClassifier(labelCol=\"survived\", featuresCol=\"features\", maxIter=10)\n",
    "gbt_model = gbt.fit(train)"
   ]
  },
  {
   "cell_type": "code",
   "execution_count": 88,
   "metadata": {},
   "outputs": [
    {
     "data": {
      "text/plain": [
       "DataFrame[pclass_enc: vector, sibsp_enc: vector, parch_enc: vector, sex_index_enc: vector, embarked_index_enc: vector, family_size_bin_index_enc: vector, age_bin_index_enc: vector, fare_bin_index_enc: vector, features: vector, survived: int, rawPrediction: vector, probability: vector, prediction: double]"
      ]
     },
     "execution_count": 88,
     "metadata": {},
     "output_type": "execute_result"
    }
   ],
   "source": [
    "gbt_model_test=gbt_model.transform(train)\n",
    "gbt_model_test"
   ]
  },
  {
   "cell_type": "markdown",
   "metadata": {},
   "source": [
    "Evaluate Gradient Boosted Tree Model"
   ]
  },
  {
   "cell_type": "code",
   "execution_count": 89,
   "metadata": {},
   "outputs": [
    {
     "name": "stdout",
     "output_type": "stream",
     "text": [
      "Accuracy :\n"
     ]
    },
    {
     "data": {
      "text/plain": [
       "0.8228822882288229"
      ]
     },
     "execution_count": 89,
     "metadata": {},
     "output_type": "execute_result"
    }
   ],
   "source": [
    "print(\"Accuracy :\")\n",
    "MulticlassClassificationEvaluator(labelCol='survived',metricName='accuracy').evaluate(gbt_model_test)"
   ]
  },
  {
   "cell_type": "code",
   "execution_count": 90,
   "metadata": {},
   "outputs": [
    {
     "name": "stdout",
     "output_type": "stream",
     "text": [
      "Precision :\n"
     ]
    },
    {
     "data": {
      "text/plain": [
       "0.8223368319930585"
      ]
     },
     "execution_count": 90,
     "metadata": {},
     "output_type": "execute_result"
    }
   ],
   "source": [
    "print(\"Precision :\")\n",
    "MulticlassClassificationEvaluator(labelCol='survived', metricName='weightedPrecision').evaluate(gbt_model_test)"
   ]
  },
  {
   "cell_type": "code",
   "execution_count": 91,
   "metadata": {},
   "outputs": [
    {
     "name": "stdout",
     "output_type": "stream",
     "text": [
      "Recal :\n"
     ]
    },
    {
     "data": {
      "text/plain": [
       "0.8228822882288228"
      ]
     },
     "execution_count": 91,
     "metadata": {},
     "output_type": "execute_result"
    }
   ],
   "source": [
    "print(\"Recal :\")\n",
    "MulticlassClassificationEvaluator(labelCol='survived', metricName='weightedRecall').evaluate(gbt_model_test)"
   ]
  },
  {
   "cell_type": "markdown",
   "metadata": {},
   "source": [
    "# Model Testing"
   ]
  },
  {
   "cell_type": "code",
   "execution_count": 92,
   "metadata": {},
   "outputs": [
    {
     "name": "stdout",
     "output_type": "stream",
     "text": [
      "+----------+---------+-------------+-------------+------------------+-------------------------+-----------------+------------------+--------------------+--------+--------------------+--------------------+----------+\n",
      "|pclass_enc|sibsp_enc|    parch_enc|sex_index_enc|embarked_index_enc|family_size_bin_index_enc|age_bin_index_enc|fare_bin_index_enc|            features|survived|       rawPrediction|         probability|prediction|\n",
      "+----------+---------+-------------+-------------+------------------+-------------------------+-----------------+------------------+--------------------+--------+--------------------+--------------------+----------+\n",
      "| (3,[],[])|(8,[],[])|(9,[2],[1.0])|    (1,[],[])|     (2,[0],[1.0])|                (2,[],[])|    (3,[0],[1.0])|     (2,[0],[1.0])|(30,[13,21,25,28]...|       0|[13.5187794224646...|[0.67593897112323...|       0.0|\n",
      "| (3,[],[])|(8,[],[])|(9,[2],[1.0])|    (1,[],[])|     (2,[0],[1.0])|                (2,[],[])|    (3,[0],[1.0])|     (2,[0],[1.0])|(30,[13,21,25,28]...|       0|[13.5187794224646...|[0.67593897112323...|       0.0|\n",
      "| (3,[],[])|(8,[],[])|(9,[2],[1.0])|(1,[0],[1.0])|     (2,[0],[1.0])|                (2,[],[])|    (3,[0],[1.0])|     (2,[0],[1.0])|(30,[13,20,21,25,...|       0|[15.6903422676387...|[0.78451711338193...|       0.0|\n",
      "| (3,[],[])|(8,[],[])|(9,[2],[1.0])|(1,[0],[1.0])|     (2,[0],[1.0])|                (2,[],[])|    (3,[0],[1.0])|     (2,[0],[1.0])|(30,[13,20,21,25,...|       0|[15.6903422676387...|[0.78451711338193...|       0.0|\n",
      "| (3,[],[])|(8,[],[])|(9,[2],[1.0])|(1,[0],[1.0])|     (2,[0],[1.0])|                (2,[],[])|    (3,[0],[1.0])|     (2,[0],[1.0])|(30,[13,20,21,25,...|       0|[15.6903422676387...|[0.78451711338193...|       0.0|\n",
      "+----------+---------+-------------+-------------+------------------+-------------------------+-----------------+------------------+--------------------+--------+--------------------+--------------------+----------+\n",
      "only showing top 5 rows\n",
      "\n"
     ]
    }
   ],
   "source": [
    "rm_test_model.show(5)"
   ]
  },
  {
   "cell_type": "code",
   "execution_count": 93,
   "metadata": {},
   "outputs": [
    {
     "name": "stdout",
     "output_type": "stream",
     "text": [
      "+--------------------+--------------------+--------+----------+--------------------+\n",
      "|            features|       rawPrediction|survived|prediction|         probability|\n",
      "+--------------------+--------------------+--------+----------+--------------------+\n",
      "|(30,[13,21,25,28]...|[13.5187794224646...|       0|       0.0|[0.67593897112323...|\n",
      "|(30,[13,21,25,28]...|[13.5187794224646...|       0|       0.0|[0.67593897112323...|\n",
      "|(30,[13,20,21,25,...|[15.6903422676387...|       0|       0.0|[0.78451711338193...|\n",
      "|(30,[13,20,21,25,...|[15.6903422676387...|       0|       0.0|[0.78451711338193...|\n",
      "|(30,[13,20,21,25,...|[15.6903422676387...|       0|       0.0|[0.78451711338193...|\n",
      "+--------------------+--------------------+--------+----------+--------------------+\n",
      "only showing top 5 rows\n",
      "\n"
     ]
    }
   ],
   "source": [
    "rm_test_model.select('features','rawPrediction','survived','prediction','probability').show(5)"
   ]
  }
 ],
 "metadata": {
  "celltoolbar": "Tags",
  "kernelspec": {
   "display_name": "Python 3",
   "language": "python",
   "name": "python3"
  },
  "language_info": {
   "codemirror_mode": {
    "name": "ipython",
    "version": 3
   },
   "file_extension": ".py",
   "mimetype": "text/x-python",
   "name": "python",
   "nbconvert_exporter": "python",
   "pygments_lexer": "ipython3",
   "version": "3.6.5"
  }
 },
 "nbformat": 4,
 "nbformat_minor": 2
}
