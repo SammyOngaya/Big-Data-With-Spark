{
 "cells": [
  {
   "cell_type": "markdown",
   "metadata": {},
   "source": [
    "### 1. Import Libraries"
   ]
  },
  {
   "cell_type": "code",
   "execution_count": 1,
   "metadata": {},
   "outputs": [],
   "source": [
    "import findspark\n",
    "findspark.init()\n",
    "from pyspark import SparkContext"
   ]
  },
  {
   "cell_type": "markdown",
   "metadata": {},
   "source": [
    "### 2. Initialize SparkContext"
   ]
  },
  {
   "cell_type": "code",
   "execution_count": 2,
   "metadata": {},
   "outputs": [],
   "source": [
    "sc=SparkContext.getOrCreate()"
   ]
  },
  {
   "cell_type": "markdown",
   "metadata": {},
   "source": [
    "### 3.Create data"
   ]
  },
  {
   "cell_type": "code",
   "execution_count": 3,
   "metadata": {},
   "outputs": [],
   "source": [
    "data=sc.parallelize([['France','50M','3T'],['India','30M','30T'],['Kenya','70M','25T'],['Nigeria','90M','60T'],['China','20M','2T'],['USA','80M','30T'],['UK','70M','25T'],['USA','20M','30T'],['China','70M','25T']])"
   ]
  },
  {
   "cell_type": "markdown",
   "metadata": {},
   "source": [
    "### 4. Basic Operations"
   ]
  },
  {
   "cell_type": "markdown",
   "metadata": {},
   "source": [
    "#### i. Sparks Action Functions\n",
    "##### Sparks action functions produce a value back to the Spark driver program"
   ]
  },
  {
   "cell_type": "code",
   "execution_count": 4,
   "metadata": {},
   "outputs": [
    {
     "data": {
      "text/plain": [
       "8"
      ]
     },
     "execution_count": 4,
     "metadata": {},
     "output_type": "execute_result"
    }
   ],
   "source": [
    "# Get number of partitions\n",
    "data.getNumPartitions()"
   ]
  },
  {
   "cell_type": "code",
   "execution_count": 5,
   "metadata": {},
   "outputs": [
    {
     "data": {
      "text/plain": [
       "[['France', '50M', '3T'],\n",
       " ['India', '30M', '30T'],\n",
       " ['Kenya', '70M', '25T'],\n",
       " ['Nigeria', '90M', '60T'],\n",
       " ['China', '20M', '2T'],\n",
       " ['USA', '80M', '30T'],\n",
       " ['UK', '70M', '25T'],\n",
       " ['USA', '20M', '30T'],\n",
       " ['China', '70M', '25T']]"
      ]
     },
     "execution_count": 5,
     "metadata": {},
     "output_type": "execute_result"
    }
   ],
   "source": [
    "# Show all data\n",
    "data.collect()"
   ]
  },
  {
   "cell_type": "code",
   "execution_count": 6,
   "metadata": {},
   "outputs": [
    {
     "data": {
      "text/plain": [
       "['France', '50M', '3T']"
      ]
     },
     "execution_count": 6,
     "metadata": {},
     "output_type": "execute_result"
    }
   ],
   "source": [
    "# Show first column\n",
    "data.first()"
   ]
  },
  {
   "cell_type": "code",
   "execution_count": 7,
   "metadata": {},
   "outputs": [
    {
     "data": {
      "text/plain": [
       "[['Kenya', '70M', '25T']]"
      ]
     },
     "execution_count": 7,
     "metadata": {},
     "output_type": "execute_result"
    }
   ],
   "source": [
    "# Get random record\n",
    "data.takeSample(1,True)"
   ]
  },
  {
   "cell_type": "code",
   "execution_count": 8,
   "metadata": {},
   "outputs": [
    {
     "data": {
      "text/plain": [
       "9"
      ]
     },
     "execution_count": 8,
     "metadata": {},
     "output_type": "execute_result"
    }
   ],
   "source": [
    "# Count records\n",
    "data.count()"
   ]
  },
  {
   "cell_type": "code",
   "execution_count": 9,
   "metadata": {},
   "outputs": [
    {
     "data": {
      "text/plain": [
       "dict_items([('France', 1), ('India', 1), ('Kenya', 1), ('Nigeria', 1), ('China', 2), ('USA', 2), ('UK', 1)])"
      ]
     },
     "execution_count": 9,
     "metadata": {},
     "output_type": "execute_result"
    }
   ],
   "source": [
    "# Count occurence of the items\n",
    "data.countByKey().items()"
   ]
  },
  {
   "cell_type": "markdown",
   "metadata": {},
   "source": [
    "#### ii. Sparks Transformation Functions\n",
    "##### Sparks transformation functions produce a new Resilient Distributed Dataset (RDD)"
   ]
  },
  {
   "cell_type": "code",
   "execution_count": 10,
   "metadata": {},
   "outputs": [
    {
     "data": {
      "text/plain": [
       "[4, 6, 8, 2, 2, 6]"
      ]
     },
     "execution_count": 10,
     "metadata": {},
     "output_type": "execute_result"
    }
   ],
   "source": [
    "tran_data=sc.parallelize([4,6,8,2,2,6])\n",
    "tran_data.collect()"
   ]
  },
  {
   "cell_type": "code",
   "execution_count": 11,
   "metadata": {},
   "outputs": [
    {
     "data": {
      "text/plain": [
       "[4, 4, 4, 6, 8, 2, 2, 2]"
      ]
     },
     "execution_count": 11,
     "metadata": {},
     "output_type": "execute_result"
    }
   ],
   "source": [
    "# Select two random items\n",
    "tran_data.sample(2,True).collect()"
   ]
  },
  {
   "cell_type": "code",
   "execution_count": 12,
   "metadata": {},
   "outputs": [
    {
     "data": {
      "text/plain": [
       "[8, 12, 16, 4, 4, 12]"
      ]
     },
     "execution_count": 12,
     "metadata": {},
     "output_type": "execute_result"
    }
   ],
   "source": [
    "# Use map to multiply each item with 2\n",
    "tran_data.map(lambda x : x*2).collect()"
   ]
  },
  {
   "cell_type": "code",
   "execution_count": 13,
   "metadata": {},
   "outputs": [
    {
     "data": {
      "text/plain": [
       "[4, 4, 6, 6, 8, 8, 2, 2, 2, 2, 6, 6]"
      ]
     },
     "execution_count": 13,
     "metadata": {},
     "output_type": "execute_result"
    }
   ],
   "source": [
    "# Use filterMap to duplicate the items\n",
    "tran_data.flatMap(lambda x : [x,x]).collect()"
   ]
  },
  {
   "cell_type": "code",
   "execution_count": 14,
   "metadata": {},
   "outputs": [
    {
     "data": {
      "text/plain": [
       "[['China', '20M', '2T'], ['China', '70M', '25T']]"
      ]
     },
     "execution_count": 14,
     "metadata": {},
     "output_type": "execute_result"
    }
   ],
   "source": [
    "# Filter from data where item is China\n",
    "data.filter(lambda x : \"China\" in x).collect()"
   ]
  },
  {
   "cell_type": "code",
   "execution_count": 15,
   "metadata": {},
   "outputs": [
    {
     "data": {
      "text/plain": [
       "[8, 2, 4, 6]"
      ]
     },
     "execution_count": 15,
     "metadata": {},
     "output_type": "execute_result"
    }
   ],
   "source": [
    "# Return unique items\n",
    "tran_data.distinct().collect()"
   ]
  },
  {
   "cell_type": "code",
   "execution_count": 16,
   "metadata": {},
   "outputs": [
    {
     "data": {
      "text/plain": [
       "[['China', '20M', '2T'],\n",
       " ['China', '70M', '25T'],\n",
       " ['France', '50M', '3T'],\n",
       " ['India', '30M', '30T'],\n",
       " ['Kenya', '70M', '25T'],\n",
       " ['Nigeria', '90M', '60T'],\n",
       " ['UK', '70M', '25T'],\n",
       " ['USA', '80M', '30T'],\n",
       " ['USA', '20M', '30T']]"
      ]
     },
     "execution_count": 16,
     "metadata": {},
     "output_type": "execute_result"
    }
   ],
   "source": [
    "# Sorting\n",
    "data.sortByKey(1, True).collect()"
   ]
  },
  {
   "cell_type": "code",
   "execution_count": 17,
   "metadata": {},
   "outputs": [
    {
     "name": "stdout",
     "output_type": "stream",
     "text": [
      "a :  [('USA', 35), ('Canada', 24), ('Mexico', 27), ('Kenya', 23)]\n",
      "b :  [('Kenya', 30), ('USA', 35), ('South Africa', 23), ('Rwanda', 23)]\n"
     ]
    }
   ],
   "source": [
    "a=sc.parallelize([('USA',35),('Canada',24),('Mexico',27),('Kenya',23)])\n",
    "b=sc.parallelize([('Kenya',30),('USA',35),('South Africa',23),('Rwanda',23)])\n",
    "print(\"a : \",a.collect())\n",
    "print(\"b : \",b.collect())"
   ]
  },
  {
   "cell_type": "code",
   "execution_count": 18,
   "metadata": {},
   "outputs": [
    {
     "data": {
      "text/plain": [
       "[('USA', (35, 35)), ('Kenya', (23, 30))]"
      ]
     },
     "execution_count": 18,
     "metadata": {},
     "output_type": "execute_result"
    }
   ],
   "source": [
    "# join\n",
    "a.join(b).collect()"
   ]
  },
  {
   "cell_type": "code",
   "execution_count": 19,
   "metadata": {},
   "outputs": [
    {
     "data": {
      "text/plain": [
       "[('USA', (35, 35)),\n",
       " ('Mexico', (27, None)),\n",
       " ('Canada', (24, None)),\n",
       " ('Kenya', (23, 30))]"
      ]
     },
     "execution_count": 19,
     "metadata": {},
     "output_type": "execute_result"
    }
   ],
   "source": [
    "# Left outer join\n",
    "a.leftOuterJoin(b).collect()"
   ]
  },
  {
   "cell_type": "code",
   "execution_count": 20,
   "metadata": {},
   "outputs": [
    {
     "data": {
      "text/plain": [
       "[('USA', (35, 35)),\n",
       " ('South Africa', (None, 23)),\n",
       " ('Kenya', (23, 30)),\n",
       " ('Rwanda', (None, 23))]"
      ]
     },
     "execution_count": 20,
     "metadata": {},
     "output_type": "execute_result"
    }
   ],
   "source": [
    "# Right outer join\n",
    "a.rightOuterJoin(b).collect()"
   ]
  },
  {
   "cell_type": "code",
   "execution_count": 21,
   "metadata": {},
   "outputs": [
    {
     "data": {
      "text/plain": [
       "[('USA', 35),\n",
       " ('Canada', 24),\n",
       " ('Mexico', 27),\n",
       " ('Kenya', 23),\n",
       " ('Kenya', 30),\n",
       " ('USA', 35),\n",
       " ('South Africa', 23),\n",
       " ('Rwanda', 23)]"
      ]
     },
     "execution_count": 21,
     "metadata": {},
     "output_type": "execute_result"
    }
   ],
   "source": [
    "# Union\n",
    "a.union(b).collect()"
   ]
  },
  {
   "cell_type": "code",
   "execution_count": 22,
   "metadata": {},
   "outputs": [
    {
     "data": {
      "text/plain": [
       "[('Kenya', 23), ('Canada', 24), ('Mexico', 27)]"
      ]
     },
     "execution_count": 22,
     "metadata": {},
     "output_type": "execute_result"
    }
   ],
   "source": [
    "# Difference\n",
    "a.subtract(b).collect()"
   ]
  },
  {
   "cell_type": "code",
   "execution_count": 23,
   "metadata": {},
   "outputs": [
    {
     "data": {
      "text/plain": [
       "[('USA', 35)]"
      ]
     },
     "execution_count": 23,
     "metadata": {},
     "output_type": "execute_result"
    }
   ],
   "source": [
    "# Intersection\n",
    "a.intersection(b).collect()"
   ]
  },
  {
   "cell_type": "code",
   "execution_count": 24,
   "metadata": {},
   "outputs": [
    {
     "data": {
      "text/plain": [
       "[(('USA', 35), ('Kenya', 30)),\n",
       " (('USA', 35), ('USA', 35)),\n",
       " (('USA', 35), ('South Africa', 23)),\n",
       " (('USA', 35), ('Rwanda', 23)),\n",
       " (('Canada', 24), ('Kenya', 30)),\n",
       " (('Canada', 24), ('USA', 35)),\n",
       " (('Canada', 24), ('South Africa', 23)),\n",
       " (('Canada', 24), ('Rwanda', 23)),\n",
       " (('Mexico', 27), ('Kenya', 30)),\n",
       " (('Mexico', 27), ('USA', 35)),\n",
       " (('Mexico', 27), ('South Africa', 23)),\n",
       " (('Mexico', 27), ('Rwanda', 23)),\n",
       " (('Kenya', 23), ('Kenya', 30)),\n",
       " (('Kenya', 23), ('USA', 35)),\n",
       " (('Kenya', 23), ('South Africa', 23)),\n",
       " (('Kenya', 23), ('Rwanda', 23))]"
      ]
     },
     "execution_count": 24,
     "metadata": {},
     "output_type": "execute_result"
    }
   ],
   "source": [
    "# Cartesian\n",
    "a.cartesian(b).collect()"
   ]
  }
 ],
 "metadata": {
  "kernelspec": {
   "display_name": "Python 3",
   "language": "python",
   "name": "python3"
  },
  "language_info": {
   "codemirror_mode": {
    "name": "ipython",
    "version": 3
   },
   "file_extension": ".py",
   "mimetype": "text/x-python",
   "name": "python",
   "nbconvert_exporter": "python",
   "pygments_lexer": "ipython3",
   "version": "3.7.1"
  }
 },
 "nbformat": 4,
 "nbformat_minor": 2
}
