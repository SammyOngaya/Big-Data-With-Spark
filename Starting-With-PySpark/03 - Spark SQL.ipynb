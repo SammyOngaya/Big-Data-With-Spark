{
 "cells": [
  {
   "cell_type": "markdown",
   "metadata": {},
   "source": [
    "Initialize notebook for Spark"
   ]
  },
  {
   "cell_type": "code",
   "execution_count": 1,
   "metadata": {},
   "outputs": [],
   "source": [
    "import findspark\n",
    "findspark.init()"
   ]
  },
  {
   "cell_type": "markdown",
   "metadata": {},
   "source": [
    "## Import required librries"
   ]
  },
  {
   "cell_type": "code",
   "execution_count": 2,
   "metadata": {},
   "outputs": [],
   "source": [
    "from pyspark import SparkContext\n",
    "from pyspark.sql import SparkSession"
   ]
  },
  {
   "cell_type": "markdown",
   "metadata": {},
   "source": [
    "Initialize SparkContext and SparkSession"
   ]
  },
  {
   "cell_type": "code",
   "execution_count": 3,
   "metadata": {},
   "outputs": [],
   "source": [
    "sc=SparkContext.getOrCreate()\n",
    "ss=SparkSession(sc)"
   ]
  },
  {
   "cell_type": "markdown",
   "metadata": {},
   "source": [
    "## Load Sample Data"
   ]
  },
  {
   "cell_type": "code",
   "execution_count": 4,
   "metadata": {},
   "outputs": [],
   "source": [
    "data=ss.read.csv(\"../data/titanic.csv\", inferSchema=True, header=True)"
   ]
  },
  {
   "cell_type": "markdown",
   "metadata": {},
   "source": [
    "Show Data Structure"
   ]
  },
  {
   "cell_type": "code",
   "execution_count": 5,
   "metadata": {},
   "outputs": [
    {
     "name": "stdout",
     "output_type": "stream",
     "text": [
      "root\n",
      " |-- pclass: integer (nullable = true)\n",
      " |-- survived: integer (nullable = true)\n",
      " |-- name: string (nullable = true)\n",
      " |-- sex: string (nullable = true)\n",
      " |-- age: double (nullable = true)\n",
      " |-- sibsp: integer (nullable = true)\n",
      " |-- parch: integer (nullable = true)\n",
      " |-- ticket: string (nullable = true)\n",
      " |-- fare: double (nullable = true)\n",
      " |-- cabin: string (nullable = true)\n",
      " |-- embarked: string (nullable = true)\n",
      " |-- boat: string (nullable = true)\n",
      " |-- body: integer (nullable = true)\n",
      " |-- home.dest: string (nullable = true)\n",
      "\n"
     ]
    }
   ],
   "source": [
    "data.printSchema()"
   ]
  },
  {
   "cell_type": "markdown",
   "metadata": {},
   "source": [
    "Show Data Types"
   ]
  },
  {
   "cell_type": "code",
   "execution_count": 6,
   "metadata": {},
   "outputs": [
    {
     "data": {
      "text/plain": [
       "[('pclass', 'int'),\n",
       " ('survived', 'int'),\n",
       " ('name', 'string'),\n",
       " ('sex', 'string'),\n",
       " ('age', 'double'),\n",
       " ('sibsp', 'int'),\n",
       " ('parch', 'int'),\n",
       " ('ticket', 'string'),\n",
       " ('fare', 'double'),\n",
       " ('cabin', 'string'),\n",
       " ('embarked', 'string'),\n",
       " ('boat', 'string'),\n",
       " ('body', 'int'),\n",
       " ('home.dest', 'string')]"
      ]
     },
     "execution_count": 6,
     "metadata": {},
     "output_type": "execute_result"
    }
   ],
   "source": [
    "data.dtypes"
   ]
  },
  {
   "cell_type": "markdown",
   "metadata": {},
   "source": [
    "Register a DataFrame as an SQL Temporary View"
   ]
  },
  {
   "cell_type": "code",
   "execution_count": 7,
   "metadata": {},
   "outputs": [],
   "source": [
    "data.createOrReplaceTempView('titanic')"
   ]
  },
  {
   "cell_type": "markdown",
   "metadata": {},
   "source": [
    "Select 5 records"
   ]
  },
  {
   "cell_type": "code",
   "execution_count": 8,
   "metadata": {},
   "outputs": [
    {
     "name": "stdout",
     "output_type": "stream",
     "text": [
      "+------+--------+--------------------+------+------+-----+-----+------+--------+-------+--------+----+----+--------------------+\n",
      "|pclass|survived|                name|   sex|   age|sibsp|parch|ticket|    fare|  cabin|embarked|boat|body|           home.dest|\n",
      "+------+--------+--------------------+------+------+-----+-----+------+--------+-------+--------+----+----+--------------------+\n",
      "|     1|       1|Allen, Miss. Elis...|female|  29.0|    0|    0| 24160|211.3375|     B5|       S|   2|null|        St Louis, MO|\n",
      "|     1|       1|Allison, Master. ...|  male|0.9167|    1|    2|113781|  151.55|C22 C26|       S|  11|null|Montreal, PQ / Ch...|\n",
      "|     1|       0|Allison, Miss. He...|female|   2.0|    1|    2|113781|  151.55|C22 C26|       S|null|null|Montreal, PQ / Ch...|\n",
      "|     1|       0|Allison, Mr. Huds...|  male|  30.0|    1|    2|113781|  151.55|C22 C26|       S|null| 135|Montreal, PQ / Ch...|\n",
      "|     1|       0|Allison, Mrs. Hud...|female|  25.0|    1|    2|113781|  151.55|C22 C26|       S|null|null|Montreal, PQ / Ch...|\n",
      "+------+--------+--------------------+------+------+-----+-----+------+--------+-------+--------+----+----+--------------------+\n",
      "\n"
     ]
    }
   ],
   "source": [
    "ss.sql(\"SELECT * FROM titanic limit 5\").show()"
   ]
  },
  {
   "cell_type": "markdown",
   "metadata": {},
   "source": [
    "Get number of Passengers in Each Class"
   ]
  },
  {
   "cell_type": "code",
   "execution_count": 9,
   "metadata": {},
   "outputs": [
    {
     "name": "stdout",
     "output_type": "stream",
     "text": [
      "+---------------+--------------------+\n",
      "|Passenger_Class|Number_of_Passengers|\n",
      "+---------------+--------------------+\n",
      "|           null|                   1|\n",
      "|              1|                 323|\n",
      "|              3|                 709|\n",
      "|              2|                 277|\n",
      "+---------------+--------------------+\n",
      "\n"
     ]
    }
   ],
   "source": [
    "ss.sql(\"SELECT pclass AS Passenger_Class, COUNT(*) AS Number_of_Passengers FROM titanic GROUP BY pclass\").show()"
   ]
  },
  {
   "cell_type": "markdown",
   "metadata": {},
   "source": [
    "## Mathematical Functions"
   ]
  },
  {
   "cell_type": "markdown",
   "metadata": {},
   "source": [
    "Get First, Last, Min, Max, Mean and Total fare of Passenger"
   ]
  },
  {
   "cell_type": "code",
   "execution_count": 10,
   "metadata": {},
   "outputs": [
    {
     "name": "stdout",
     "output_type": "stream",
     "text": [
      "+------------+-----------+--------+--------+-----------------+----------------+\n",
      "|First_Record|Last_Record|Min_Fare|Max_Fare|     Average_fare|      Total_fare|\n",
      "+------------+-----------+--------+--------+-----------------+----------------+\n",
      "|    211.3375|       null|     0.0|512.3292|33.29547928134572|43550.4869000002|\n",
      "+------------+-----------+--------+--------+-----------------+----------------+\n",
      "\n"
     ]
    }
   ],
   "source": [
    "ss.sql(\"SELECT FIRST(fare) AS First_Record, LAST(fare) AS Last_Record,MIN(fare) AS Min_Fare, MAX(fare) AS Max_Fare,AVG(fare) AS Average_fare, SUM(fare) AS Total_fare FROM titanic\").show()"
   ]
  },
  {
   "cell_type": "markdown",
   "metadata": {},
   "source": [
    "Get Standard Deviation of the fare for passengers"
   ]
  },
  {
   "cell_type": "code",
   "execution_count": 11,
   "metadata": {},
   "outputs": [
    {
     "name": "stdout",
     "output_type": "stream",
     "text": [
      "+-----------------------+\n",
      "|Fare_Standard_Deviation|\n",
      "+-----------------------+\n",
      "|      51.75866823917421|\n",
      "+-----------------------+\n",
      "\n"
     ]
    }
   ],
   "source": [
    "ss.sql(\"SELECT stddev(fare) AS Fare_Standard_Deviation FROM titanic\").show()"
   ]
  },
  {
   "cell_type": "markdown",
   "metadata": {},
   "source": [
    "Get Variance of fare distribution of the passengers"
   ]
  },
  {
   "cell_type": "code",
   "execution_count": 12,
   "metadata": {},
   "outputs": [
    {
     "name": "stdout",
     "output_type": "stream",
     "text": [
      "+------------------+\n",
      "|     Fare_Variance|\n",
      "+------------------+\n",
      "|2678.9597378929016|\n",
      "+------------------+\n",
      "\n"
     ]
    }
   ],
   "source": [
    "ss.sql(\"SELECT variance(fare) AS Fare_Variance FROM titanic\").show()"
   ]
  },
  {
   "cell_type": "markdown",
   "metadata": {},
   "source": [
    "Get Skewness of fare distribution of the passenger"
   ]
  },
  {
   "cell_type": "code",
   "execution_count": 13,
   "metadata": {},
   "outputs": [
    {
     "name": "stdout",
     "output_type": "stream",
     "text": [
      "+-----------------+\n",
      "|   skewness(fare)|\n",
      "+-----------------+\n",
      "|4.362698696939598|\n",
      "+-----------------+\n",
      "\n"
     ]
    }
   ],
   "source": [
    "ss.sql(\"SELECT skewness(fare) FROM titanic\").show()"
   ]
  },
  {
   "cell_type": "markdown",
   "metadata": {},
   "source": [
    "Get kurtosis of the fare distribution"
   ]
  },
  {
   "cell_type": "code",
   "execution_count": 14,
   "metadata": {},
   "outputs": [
    {
     "name": "stdout",
     "output_type": "stream",
     "text": [
      "+-----------------+\n",
      "|         Kurtosis|\n",
      "+-----------------+\n",
      "|26.92019523184775|\n",
      "+-----------------+\n",
      "\n"
     ]
    }
   ],
   "source": [
    "ss.sql(\"SELECT kurtosis(fare) AS Kurtosis FROM titanic\").show()"
   ]
  },
  {
   "cell_type": "markdown",
   "metadata": {},
   "source": [
    "## Analytical Functions"
   ]
  },
  {
   "cell_type": "code",
   "execution_count": 15,
   "metadata": {},
   "outputs": [],
   "source": [
    "from pyspark.sql.window import Window\n",
    "from pyspark.sql.functions import row_number"
   ]
  },
  {
   "cell_type": "code",
   "execution_count": 16,
   "metadata": {},
   "outputs": [],
   "source": [
    "df=data['pclass','name','survived','fare']"
   ]
  },
  {
   "cell_type": "markdown",
   "metadata": {},
   "source": [
    "row number Window Function. This function returns sequential row number starting from 1 to the result of each window partition"
   ]
  },
  {
   "cell_type": "code",
   "execution_count": 17,
   "metadata": {},
   "outputs": [],
   "source": [
    "win_function=Window.partitionBy(\"pclass\").orderBy(\"fare\")"
   ]
  },
  {
   "cell_type": "code",
   "execution_count": 18,
   "metadata": {},
   "outputs": [
    {
     "name": "stdout",
     "output_type": "stream",
     "text": [
      "+------+----------------------------------------------------+--------+-------+----------+\n",
      "|pclass|name                                                |survived|fare   |Row_Number|\n",
      "+------+----------------------------------------------------+--------+-------+----------+\n",
      "|null  |null                                                |null    |null   |1         |\n",
      "|1     |Andrews, Mr. Thomas Jr                              |0       |0.0    |1         |\n",
      "|1     |Chisholm, Mr. Roderick Robert Crispin               |0       |0.0    |2         |\n",
      "|1     |Fry, Mr. Richard                                    |0       |0.0    |3         |\n",
      "|1     |Harrison, Mr. William                               |0       |0.0    |4         |\n",
      "|1     |Ismay, Mr. Joseph Bruce                             |1       |0.0    |5         |\n",
      "|1     |Parr, Mr. William Henry Marsh                       |0       |0.0    |6         |\n",
      "|1     |Reuchlin, Jonkheer. John George                     |0       |0.0    |7         |\n",
      "|1     |Carlsson, Mr. Frans Olof                            |0       |5.0    |8         |\n",
      "|1     |Colley, Mr. Edward Pomeroy                          |0       |25.5875|9         |\n",
      "|1     |Cornell, Mrs. Robert Clifford (Malvina Helen Lamson)|1       |25.7   |10        |\n",
      "|1     |Omont, Mr. Alfred Fernand                           |1       |25.7417|11        |\n",
      "|1     |Baumann, Mr. John D                                 |0       |25.925 |12        |\n",
      "|1     |Leader, Dr. Alice (Farnham)                         |1       |25.9292|13        |\n",
      "|1     |Swift, Mrs. Frederick Joel (Margaret Welles Barron) |1       |25.9292|14        |\n",
      "|1     |Birnbaum, Mr. Jakob                                 |0       |26.0   |15        |\n",
      "|1     |Case, Mr. Howard Brown                              |0       |26.0   |16        |\n",
      "|1     |Jones, Mr. Charles Cresson                          |0       |26.0   |17        |\n",
      "|1     |Julian, Mr. Henry Forbes                            |0       |26.0   |18        |\n",
      "|1     |Maguire, Mr. John Edward                            |0       |26.0   |19        |\n",
      "+------+----------------------------------------------------+--------+-------+----------+\n",
      "only showing top 20 rows\n",
      "\n"
     ]
    }
   ],
   "source": [
    "df.withColumn(\"Row_Number\",row_number().over(win_function)).show(truncate=False)"
   ]
  },
  {
   "cell_type": "markdown",
   "metadata": {},
   "source": [
    "rank() window function. This function returns a rank to the result within a window partition while leaving gaps where there is duplicates"
   ]
  },
  {
   "cell_type": "code",
   "execution_count": 19,
   "metadata": {},
   "outputs": [
    {
     "name": "stdout",
     "output_type": "stream",
     "text": [
      "+------+----------------------------------------------------+--------+-------+----+\n",
      "|pclass|name                                                |survived|fare   |Rank|\n",
      "+------+----------------------------------------------------+--------+-------+----+\n",
      "|null  |null                                                |null    |null   |1   |\n",
      "|1     |Andrews, Mr. Thomas Jr                              |0       |0.0    |1   |\n",
      "|1     |Chisholm, Mr. Roderick Robert Crispin               |0       |0.0    |1   |\n",
      "|1     |Fry, Mr. Richard                                    |0       |0.0    |1   |\n",
      "|1     |Harrison, Mr. William                               |0       |0.0    |1   |\n",
      "|1     |Ismay, Mr. Joseph Bruce                             |1       |0.0    |1   |\n",
      "|1     |Parr, Mr. William Henry Marsh                       |0       |0.0    |1   |\n",
      "|1     |Reuchlin, Jonkheer. John George                     |0       |0.0    |1   |\n",
      "|1     |Carlsson, Mr. Frans Olof                            |0       |5.0    |8   |\n",
      "|1     |Colley, Mr. Edward Pomeroy                          |0       |25.5875|9   |\n",
      "|1     |Cornell, Mrs. Robert Clifford (Malvina Helen Lamson)|1       |25.7   |10  |\n",
      "|1     |Omont, Mr. Alfred Fernand                           |1       |25.7417|11  |\n",
      "|1     |Baumann, Mr. John D                                 |0       |25.925 |12  |\n",
      "|1     |Leader, Dr. Alice (Farnham)                         |1       |25.9292|13  |\n",
      "|1     |Swift, Mrs. Frederick Joel (Margaret Welles Barron) |1       |25.9292|13  |\n",
      "|1     |Birnbaum, Mr. Jakob                                 |0       |26.0   |15  |\n",
      "|1     |Case, Mr. Howard Brown                              |0       |26.0   |15  |\n",
      "|1     |Jones, Mr. Charles Cresson                          |0       |26.0   |15  |\n",
      "|1     |Julian, Mr. Henry Forbes                            |0       |26.0   |15  |\n",
      "|1     |Maguire, Mr. John Edward                            |0       |26.0   |15  |\n",
      "+------+----------------------------------------------------+--------+-------+----+\n",
      "only showing top 20 rows\n",
      "\n"
     ]
    }
   ],
   "source": [
    "from pyspark.sql.functions import rank\n",
    "\n",
    "df.withColumn(\"Rank\", rank().over(win_function)).show(truncate=False)"
   ]
  },
  {
   "cell_type": "markdown",
   "metadata": {},
   "source": [
    "dense_rank() window function. This function returns a rank to the result within a window partition without leaving gaps where there is duplicates"
   ]
  },
  {
   "cell_type": "code",
   "execution_count": 20,
   "metadata": {},
   "outputs": [
    {
     "name": "stdout",
     "output_type": "stream",
     "text": [
      "+------+----------------------------------------------------+--------+-------+----------+\n",
      "|pclass|name                                                |survived|fare   |Dense_Rank|\n",
      "+------+----------------------------------------------------+--------+-------+----------+\n",
      "|null  |null                                                |null    |null   |1         |\n",
      "|1     |Andrews, Mr. Thomas Jr                              |0       |0.0    |1         |\n",
      "|1     |Chisholm, Mr. Roderick Robert Crispin               |0       |0.0    |1         |\n",
      "|1     |Fry, Mr. Richard                                    |0       |0.0    |1         |\n",
      "|1     |Harrison, Mr. William                               |0       |0.0    |1         |\n",
      "|1     |Ismay, Mr. Joseph Bruce                             |1       |0.0    |1         |\n",
      "|1     |Parr, Mr. William Henry Marsh                       |0       |0.0    |1         |\n",
      "|1     |Reuchlin, Jonkheer. John George                     |0       |0.0    |1         |\n",
      "|1     |Carlsson, Mr. Frans Olof                            |0       |5.0    |2         |\n",
      "|1     |Colley, Mr. Edward Pomeroy                          |0       |25.5875|3         |\n",
      "|1     |Cornell, Mrs. Robert Clifford (Malvina Helen Lamson)|1       |25.7   |4         |\n",
      "|1     |Omont, Mr. Alfred Fernand                           |1       |25.7417|5         |\n",
      "|1     |Baumann, Mr. John D                                 |0       |25.925 |6         |\n",
      "|1     |Leader, Dr. Alice (Farnham)                         |1       |25.9292|7         |\n",
      "|1     |Swift, Mrs. Frederick Joel (Margaret Welles Barron) |1       |25.9292|7         |\n",
      "|1     |Birnbaum, Mr. Jakob                                 |0       |26.0   |8         |\n",
      "|1     |Case, Mr. Howard Brown                              |0       |26.0   |8         |\n",
      "|1     |Jones, Mr. Charles Cresson                          |0       |26.0   |8         |\n",
      "|1     |Julian, Mr. Henry Forbes                            |0       |26.0   |8         |\n",
      "|1     |Maguire, Mr. John Edward                            |0       |26.0   |8         |\n",
      "+------+----------------------------------------------------+--------+-------+----------+\n",
      "only showing top 20 rows\n",
      "\n"
     ]
    }
   ],
   "source": [
    "from pyspark.sql.functions import dense_rank\n",
    "\n",
    "df.withColumn(\"Dense_Rank\",dense_rank().over(win_function)).show(truncate=False)"
   ]
  },
  {
   "cell_type": "markdown",
   "metadata": {},
   "source": [
    "percent_rank Window Function. The PERCENT_RANK function computes the rank of the passenger's fare within a passenger class (pclass) as a percentage"
   ]
  },
  {
   "cell_type": "code",
   "execution_count": 21,
   "metadata": {},
   "outputs": [
    {
     "name": "stdout",
     "output_type": "stream",
     "text": [
      "+------+----------------------------------------------------+--------+-------+--------------------+\n",
      "|pclass|name                                                |survived|fare   |Percent_Rank        |\n",
      "+------+----------------------------------------------------+--------+-------+--------------------+\n",
      "|null  |null                                                |null    |null   |0.0                 |\n",
      "|1     |Andrews, Mr. Thomas Jr                              |0       |0.0    |0.0                 |\n",
      "|1     |Chisholm, Mr. Roderick Robert Crispin               |0       |0.0    |0.0                 |\n",
      "|1     |Fry, Mr. Richard                                    |0       |0.0    |0.0                 |\n",
      "|1     |Harrison, Mr. William                               |0       |0.0    |0.0                 |\n",
      "|1     |Ismay, Mr. Joseph Bruce                             |1       |0.0    |0.0                 |\n",
      "|1     |Parr, Mr. William Henry Marsh                       |0       |0.0    |0.0                 |\n",
      "|1     |Reuchlin, Jonkheer. John George                     |0       |0.0    |0.0                 |\n",
      "|1     |Carlsson, Mr. Frans Olof                            |0       |5.0    |0.021739130434782608|\n",
      "|1     |Colley, Mr. Edward Pomeroy                          |0       |25.5875|0.024844720496894408|\n",
      "|1     |Cornell, Mrs. Robert Clifford (Malvina Helen Lamson)|1       |25.7   |0.027950310559006212|\n",
      "|1     |Omont, Mr. Alfred Fernand                           |1       |25.7417|0.031055900621118012|\n",
      "|1     |Baumann, Mr. John D                                 |0       |25.925 |0.034161490683229816|\n",
      "|1     |Leader, Dr. Alice (Farnham)                         |1       |25.9292|0.037267080745341616|\n",
      "|1     |Swift, Mrs. Frederick Joel (Margaret Welles Barron) |1       |25.9292|0.037267080745341616|\n",
      "|1     |Birnbaum, Mr. Jakob                                 |0       |26.0   |0.043478260869565216|\n",
      "|1     |Case, Mr. Howard Brown                              |0       |26.0   |0.043478260869565216|\n",
      "|1     |Jones, Mr. Charles Cresson                          |0       |26.0   |0.043478260869565216|\n",
      "|1     |Julian, Mr. Henry Forbes                            |0       |26.0   |0.043478260869565216|\n",
      "|1     |Maguire, Mr. John Edward                            |0       |26.0   |0.043478260869565216|\n",
      "+------+----------------------------------------------------+--------+-------+--------------------+\n",
      "only showing top 20 rows\n",
      "\n"
     ]
    }
   ],
   "source": [
    "from pyspark.sql.functions import percent_rank\n",
    "df.withColumn(\"Percent_Rank\",percent_rank().over(win_function)).show(truncate=False)"
   ]
  },
  {
   "cell_type": "markdown",
   "metadata": {},
   "source": [
    "cume_dist Window Function. This function returns the cumulative distribution of values within a window partition"
   ]
  },
  {
   "cell_type": "code",
   "execution_count": 22,
   "metadata": {},
   "outputs": [
    {
     "name": "stdout",
     "output_type": "stream",
     "text": [
      "+------+----------------------------------------------------+--------+-------+--------------------+\n",
      "|pclass|name                                                |survived|fare   |Cummulative_Dist    |\n",
      "+------+----------------------------------------------------+--------+-------+--------------------+\n",
      "|null  |null                                                |null    |null   |1.0                 |\n",
      "|1     |Andrews, Mr. Thomas Jr                              |0       |0.0    |0.021671826625386997|\n",
      "|1     |Chisholm, Mr. Roderick Robert Crispin               |0       |0.0    |0.021671826625386997|\n",
      "|1     |Fry, Mr. Richard                                    |0       |0.0    |0.021671826625386997|\n",
      "|1     |Harrison, Mr. William                               |0       |0.0    |0.021671826625386997|\n",
      "|1     |Ismay, Mr. Joseph Bruce                             |1       |0.0    |0.021671826625386997|\n",
      "|1     |Parr, Mr. William Henry Marsh                       |0       |0.0    |0.021671826625386997|\n",
      "|1     |Reuchlin, Jonkheer. John George                     |0       |0.0    |0.021671826625386997|\n",
      "|1     |Carlsson, Mr. Frans Olof                            |0       |5.0    |0.02476780185758514 |\n",
      "|1     |Colley, Mr. Edward Pomeroy                          |0       |25.5875|0.02786377708978328 |\n",
      "|1     |Cornell, Mrs. Robert Clifford (Malvina Helen Lamson)|1       |25.7   |0.030959752321981424|\n",
      "|1     |Omont, Mr. Alfred Fernand                           |1       |25.7417|0.034055727554179564|\n",
      "|1     |Baumann, Mr. John D                                 |0       |25.925 |0.03715170278637771 |\n",
      "|1     |Leader, Dr. Alice (Farnham)                         |1       |25.9292|0.043343653250773995|\n",
      "|1     |Swift, Mrs. Frederick Joel (Margaret Welles Barron) |1       |25.9292|0.043343653250773995|\n",
      "|1     |Birnbaum, Mr. Jakob                                 |0       |26.0   |0.06811145510835913 |\n",
      "|1     |Case, Mr. Howard Brown                              |0       |26.0   |0.06811145510835913 |\n",
      "|1     |Jones, Mr. Charles Cresson                          |0       |26.0   |0.06811145510835913 |\n",
      "|1     |Julian, Mr. Henry Forbes                            |0       |26.0   |0.06811145510835913 |\n",
      "|1     |Maguire, Mr. John Edward                            |0       |26.0   |0.06811145510835913 |\n",
      "+------+----------------------------------------------------+--------+-------+--------------------+\n",
      "only showing top 20 rows\n",
      "\n"
     ]
    }
   ],
   "source": [
    "from pyspark.sql.functions import cume_dist\n",
    "df.withColumn(\"Cummulative_Dist\",cume_dist().over(win_function)).show(truncate=False)"
   ]
  },
  {
   "cell_type": "markdown",
   "metadata": {},
   "source": [
    "lag Window Function. Returns the previous value"
   ]
  },
  {
   "cell_type": "code",
   "execution_count": 23,
   "metadata": {},
   "outputs": [
    {
     "name": "stdout",
     "output_type": "stream",
     "text": [
      "+------+--------------------+--------+-------+-------------+\n",
      "|pclass|                name|survived|   fare|Previous_Fare|\n",
      "+------+--------------------+--------+-------+-------------+\n",
      "|  null|                null|    null|   null|         null|\n",
      "|     1|Andrews, Mr. Thom...|       0|    0.0|         null|\n",
      "|     1|Chisholm, Mr. Rod...|       0|    0.0|          0.0|\n",
      "|     1|    Fry, Mr. Richard|       0|    0.0|          0.0|\n",
      "|     1|Harrison, Mr. Wil...|       0|    0.0|          0.0|\n",
      "|     1|Ismay, Mr. Joseph...|       1|    0.0|          0.0|\n",
      "|     1|Parr, Mr. William...|       0|    0.0|          0.0|\n",
      "|     1|Reuchlin, Jonkhee...|       0|    0.0|          0.0|\n",
      "|     1|Carlsson, Mr. Fra...|       0|    5.0|          0.0|\n",
      "|     1|Colley, Mr. Edwar...|       0|25.5875|          5.0|\n",
      "|     1|Cornell, Mrs. Rob...|       1|   25.7|      25.5875|\n",
      "|     1|Omont, Mr. Alfred...|       1|25.7417|         25.7|\n",
      "|     1| Baumann, Mr. John D|       0| 25.925|      25.7417|\n",
      "|     1|Leader, Dr. Alice...|       1|25.9292|       25.925|\n",
      "|     1|Swift, Mrs. Frede...|       1|25.9292|      25.9292|\n",
      "|     1| Birnbaum, Mr. Jakob|       0|   26.0|      25.9292|\n",
      "|     1|Case, Mr. Howard ...|       0|   26.0|         26.0|\n",
      "|     1|Jones, Mr. Charle...|       0|   26.0|         26.0|\n",
      "|     1|Julian, Mr. Henry...|       0|   26.0|         26.0|\n",
      "|     1|Maguire, Mr. John...|       0|   26.0|         26.0|\n",
      "+------+--------------------+--------+-------+-------------+\n",
      "only showing top 20 rows\n",
      "\n"
     ]
    }
   ],
   "source": [
    "from pyspark.sql.functions import lag\n",
    "\n",
    "df.withColumn(\"Previous_Fare\",lag(\"fare\",1).over(win_function)).show()"
   ]
  },
  {
   "cell_type": "markdown",
   "metadata": {},
   "source": [
    "lead Window Function. Returns the next value"
   ]
  },
  {
   "cell_type": "code",
   "execution_count": 24,
   "metadata": {},
   "outputs": [
    {
     "name": "stdout",
     "output_type": "stream",
     "text": [
      "+------+----------------------------------------------------+--------+-------+---------+\n",
      "|pclass|name                                                |survived|fare   |Next_Fare|\n",
      "+------+----------------------------------------------------+--------+-------+---------+\n",
      "|null  |null                                                |null    |null   |null     |\n",
      "|1     |Andrews, Mr. Thomas Jr                              |0       |0.0    |0.0      |\n",
      "|1     |Chisholm, Mr. Roderick Robert Crispin               |0       |0.0    |0.0      |\n",
      "|1     |Fry, Mr. Richard                                    |0       |0.0    |0.0      |\n",
      "|1     |Harrison, Mr. William                               |0       |0.0    |0.0      |\n",
      "|1     |Ismay, Mr. Joseph Bruce                             |1       |0.0    |0.0      |\n",
      "|1     |Parr, Mr. William Henry Marsh                       |0       |0.0    |0.0      |\n",
      "|1     |Reuchlin, Jonkheer. John George                     |0       |0.0    |5.0      |\n",
      "|1     |Carlsson, Mr. Frans Olof                            |0       |5.0    |25.5875  |\n",
      "|1     |Colley, Mr. Edward Pomeroy                          |0       |25.5875|25.7     |\n",
      "|1     |Cornell, Mrs. Robert Clifford (Malvina Helen Lamson)|1       |25.7   |25.7417  |\n",
      "|1     |Omont, Mr. Alfred Fernand                           |1       |25.7417|25.925   |\n",
      "|1     |Baumann, Mr. John D                                 |0       |25.925 |25.9292  |\n",
      "|1     |Leader, Dr. Alice (Farnham)                         |1       |25.9292|25.9292  |\n",
      "|1     |Swift, Mrs. Frederick Joel (Margaret Welles Barron) |1       |25.9292|26.0     |\n",
      "|1     |Birnbaum, Mr. Jakob                                 |0       |26.0   |26.0     |\n",
      "|1     |Case, Mr. Howard Brown                              |0       |26.0   |26.0     |\n",
      "|1     |Jones, Mr. Charles Cresson                          |0       |26.0   |26.0     |\n",
      "|1     |Julian, Mr. Henry Forbes                            |0       |26.0   |26.0     |\n",
      "|1     |Maguire, Mr. John Edward                            |0       |26.0   |26.0     |\n",
      "+------+----------------------------------------------------+--------+-------+---------+\n",
      "only showing top 20 rows\n",
      "\n"
     ]
    }
   ],
   "source": [
    "from pyspark.sql.functions import lead\n",
    "\n",
    "df.withColumn(\"Next_Fare\",lead(\"fare\",1).over(win_function)).show(truncate=False)"
   ]
  },
  {
   "cell_type": "code",
   "execution_count": null,
   "metadata": {},
   "outputs": [],
   "source": []
  }
 ],
 "metadata": {
  "kernelspec": {
   "display_name": "Python 3",
   "language": "python",
   "name": "python3"
  },
  "language_info": {
   "codemirror_mode": {
    "name": "ipython",
    "version": 3
   },
   "file_extension": ".py",
   "mimetype": "text/x-python",
   "name": "python",
   "nbconvert_exporter": "python",
   "pygments_lexer": "ipython3",
   "version": "3.6.5"
  }
 },
 "nbformat": 4,
 "nbformat_minor": 2
}
