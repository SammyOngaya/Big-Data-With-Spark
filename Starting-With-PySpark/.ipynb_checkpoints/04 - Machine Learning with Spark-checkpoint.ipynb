{
 "cells": [
  {
   "cell_type": "markdown",
   "metadata": {},
   "source": [
    "### Import Libraries"
   ]
  },
  {
   "cell_type": "markdown",
   "metadata": {},
   "source": [
    "Use Jupyter Notebook as Spark IDE"
   ]
  },
  {
   "cell_type": "code",
   "execution_count": 1,
   "metadata": {},
   "outputs": [],
   "source": [
    "import findspark\n",
    "findspark.init()"
   ]
  },
  {
   "cell_type": "markdown",
   "metadata": {},
   "source": [
    "Import required libraries"
   ]
  },
  {
   "cell_type": "code",
   "execution_count": 2,
   "metadata": {},
   "outputs": [],
   "source": [
    "from pyspark import SparkContext\n",
    "from pyspark.sql import SparkSession"
   ]
  },
  {
   "cell_type": "code",
   "execution_count": 3,
   "metadata": {},
   "outputs": [],
   "source": [
    "sc=SparkContext.getOrCreate()\n",
    "ss=SparkSession(sc)"
   ]
  },
  {
   "cell_type": "markdown",
   "metadata": {},
   "source": [
    "### Load Data"
   ]
  },
  {
   "cell_type": "markdown",
   "metadata": {},
   "source": [
    "Load data"
   ]
  },
  {
   "cell_type": "code",
   "execution_count": 4,
   "metadata": {},
   "outputs": [],
   "source": [
    "data=ss.read.csv(\"../data/titanic.csv\",inferSchema=True, header=True)"
   ]
  },
  {
   "cell_type": "code",
   "execution_count": 5,
   "metadata": {},
   "outputs": [
    {
     "data": {
      "text/plain": [
       "DataFrame[pclass: int, survived: int, name: string, sex: string, age: double, sibsp: int, parch: int, ticket: string, fare: double, cabin: string, embarked: string, boat: string, body: int, home.dest: string]"
      ]
     },
     "execution_count": 5,
     "metadata": {},
     "output_type": "execute_result"
    }
   ],
   "source": [
    "data.cache()"
   ]
  },
  {
   "cell_type": "markdown",
   "metadata": {},
   "source": [
    "Get data structure"
   ]
  },
  {
   "cell_type": "code",
   "execution_count": 6,
   "metadata": {},
   "outputs": [
    {
     "name": "stdout",
     "output_type": "stream",
     "text": [
      "root\n",
      " |-- pclass: integer (nullable = true)\n",
      " |-- survived: integer (nullable = true)\n",
      " |-- name: string (nullable = true)\n",
      " |-- sex: string (nullable = true)\n",
      " |-- age: double (nullable = true)\n",
      " |-- sibsp: integer (nullable = true)\n",
      " |-- parch: integer (nullable = true)\n",
      " |-- ticket: string (nullable = true)\n",
      " |-- fare: double (nullable = true)\n",
      " |-- cabin: string (nullable = true)\n",
      " |-- embarked: string (nullable = true)\n",
      " |-- boat: string (nullable = true)\n",
      " |-- body: integer (nullable = true)\n",
      " |-- home.dest: string (nullable = true)\n",
      "\n"
     ]
    }
   ],
   "source": [
    "data.printSchema()"
   ]
  },
  {
   "cell_type": "markdown",
   "metadata": {},
   "source": [
    "Get first 5 records"
   ]
  },
  {
   "cell_type": "code",
   "execution_count": 7,
   "metadata": {},
   "outputs": [
    {
     "name": "stdout",
     "output_type": "stream",
     "text": [
      "+------+--------+--------------------+------+------+-----+-----+------+--------+-------+--------+----+----+--------------------+\n",
      "|pclass|survived|                name|   sex|   age|sibsp|parch|ticket|    fare|  cabin|embarked|boat|body|           home.dest|\n",
      "+------+--------+--------------------+------+------+-----+-----+------+--------+-------+--------+----+----+--------------------+\n",
      "|     1|       1|Allen, Miss. Elis...|female|  29.0|    0|    0| 24160|211.3375|     B5|       S|   2|null|        St Louis, MO|\n",
      "|     1|       1|Allison, Master. ...|  male|0.9167|    1|    2|113781|  151.55|C22 C26|       S|  11|null|Montreal, PQ / Ch...|\n",
      "|     1|       0|Allison, Miss. He...|female|   2.0|    1|    2|113781|  151.55|C22 C26|       S|null|null|Montreal, PQ / Ch...|\n",
      "|     1|       0|Allison, Mr. Huds...|  male|  30.0|    1|    2|113781|  151.55|C22 C26|       S|null| 135|Montreal, PQ / Ch...|\n",
      "|     1|       0|Allison, Mrs. Hud...|female|  25.0|    1|    2|113781|  151.55|C22 C26|       S|null|null|Montreal, PQ / Ch...|\n",
      "+------+--------+--------------------+------+------+-----+-----+------+--------+-------+--------+----+----+--------------------+\n",
      "only showing top 5 rows\n",
      "\n"
     ]
    }
   ],
   "source": [
    "data.show(5)"
   ]
  },
  {
   "cell_type": "code",
   "execution_count": 8,
   "metadata": {},
   "outputs": [],
   "source": [
    "data=data[['pclass','survived','sex','age','sibsp','parch','fare','embarked','cabin']]"
   ]
  },
  {
   "cell_type": "code",
   "execution_count": 9,
   "metadata": {},
   "outputs": [
    {
     "name": "stdout",
     "output_type": "stream",
     "text": [
      "+------+--------+------+------+-----+-----+--------+--------+-------+\n",
      "|pclass|survived|   sex|   age|sibsp|parch|    fare|embarked|  cabin|\n",
      "+------+--------+------+------+-----+-----+--------+--------+-------+\n",
      "|     1|       1|female|  29.0|    0|    0|211.3375|       S|     B5|\n",
      "|     1|       1|  male|0.9167|    1|    2|  151.55|       S|C22 C26|\n",
      "|     1|       0|female|   2.0|    1|    2|  151.55|       S|C22 C26|\n",
      "|     1|       0|  male|  30.0|    1|    2|  151.55|       S|C22 C26|\n",
      "|     1|       0|female|  25.0|    1|    2|  151.55|       S|C22 C26|\n",
      "+------+--------+------+------+-----+-----+--------+--------+-------+\n",
      "only showing top 5 rows\n",
      "\n"
     ]
    }
   ],
   "source": [
    "data.show(5)"
   ]
  },
  {
   "cell_type": "code",
   "execution_count": 10,
   "metadata": {},
   "outputs": [],
   "source": [
    "data=data.dropna()"
   ]
  },
  {
   "cell_type": "code",
   "execution_count": 11,
   "metadata": {
    "scrolled": true
   },
   "outputs": [
    {
     "name": "stdout",
     "output_type": "stream",
     "text": [
      "+------+--------+------+------+-----+-----+--------+--------+-------+\n",
      "|pclass|survived|   sex|   age|sibsp|parch|    fare|embarked|  cabin|\n",
      "+------+--------+------+------+-----+-----+--------+--------+-------+\n",
      "|     1|       1|female|  29.0|    0|    0|211.3375|       S|     B5|\n",
      "|     1|       1|  male|0.9167|    1|    2|  151.55|       S|C22 C26|\n",
      "|     1|       0|female|   2.0|    1|    2|  151.55|       S|C22 C26|\n",
      "|     1|       0|  male|  30.0|    1|    2|  151.55|       S|C22 C26|\n",
      "|     1|       0|female|  25.0|    1|    2|  151.55|       S|C22 C26|\n",
      "+------+--------+------+------+-----+-----+--------+--------+-------+\n",
      "only showing top 5 rows\n",
      "\n"
     ]
    }
   ],
   "source": [
    "data.show(5)"
   ]
  },
  {
   "cell_type": "markdown",
   "metadata": {},
   "source": [
    "### Preprocess Data"
   ]
  },
  {
   "cell_type": "markdown",
   "metadata": {},
   "source": [
    "Create Feature"
   ]
  },
  {
   "cell_type": "code",
   "execution_count": 12,
   "metadata": {},
   "outputs": [],
   "source": [
    "feature=['pclass','sibsp','parch']"
   ]
  },
  {
   "cell_type": "code",
   "execution_count": 13,
   "metadata": {},
   "outputs": [],
   "source": [
    "from pyspark.ml.feature import VectorAssembler"
   ]
  },
  {
   "cell_type": "code",
   "execution_count": 14,
   "metadata": {},
   "outputs": [
    {
     "name": "stdout",
     "output_type": "stream",
     "text": [
      "+------+--------+------+------+-----+-----+--------+--------+-------+-------------+\n",
      "|pclass|survived|   sex|   age|sibsp|parch|    fare|embarked|  cabin|     features|\n",
      "+------+--------+------+------+-----+-----+--------+--------+-------+-------------+\n",
      "|     1|       1|female|  29.0|    0|    0|211.3375|       S|     B5|[1.0,0.0,0.0]|\n",
      "|     1|       1|  male|0.9167|    1|    2|  151.55|       S|C22 C26|[1.0,1.0,2.0]|\n",
      "|     1|       0|female|   2.0|    1|    2|  151.55|       S|C22 C26|[1.0,1.0,2.0]|\n",
      "|     1|       0|  male|  30.0|    1|    2|  151.55|       S|C22 C26|[1.0,1.0,2.0]|\n",
      "|     1|       0|female|  25.0|    1|    2|  151.55|       S|C22 C26|[1.0,1.0,2.0]|\n",
      "+------+--------+------+------+-----+-----+--------+--------+-------+-------------+\n",
      "only showing top 5 rows\n",
      "\n"
     ]
    }
   ],
   "source": [
    "assembler=VectorAssembler(inputCols=feature, outputCol=\"features\")\n",
    "new_df=assembler.transform(data)\n",
    "new_df.show(5)"
   ]
  },
  {
   "cell_type": "code",
   "execution_count": 15,
   "metadata": {},
   "outputs": [
    {
     "name": "stdout",
     "output_type": "stream",
     "text": [
      "+-------------+--------+\n",
      "|     features|survived|\n",
      "+-------------+--------+\n",
      "|[1.0,0.0,0.0]|       1|\n",
      "|[1.0,1.0,2.0]|       1|\n",
      "|[1.0,1.0,2.0]|       0|\n",
      "|[1.0,1.0,2.0]|       0|\n",
      "|[1.0,1.0,2.0]|       0|\n",
      "+-------------+--------+\n",
      "only showing top 5 rows\n",
      "\n"
     ]
    }
   ],
   "source": [
    "new_df=new_df[['features','survived']]\n",
    "new_df.show(5)"
   ]
  },
  {
   "cell_type": "markdown",
   "metadata": {},
   "source": [
    "Split data into training and testing sets"
   ]
  },
  {
   "cell_type": "code",
   "execution_count": 16,
   "metadata": {},
   "outputs": [],
   "source": [
    "train,test=new_df.randomSplit([0.7,0.3])"
   ]
  },
  {
   "cell_type": "code",
   "execution_count": 17,
   "metadata": {},
   "outputs": [
    {
     "name": "stdout",
     "output_type": "stream",
     "text": [
      "+-------------+--------+\n",
      "|     features|survived|\n",
      "+-------------+--------+\n",
      "|[1.0,0.0,0.0]|       0|\n",
      "|[1.0,0.0,0.0]|       0|\n",
      "|[1.0,0.0,0.0]|       0|\n",
      "|[1.0,0.0,0.0]|       0|\n",
      "|[1.0,0.0,0.0]|       0|\n",
      "+-------------+--------+\n",
      "only showing top 5 rows\n",
      "\n",
      "+-------------+--------+\n",
      "|     features|survived|\n",
      "+-------------+--------+\n",
      "|[1.0,0.0,0.0]|       0|\n",
      "|[1.0,0.0,0.0]|       0|\n",
      "|[1.0,0.0,0.0]|       0|\n",
      "|[1.0,0.0,0.0]|       0|\n",
      "|[1.0,0.0,0.0]|       0|\n",
      "+-------------+--------+\n",
      "only showing top 5 rows\n",
      "\n"
     ]
    },
    {
     "data": {
      "text/plain": [
       "(None, None)"
      ]
     },
     "execution_count": 17,
     "metadata": {},
     "output_type": "execute_result"
    }
   ],
   "source": [
    "train.show(5),test.show(5)"
   ]
  },
  {
   "cell_type": "markdown",
   "metadata": {},
   "source": [
    "### Build ML Model"
   ]
  },
  {
   "cell_type": "code",
   "execution_count": 18,
   "metadata": {},
   "outputs": [],
   "source": [
    "from pyspark.ml.classification import RandomForestClassifier"
   ]
  },
  {
   "cell_type": "code",
   "execution_count": 19,
   "metadata": {},
   "outputs": [],
   "source": [
    "model=RandomForestClassifier(labelCol='survived').fit(train)"
   ]
  },
  {
   "cell_type": "code",
   "execution_count": 20,
   "metadata": {},
   "outputs": [],
   "source": [
    "test_model=model.transform(train)"
   ]
  },
  {
   "cell_type": "markdown",
   "metadata": {},
   "source": [
    "### Evaliate ML Model"
   ]
  },
  {
   "cell_type": "code",
   "execution_count": 21,
   "metadata": {},
   "outputs": [],
   "source": [
    "from pyspark.ml.evaluation import MulticlassClassificationEvaluator"
   ]
  },
  {
   "cell_type": "code",
   "execution_count": 22,
   "metadata": {},
   "outputs": [
    {
     "name": "stdout",
     "output_type": "stream",
     "text": [
      "Accuracy :\n"
     ]
    },
    {
     "data": {
      "text/plain": [
       "0.6684210526315789"
      ]
     },
     "execution_count": 22,
     "metadata": {},
     "output_type": "execute_result"
    }
   ],
   "source": [
    "print(\"Accuracy :\")\n",
    "MulticlassClassificationEvaluator(labelCol='survived',metricName='accuracy').evaluate(test_model)"
   ]
  },
  {
   "cell_type": "code",
   "execution_count": 23,
   "metadata": {},
   "outputs": [
    {
     "name": "stdout",
     "output_type": "stream",
     "text": [
      "Precision :\n"
     ]
    },
    {
     "data": {
      "text/plain": [
       "0.6678487663007786"
      ]
     },
     "execution_count": 23,
     "metadata": {},
     "output_type": "execute_result"
    }
   ],
   "source": [
    "print(\"Precision :\")\n",
    "MulticlassClassificationEvaluator(labelCol='survived', metricName='weightedPrecision').evaluate(test_model)"
   ]
  },
  {
   "cell_type": "code",
   "execution_count": 28,
   "metadata": {
    "scrolled": false
   },
   "outputs": [
    {
     "name": "stdout",
     "output_type": "stream",
     "text": [
      "+-------------+--------+--------------------+--------------------+----------+\n",
      "|     features|survived|       rawPrediction|         probability|prediction|\n",
      "+-------------+--------+--------------------+--------------------+----------+\n",
      "|[1.0,0.0,0.0]|       0|[9.09553343072947...|[0.45477667153647...|       1.0|\n",
      "|[1.0,0.0,0.0]|       0|[9.09553343072947...|[0.45477667153647...|       1.0|\n",
      "|[1.0,0.0,0.0]|       0|[9.09553343072947...|[0.45477667153647...|       1.0|\n",
      "|[1.0,0.0,0.0]|       0|[9.09553343072947...|[0.45477667153647...|       1.0|\n",
      "|[1.0,0.0,0.0]|       0|[9.09553343072947...|[0.45477667153647...|       1.0|\n",
      "+-------------+--------+--------------------+--------------------+----------+\n",
      "only showing top 5 rows\n",
      "\n"
     ]
    }
   ],
   "source": [
    "test_model.show(5)"
   ]
  },
  {
   "cell_type": "code",
   "execution_count": null,
   "metadata": {},
   "outputs": [],
   "source": []
  }
 ],
 "metadata": {
  "kernelspec": {
   "display_name": "Python 3",
   "language": "python",
   "name": "python3"
  },
  "language_info": {
   "codemirror_mode": {
    "name": "ipython",
    "version": 3
   },
   "file_extension": ".py",
   "mimetype": "text/x-python",
   "name": "python",
   "nbconvert_exporter": "python",
   "pygments_lexer": "ipython3",
   "version": "3.6.5"
  }
 },
 "nbformat": 4,
 "nbformat_minor": 2
}
